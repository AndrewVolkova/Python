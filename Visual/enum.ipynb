{
 "cells": [
  {
   "cell_type": "markdown",
   "metadata": {},
   "source": [
    "## Вступление"
   ]
  },
  {
   "cell_type": "markdown",
   "metadata": {},
   "source": [
    "<p style = \"font-size : 20px; color : white ; text-align : center; background-color : darkBlue; border-radius: 5px 5px; padding : 10px\">Enum - крутой инструмент Python для создания перечислений, делает код понятнее,<br>\n",
    "защищает от ошибок и придает <strong><span style = \"color : lightgreen\";>пафоса</span></strong> вашему коду!</p> \n"
   ]
  },
  {
   "cell_type": "markdown",
   "metadata": {},
   "source": [
    "<p style = \"font-size : 20px; color : white ; text-align : left; background-color : DodgerBlue; border-radius: 5px 5px; padding : 10px\"><strong>а теперь 7 явных плюсов</strong></p> \n"
   ]
  },
  {
   "cell_type": "markdown",
   "metadata": {},
   "source": [
    "* `Улучшение читаемости кода`: Перечисления позволяют использовать понятные имена для значений, что делает код более понятным и уменьшает вероятность опечаток или неправильного использования.\n",
    "\n",
    "* `Ограничение допустимых значений`: Путем определения перечисления вы можете задать ограниченный и предопределенный набор возможных значений, что помогает избежать ошибок из-за некорректных данных.\n",
    "\n",
    "* `Защита от изменений в коде`: Если в вашем коде используются \"магические числа\" или произвольные строки для представления определенных состояний, это может привести к проблемам, когда вам приходится изменять код. При использовании Enum изменение и добавление новых значений становится безопасным, так как код, использующий перечисления, останется совместимым.\n",
    "\n",
    "* `Поддержка IDE и автодополнение`: Когда вы используете Enum, ваша IDE (интегрированная среда разработки) может предложить вам доступные значения и помочь избежать ошибок при вводе.\n",
    "\n",
    "* `Семантика кода`: Перечисления являются хорошим способом передать семантику в коде. Когда вы используете перечисления, это делает намерения вашего кода более явными, что упрощает его понимание другими разработчиками.\n",
    "\n",
    "* `Повышение надежности кода`: Используя Enum, вы можете быть уверены, что определенные значения всегда будут корректными, и ваш код станет более надежным.\n",
    "\n",
    "* `Сокращение кода`: При использовании Enum вы можете заменить повторяющиеся значения или строки на их именованные представления, что делает код более компактным и удобочитаемым.\n",
    "\n",
    "\n",
    "\n",
    "\n",
    "\n",
    "\n"
   ]
  },
  {
   "cell_type": "markdown",
   "metadata": {},
   "source": [
    "### Создание класса на базе класса Enum"
   ]
  },
  {
   "cell_type": "code",
   "execution_count": 13,
   "metadata": {},
   "outputs": [],
   "source": [
    "# 1 - MONDAY\n",
    "# 2 - TUESDAY"
   ]
  },
  {
   "cell_type": "code",
   "execution_count": 14,
   "metadata": {},
   "outputs": [],
   "source": [
    "MONDAY = 1\n",
    "TUESDAY = 2"
   ]
  },
  {
   "cell_type": "code",
   "execution_count": 17,
   "metadata": {},
   "outputs": [
    {
     "name": "stdout",
     "output_type": "stream",
     "text": [
      "3\n"
     ]
    }
   ],
   "source": [
    "print(MONDAY)"
   ]
  },
  {
   "cell_type": "code",
   "execution_count": 16,
   "metadata": {},
   "outputs": [],
   "source": [
    "MONDAY = 3"
   ]
  },
  {
   "cell_type": "code",
   "execution_count": 19,
   "metadata": {},
   "outputs": [
    {
     "data": {
      "text/plain": [
       "2"
      ]
     },
     "execution_count": 19,
     "metadata": {},
     "output_type": "execute_result"
    }
   ],
   "source": [
    "day_of_week = {'MONDAY': 1, 'TUESDAY': 2}\n",
    "day_of_week[\"TUESDAY\"]"
   ]
  },
  {
   "cell_type": "code",
   "execution_count": 20,
   "metadata": {},
   "outputs": [
    {
     "name": "stdout",
     "output_type": "stream",
     "text": [
      "MONDAY\n",
      "TUESDAY\n"
     ]
    }
   ],
   "source": [
    "for _ in day_of_week:\n",
    "  print(_)"
   ]
  },
  {
   "cell_type": "code",
   "execution_count": 17,
   "metadata": {},
   "outputs": [],
   "source": [
    "class day_of_week():\n",
    "  MONDAY = 1\n",
    "  TUESDAY = 2"
   ]
  },
  {
   "cell_type": "markdown",
   "metadata": {},
   "source": [
    "#### 1.Способ"
   ]
  },
  {
   "cell_type": "code",
   "execution_count": null,
   "metadata": {},
   "outputs": [],
   "source": [
    "from enum import Enum\n",
    "\n",
    "class Day(Enum):\n",
    "    MONDAY = 1\n",
    "    TUESDAY = 2\n",
    "    WEDNESDAY = 3\n",
    "    THURSDAY = 4\n",
    "    FRIDAY = 5\n",
    "    SATURDAY = 6\n",
    "    SUNDAY = 7\n",
    "\n",
    "list(Day)"
   ]
  },
  {
   "cell_type": "code",
   "execution_count": 4,
   "metadata": {},
   "outputs": [
    {
     "data": {
      "text/plain": [
       "<Day.SATURDAY: 6>"
      ]
     },
     "execution_count": 4,
     "metadata": {},
     "output_type": "execute_result"
    }
   ],
   "source": [
    "Day.SATURDAY"
   ]
  },
  {
   "cell_type": "markdown",
   "metadata": {},
   "source": [
    "#### 2.Способ"
   ]
  },
  {
   "cell_type": "code",
   "execution_count": 5,
   "metadata": {},
   "outputs": [
    {
     "data": {
      "text/plain": [
       "[<Season.WINTER: 1>,\n",
       " <Season.SPRING: 2>,\n",
       " <Season.SUMMER: 3>,\n",
       " <Season.AUTUMN: 4>]"
      ]
     },
     "execution_count": 5,
     "metadata": {},
     "output_type": "execute_result"
    }
   ],
   "source": [
    "class Season(Enum):\n",
    "    WINTER, SPRING, SUMMER, AUTUMN = range(1, 5)\n",
    "\n",
    "list(Season)"
   ]
  },
  {
   "cell_type": "markdown",
   "metadata": {},
   "source": [
    "#### 3.Способ"
   ]
  },
  {
   "cell_type": "code",
   "execution_count": 8,
   "metadata": {},
   "outputs": [
    {
     "data": {
      "text/plain": [
       "[<Day.MONDAY: 1>,\n",
       " <Day.TUESDAY: 2>,\n",
       " <Day.WEDNESDAY: 8>,\n",
       " <Day.THURSDAY: 9>,\n",
       " <Day.FRIDAY: 10>,\n",
       " <Day.SATURDAY: 11>,\n",
       " <Day.SUNDAY: 7>]"
      ]
     },
     "execution_count": 8,
     "metadata": {},
     "output_type": "execute_result"
    }
   ],
   "source": [
    "from enum import auto, Enum\n",
    "\n",
    "class Day(Enum):\n",
    "    MONDAY = auto()\n",
    "    TUESDAY = auto()\n",
    "    WEDNESDAY = 8\n",
    "    THURSDAY = auto()\n",
    "    FRIDAY = auto()\n",
    "    SATURDAY = auto()\n",
    "    SUNDAY = 7\n",
    "\n",
    "\n",
    "list(Day)"
   ]
  },
  {
   "cell_type": "code",
   "execution_count": 9,
   "metadata": {},
   "outputs": [
    {
     "data": {
      "text/plain": [
       "[<Size.S: 'small'>,\n",
       " <Size.M: 'medium'>,\n",
       " <Size.L: 'large'>,\n",
       " <Size.XL: 'extra large'>]"
      ]
     },
     "execution_count": 9,
     "metadata": {},
     "output_type": "execute_result"
    }
   ],
   "source": [
    "from enum import Enum\n",
    "\n",
    "class Size(Enum):\n",
    "    S = \"small\"\n",
    "    M = \"medium\"\n",
    "    L = \"large\"\n",
    "    XL = \"extra large\"\n",
    "\n",
    "list(Size)"
   ]
  },
  {
   "cell_type": "code",
   "execution_count": 11,
   "metadata": {},
   "outputs": [
    {
     "data": {
      "text/plain": [
       "[<CardinalDirection.NORTH: 'N'>,\n",
       " <CardinalDirection.SOUTH: 'S'>,\n",
       " <CardinalDirection.EAST: 'E'>,\n",
       " <CardinalDirection.WEST: 'W'>]"
      ]
     },
     "execution_count": 11,
     "metadata": {},
     "output_type": "execute_result"
    }
   ],
   "source": [
    "class CardinalDirection(Enum):\n",
    "    def _generate_next_value_(name, start, count, last_values):\n",
    "        return name[0]\n",
    "    NORTH = auto()\n",
    "    SOUTH = auto()\n",
    "    EAST = auto()\n",
    "    WEST = auto()\n",
    "list(CardinalDirection)    "
   ]
  },
  {
   "cell_type": "markdown",
   "metadata": {},
   "source": [
    "#### 5. Способ, используя API\n",
    "\n",
    "Enum(<br>\n",
    "    &nbsp;&nbsp;&nbsp;value,<br>\n",
    "    &nbsp;&nbsp;&nbsp;names,<br>\n",
    "    &nbsp;&nbsp;&nbsp;*,<br>\n",
    "    &nbsp;&nbsp;&nbsp;module=None,<br>\n",
    "    &nbsp;&nbsp;&nbsp;qualname=None,<br>\n",
    "    &nbsp;&nbsp;&nbsp;type=None,<br>\n",
    "    &nbsp;&nbsp;&nbsp;start=1<br>\n",
    ")"
   ]
  },
  {
   "cell_type": "code",
   "execution_count": 13,
   "metadata": {},
   "outputs": [
    {
     "data": {
      "text/plain": [
       "<Dayff.WORKINGDAY: 2>"
      ]
     },
     "execution_count": 13,
     "metadata": {},
     "output_type": "execute_result"
    }
   ],
   "source": [
    "DayOff = Enum('Dayff',\\\n",
    "    {'HOLIDAY' : auto(), 'WORKINGDAY' : auto()}\n",
    "    )\n",
    "DayOff.WORKINGDAY"
   ]
  },
  {
   "cell_type": "code",
   "execution_count": 16,
   "metadata": {},
   "outputs": [
    {
     "data": {
      "text/plain": [
       "<DayOff.WORKINGDAY: 2>"
      ]
     },
     "execution_count": 16,
     "metadata": {},
     "output_type": "execute_result"
    }
   ],
   "source": [
    "DayOff = Enum('DayOff',\\\n",
    "    ['HOLIDAY', 'WORKINGDAY'],\n",
    "    start = 1\n",
    "    )\n",
    "DayOff.WORKINGDAY"
   ]
  },
  {
   "cell_type": "code",
   "execution_count": 18,
   "metadata": {},
   "outputs": [
    {
     "data": {
      "text/plain": [
       "<DayOff.WORKINGDAY: False>"
      ]
     },
     "execution_count": 18,
     "metadata": {},
     "output_type": "execute_result"
    }
   ],
   "source": [
    "DayOff = Enum('DayOff',\\\n",
    "    [\n",
    "      ('HOLIDAY', True),\n",
    "      ('WORKINGDAY', False)\n",
    "    ],\n",
    "    # в данном случае игнорируется\n",
    "    start = 3\n",
    "    )\n",
    "DayOff.WORKINGDAY"
   ]
  },
  {
   "cell_type": "markdown",
   "metadata": {},
   "source": [
    "### Альясы"
   ]
  },
  {
   "cell_type": "code",
   "execution_count": 19,
   "metadata": {},
   "outputs": [
    {
     "data": {
      "text/plain": [
       "[<OperatingSystem.UBUNTU: 'linux'>,\n",
       " <OperatingSystem.MACOS: 'darwin'>,\n",
       " <OperatingSystem.WINDOWS: 'win'>]"
      ]
     },
     "metadata": {},
     "output_type": "display_data"
    },
    {
     "data": {
      "text/plain": [
       "[('UBUNTU', <OperatingSystem.UBUNTU: 'linux'>),\n",
       " ('MACOS', <OperatingSystem.MACOS: 'darwin'>),\n",
       " ('WINDOWS', <OperatingSystem.WINDOWS: 'win'>),\n",
       " ('DEBIAN', <OperatingSystem.UBUNTU: 'linux'>)]"
      ]
     },
     "execution_count": 19,
     "metadata": {},
     "output_type": "execute_result"
    }
   ],
   "source": [
    "class OperatingSystem(Enum):\n",
    "    UBUNTU = \"linux\"\n",
    "    MACOS = \"darwin\"\n",
    "    WINDOWS = \"win\"\n",
    "    DEBIAN = \"linux\"\n",
    "\n",
    "\n",
    "# Альяс DEBIAN не выводится\n",
    "display(list(OperatingSystem))\n",
    "\n",
    "# Чтобы увидеть все альясы, можно использовать __members__\n",
    "list(OperatingSystem.__members__.items())"
   ]
  },
  {
   "cell_type": "markdown",
   "metadata": {},
   "source": [
    "### Декоратор unique"
   ]
  },
  {
   "cell_type": "code",
   "execution_count": null,
   "metadata": {},
   "outputs": [],
   "source": [
    "from enum import Enum, unique\n",
    "\n",
    "@unique\n",
    "class OperatingSystem(Enum):\n",
    "    UBUNTU = \"linux\"\n",
    "    MACOS = \"darwin\"\n",
    "    WINDOWS = \"win\"\n",
    "    DEBIAN = \"linux\"\n"
   ]
  },
  {
   "cell_type": "markdown",
   "metadata": {},
   "source": [
    "### Обход класса Enum"
   ]
  },
  {
   "cell_type": "code",
   "execution_count": null,
   "metadata": {},
   "outputs": [],
   "source": [
    "class Size(Enum):\n",
    "    S = 1\n",
    "    M = 2\n",
    "    L = 3\n",
    "    XL = 4\n",
    "\n",
    "for element in Size:\n",
    "  print(element)\n",
    "  \n",
    "for element in Size:\n",
    "  print(f\"{element.name} -> {element.value}\")  "
   ]
  },
  {
   "cell_type": "code",
   "execution_count": null,
   "metadata": {},
   "outputs": [],
   "source": [
    "for element in Size.__members__:\n",
    "  print(f\"{element}\")  \n",
    "\n",
    "for element in Size.__members__.values():\n",
    "  print(f\"{element}\")  \n",
    "  "
   ]
  },
  {
   "cell_type": "code",
   "execution_count": 31,
   "metadata": {},
   "outputs": [
    {
     "name": "stdout",
     "output_type": "stream",
     "text": [
      "Плейер выключен\n"
     ]
    }
   ],
   "source": [
    "class Player(Enum):\n",
    "    PLAY = 1\n",
    "    STOP = 2\n",
    "    PAUSE = 3\n",
    "\n",
    "def handle_player(action):\n",
    "    if action is Player.PLAY:\n",
    "        print('Плейер работает')   \n",
    "    elif action is Player.STOP:\n",
    "        print('Плейер выключен')   \n",
    "    if action is Player.PAUSE:\n",
    "        print('Плейер на паузе')\n",
    "\n",
    "handle_player(Player.STOP)\n",
    "handle_player(2)"
   ]
  },
  {
   "cell_type": "markdown",
   "metadata": {},
   "source": [
    "### Сравнение\n",
    "#### в одном и том же классе"
   ]
  },
  {
   "cell_type": "code",
   "execution_count": 40,
   "metadata": {},
   "outputs": [
    {
     "data": {
      "text/plain": [
       "True"
      ]
     },
     "execution_count": 40,
     "metadata": {},
     "output_type": "execute_result"
    }
   ],
   "source": [
    "class SemaphoreMainStreet(Enum):\n",
    "  RED = 1\n",
    "  YELLOW = 2\n",
    "  GREEN = 3\n",
    "  PEDASTRIAN_RED = 1\n",
    "  PEDASTRIAN_YELLOW = 2\n",
    "  PEDASTRIAN_GREEN = 3\n",
    "  \n",
    "SemaphoreMainStreet.RED is SemaphoreMainStreet.PEDASTRIAN_RED\n",
    "SemaphoreMainStreet.RED == SemaphoreMainStreet.PEDASTRIAN_RED\n",
    "SemaphoreMainStreet.RED != SemaphoreMainStreet.PEDASTRIAN_GREEN\n",
    "  "
   ]
  },
  {
   "cell_type": "markdown",
   "metadata": {},
   "source": [
    "#### Между разными классами"
   ]
  },
  {
   "cell_type": "code",
   "execution_count": 43,
   "metadata": {},
   "outputs": [
    {
     "data": {
      "text/plain": [
       "False"
      ]
     },
     "execution_count": 43,
     "metadata": {},
     "output_type": "execute_result"
    }
   ],
   "source": [
    "class SemaphoreOtherStreet(Enum):\n",
    "  RED = 1\n",
    "  YELLOW = 2\n",
    "  GREEN = 3\n",
    "  PEDASTRIAN_RED = 1\n",
    "  PEDASTRIAN_YELLOW = 2\n",
    "  PEDASTRIAN_GREEN = 3\n",
    "  \n",
    "SemaphoreMainStreet.RED is SemaphoreOtherStreet.PEDASTRIAN_RED  \n",
    "SemaphoreMainStreet.RED is SemaphoreOtherStreet.RED  "
   ]
  },
  {
   "cell_type": "markdown",
   "metadata": {},
   "source": [
    "#### Разных типов"
   ]
  },
  {
   "cell_type": "code",
   "execution_count": 45,
   "metadata": {},
   "outputs": [
    {
     "data": {
      "text/plain": [
       "True"
      ]
     },
     "execution_count": 45,
     "metadata": {},
     "output_type": "execute_result"
    }
   ],
   "source": [
    "SemaphoreOtherStreet.RED == 1\n",
    "SemaphoreOtherStreet.RED.value == 1"
   ]
  },
  {
   "cell_type": "code",
   "execution_count": 47,
   "metadata": {},
   "outputs": [
    {
     "data": {
      "text/plain": [
       "False"
      ]
     },
     "execution_count": 47,
     "metadata": {},
     "output_type": "execute_result"
    }
   ],
   "source": [
    "OperatingSystem.UBUNTU == 'linux'"
   ]
  },
  {
   "cell_type": "markdown",
   "metadata": {},
   "source": [
    "#### Принадлежность классу"
   ]
  },
  {
   "cell_type": "code",
   "execution_count": 48,
   "metadata": {},
   "outputs": [
    {
     "data": {
      "text/plain": [
       "True"
      ]
     },
     "execution_count": 48,
     "metadata": {},
     "output_type": "execute_result"
    }
   ],
   "source": [
    "OperatingSystem.UBUNTU in OperatingSystem"
   ]
  },
  {
   "cell_type": "markdown",
   "metadata": {},
   "source": [
    "### Сортировка"
   ]
  },
  {
   "cell_type": "code",
   "execution_count": 49,
   "metadata": {},
   "outputs": [
    {
     "data": {
      "text/plain": [
       "[<Player.PLAY: 1>, <Player.STOP: 2>, <Player.PAUSE: 3>]"
      ]
     },
     "execution_count": 49,
     "metadata": {},
     "output_type": "execute_result"
    }
   ],
   "source": [
    "list(Player)"
   ]
  },
  {
   "cell_type": "code",
   "execution_count": null,
   "metadata": {},
   "outputs": [],
   "source": [
    "sorted(Player)"
   ]
  },
  {
   "cell_type": "code",
   "execution_count": 52,
   "metadata": {},
   "outputs": [
    {
     "data": {
      "text/plain": [
       "[<Player.PLAY: 1>, <Player.STOP: 2>, <Player.PAUSE: 3>]"
      ]
     },
     "execution_count": 52,
     "metadata": {},
     "output_type": "execute_result"
    }
   ],
   "source": [
    "sorted(Player, key = lambda x : x.value)"
   ]
  },
  {
   "cell_type": "markdown",
   "metadata": {},
   "source": [
    "### Добавление новых методов"
   ]
  },
  {
   "cell_type": "markdown",
   "metadata": {},
   "source": [
    "#### Переопределяем и создаем методы класса"
   ]
  },
  {
   "cell_type": "code",
   "execution_count": 55,
   "metadata": {},
   "outputs": [
    {
     "name": "stdout",
     "output_type": "stream",
     "text": [
      "today is SUNDAY\n",
      "Что за чудесный день недели 1\n"
     ]
    }
   ],
   "source": [
    "from datetime import date\n",
    "class Weekday(Enum):\n",
    "    MONDAY = 1\n",
    "    TUESDAY = 2\n",
    "    WEDNESDAY = 3\n",
    "    THURSDAY = 4\n",
    "    FRIDAY = 5\n",
    "    SATURDAY = 6\n",
    "    SUNDAY = 7\n",
    "    \n",
    "    def __str__(self):\n",
    "      return f\"Что за чудесный день недели {self.value}\"\n",
    "    \n",
    "    @classmethod\n",
    "    def today(cls):\n",
    "        print('today is %s' % cls(date.today().isoweekday()).name)\n",
    "\n",
    "\n",
    "Weekday.today()\n",
    "print(Weekday.MONDAY)"
   ]
  },
  {
   "cell_type": "code",
   "execution_count": 61,
   "metadata": {},
   "outputs": [
    {
     "data": {
      "text/plain": [
       "'SUNDAY'"
      ]
     },
     "execution_count": 61,
     "metadata": {},
     "output_type": "execute_result"
    }
   ],
   "source": [
    "Weekday(date.today().isoweekday()).name"
   ]
  },
  {
   "cell_type": "code",
   "execution_count": 56,
   "metadata": {},
   "outputs": [
    {
     "data": {
      "text/plain": [
       "7"
      ]
     },
     "execution_count": 56,
     "metadata": {},
     "output_type": "execute_result"
    }
   ],
   "source": [
    "date.today().isoweekday()"
   ]
  },
  {
   "cell_type": "markdown",
   "metadata": {},
   "source": [
    "#### Делаем поддержку callable"
   ]
  },
  {
   "cell_type": "code",
   "execution_count": null,
   "metadata": {},
   "outputs": [],
   "source": [
    "class Sort(Enum):\n",
    "    ASCENDING = 1\n",
    "    DESCENDING = 2\n",
    "    def __call__(self, values):\n",
    "        return sorted(values, reverse=self is Sort.DESCENDING)\n",
    "\n",
    "\n",
    "numbers = [5, 2, 7, 6, 3, 9, 8, 4]\n",
    "\n",
    "display(Sort.ASCENDING(numbers))\n",
    "\n",
    "\n",
    "display(Sort.DESCENDING(numbers))"
   ]
  },
  {
   "cell_type": "code",
   "execution_count": 66,
   "metadata": {},
   "outputs": [
    {
     "data": {
      "text/plain": [
       "False"
      ]
     },
     "execution_count": 66,
     "metadata": {},
     "output_type": "execute_result"
    }
   ],
   "source": [
    "Sort.ASCENDING is Sort.DESCENDING"
   ]
  },
  {
   "cell_type": "code",
   "execution_count": 69,
   "metadata": {},
   "outputs": [
    {
     "data": {
      "text/plain": [
       "[2, 1]"
      ]
     },
     "execution_count": 69,
     "metadata": {},
     "output_type": "execute_result"
    }
   ],
   "source": [
    "sorted([2,1], reverse = True)"
   ]
  },
  {
   "cell_type": "code",
   "execution_count": 64,
   "metadata": {},
   "outputs": [
    {
     "data": {
      "text/plain": [
       "[1, 2]"
      ]
     },
     "execution_count": 64,
     "metadata": {},
     "output_type": "execute_result"
    }
   ],
   "source": [
    "Sort.ASCENDING([2,1])"
   ]
  },
  {
   "cell_type": "markdown",
   "metadata": {},
   "source": [
    "### Добавляем дополнительно наследование от других типов"
   ]
  },
  {
   "cell_type": "code",
   "execution_count": 92,
   "metadata": {},
   "outputs": [
    {
     "name": "stdout",
     "output_type": "stream",
     "text": [
      "здесь - \n"
     ]
    },
    {
     "data": {
      "text/plain": [
       "-2"
      ]
     },
     "execution_count": 92,
     "metadata": {},
     "output_type": "execute_result"
    }
   ],
   "source": [
    "Weekday.MONDAY - 1"
   ]
  },
  {
   "cell_type": "code",
   "execution_count": 106,
   "metadata": {},
   "outputs": [],
   "source": [
    "from enum import verify, CONTINUOUS, IntEnum, Flag\n",
    "\n",
    "class MixAdd:\n",
    "  def __add__(self, val):\n",
    "    print('здесь')\n",
    "    return self.value + val * 3\n",
    "\n",
    "class MixNeg:\n",
    "  def __sub__(self, val):\n",
    "    print('здесь - ')\n",
    "    return self.value - val * 3\n",
    "\n",
    "@verify(CONTINUOUS)\n",
    "class Weekday(MixAdd,MixNeg,int,Enum):\n",
    "    MONDAY = 1\n",
    "    TUESDAY = 2\n",
    "    WEDNESDAY = 3\n",
    "    THURSDAY = 4\n",
    "    FRIDAY = 5\n",
    "    SATURDAY = 6\n",
    "    SUNDAY = 7"
   ]
  },
  {
   "cell_type": "code",
   "execution_count": 93,
   "metadata": {},
   "outputs": [
    {
     "name": "stdout",
     "output_type": "stream",
     "text": [
      "здесь\n"
     ]
    },
    {
     "data": {
      "text/plain": [
       "7"
      ]
     },
     "execution_count": 93,
     "metadata": {},
     "output_type": "execute_result"
    }
   ],
   "source": [
    "Weekday.MONDAY + 2"
   ]
  },
  {
   "cell_type": "code",
   "execution_count": 94,
   "metadata": {},
   "outputs": [
    {
     "data": {
      "text/plain": [
       "True"
      ]
     },
     "execution_count": 94,
     "metadata": {},
     "output_type": "execute_result"
    }
   ],
   "source": [
    "Weekday.MONDAY >= 1"
   ]
  },
  {
   "cell_type": "code",
   "execution_count": 104,
   "metadata": {},
   "outputs": [],
   "source": [
    "# IntEnum\n",
    "class Player(IntEnum):\n",
    "    PLAY = 1\n",
    "    STOP = 2\n",
    "    PAUSE = 3"
   ]
  },
  {
   "cell_type": "code",
   "execution_count": 107,
   "metadata": {},
   "outputs": [
    {
     "data": {
      "text/plain": [
       "[<Role.OWNER: 1>,\n",
       " <Role.POWER_USER: 2>,\n",
       " <Role.USER: 4>,\n",
       " <Role.SUPERVISOR: 8>,\n",
       " <Role.ADMIN: 16>,\n",
       " <Role.SUPERADMIN: 32>]"
      ]
     },
     "execution_count": 107,
     "metadata": {},
     "output_type": "execute_result"
    }
   ],
   "source": [
    "class Role(Flag):\n",
    "    OWNER = auto()\n",
    "    POWER_USER = auto()\n",
    "    USER = auto()\n",
    "    SUPERVISOR = auto()\n",
    "    ADMIN = auto()\n",
    "    SUPERADMIN = auto()\n",
    "list(Role)    "
   ]
  },
  {
   "cell_type": "code",
   "execution_count": 111,
   "metadata": {},
   "outputs": [
    {
     "data": {
      "text/plain": [
       "<Role.OWNER|USER|SUPERVISOR: 11>"
      ]
     },
     "execution_count": 111,
     "metadata": {},
     "output_type": "execute_result"
    }
   ],
   "source": [
    "standard_user_role"
   ]
  },
  {
   "cell_type": "code",
   "execution_count": 114,
   "metadata": {},
   "outputs": [
    {
     "ename": "AttributeError",
     "evalue": "cannot reassign member 'OWNER'",
     "output_type": "error",
     "traceback": [
      "\u001b[1;31m---------------------------------------------------------------------------\u001b[0m",
      "\u001b[1;31mAttributeError\u001b[0m                            Traceback (most recent call last)",
      "Cell \u001b[1;32mIn[114], line 1\u001b[0m\n\u001b[1;32m----> 1\u001b[0m Role\u001b[39m.\u001b[39;49mOWNER \u001b[39m=\u001b[39m \u001b[39m5\u001b[39m\n",
      "File \u001b[1;32mc:\\Python311\\Lib\\enum.py:819\u001b[0m, in \u001b[0;36mEnumType.__setattr__\u001b[1;34m(cls, name, value)\u001b[0m\n\u001b[0;32m    817\u001b[0m member_map \u001b[39m=\u001b[39m \u001b[39mcls\u001b[39m\u001b[39m.\u001b[39m\u001b[39m__dict__\u001b[39m\u001b[39m.\u001b[39mget(\u001b[39m'\u001b[39m\u001b[39m_member_map_\u001b[39m\u001b[39m'\u001b[39m, {})\n\u001b[0;32m    818\u001b[0m \u001b[39mif\u001b[39;00m name \u001b[39min\u001b[39;00m member_map:\n\u001b[1;32m--> 819\u001b[0m     \u001b[39mraise\u001b[39;00m \u001b[39mAttributeError\u001b[39;00m(\u001b[39m'\u001b[39m\u001b[39mcannot reassign member \u001b[39m\u001b[39m%r\u001b[39;00m\u001b[39m'\u001b[39m \u001b[39m%\u001b[39m (name, ))\n\u001b[0;32m    820\u001b[0m \u001b[39msuper\u001b[39m()\u001b[39m.\u001b[39m\u001b[39m__setattr__\u001b[39m(name, value)\n",
      "\u001b[1;31mAttributeError\u001b[0m: cannot reassign member 'OWNER'"
     ]
    }
   ],
   "source": [
    "Role.OWNER = 5"
   ]
  },
  {
   "cell_type": "code",
   "execution_count": 112,
   "metadata": {},
   "outputs": [
    {
     "name": "stdout",
     "output_type": "stream",
     "text": [
      "<flag 'Role'> Role.OWNER|USER|SUPERVISOR\n",
      "Вы обладаете правами пользователя\n",
      "Вы обладаете правами супервизора\n",
      "Увы\n",
      "True\n",
      "True\n"
     ]
    }
   ],
   "source": [
    "from enum import Flag, verify, NAMED_FLAGS\n",
    "@verify(NAMED_FLAGS)\n",
    "class Role(Flag):\n",
    "    OWNER = 8\n",
    "    POWER_USER = 4\n",
    "    USER = 2\n",
    "    SUPERVISOR = 1\n",
    "    ADMIN = OWNER | POWER_USER | USER | SUPERVISOR\n",
    "    SUPERADMIN = 32\n",
    "\n",
    "\n",
    "standard_user_role = Role.USER | Role.SUPERVISOR | Role.OWNER\n",
    "print(type(standard_user_role), standard_user_role)\n",
    "\n",
    "\n",
    "if Role.USER in standard_user_role:\n",
    "    print(\"Вы обладаете правами пользователя\")\n",
    "\n",
    "if Role.SUPERVISOR in standard_user_role:\n",
    "    print(\"Вы обладаете правами супервизора\")\n",
    "\n",
    "if Role.SUPERADMIN in standard_user_role:\n",
    "    print(\"Вы владелец\")\n",
    "else:\n",
    "    print('Увы')    \n",
    "\n",
    "\n",
    "print(Role.OWNER in Role.ADMIN)\n",
    "\n",
    "\n",
    "print(Role.SUPERVISOR in Role.ADMIN)"
   ]
  },
  {
   "cell_type": "markdown",
   "metadata": {},
   "source": [
    "Преимущества использования перечислений (Enum):\n",
    "\n",
    "* Более читабельный код: Перечисления позволяют использовать имена для значений, что делает код более понятным и читабельным.\n",
    "\n",
    "* Защита от ошибок: Поскольку перечисление содержит только ограниченный набор допустимых значений, оно обеспечивает защиту от опечаток и некорректных значений.\n",
    "\n",
    "* Автодокументирование: Перечисления сами по себе являются формой документации, которая показывает возможные варианты значений."
   ]
  }
 ],
 "metadata": {
  "kernelspec": {
   "display_name": "Python 3",
   "language": "python",
   "name": "python3"
  },
  "language_info": {
   "codemirror_mode": {
    "name": "ipython",
    "version": 3
   },
   "file_extension": ".py",
   "mimetype": "text/x-python",
   "name": "python",
   "nbconvert_exporter": "python",
   "pygments_lexer": "ipython3",
   "version": "3.11.0"
  },
  "orig_nbformat": 4
 },
 "nbformat": 4,
 "nbformat_minor": 2
}

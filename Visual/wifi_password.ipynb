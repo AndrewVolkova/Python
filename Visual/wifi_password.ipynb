{
 "cells": [
  {
   "cell_type": "code",
   "execution_count": 5,
   "metadata": {},
   "outputs": [],
   "source": [
    "import subprocess\n",
    "import re"
   ]
  },
  {
   "cell_type": "code",
   "execution_count": null,
   "metadata": {},
   "outputs": [],
   "source": [
    "command_output = subprocess.run([\"netsh\", \"wlan\", \"show\", \"profiles\"], capture_output = True).stdout.decode()\n",
    "print(command_output)"
   ]
  },
  {
   "cell_type": "code",
   "execution_count": null,
   "metadata": {},
   "outputs": [],
   "source": [
    "profile_names = (re.findall(\"All User Profile     : (.*)\\r\", command_output))\n",
    "profile_names"
   ]
  },
  {
   "cell_type": "code",
   "execution_count": null,
   "metadata": {},
   "outputs": [],
   "source": [
    "wifi_list = []\n",
    "\n",
    "if len(profile_names) != 0:\n",
    "    for name in profile_names:\n",
    "        wifi_profile = {}\n",
    "        profile_info = subprocess.run([\"netsh\", \"wlan\", \"show\", \"profile\", name], capture_output = True).stdout.decode()\n",
    "        if re.search(\"Security key           : Absent\", profile_info):\n",
    "            continue\n",
    "        else:\n",
    "            wifi_profile[\"ssid\"] = name\n",
    "            profile_info_pass = subprocess.run([\"netsh\", \"wlan\", \"show\", \"profile\", name, \"key=clear\"], capture_output = True).stdout.decode()\n",
    "            password = re.search(\"Key Content            : (.*)\\r\", profile_info_pass)\n",
    "            if password == None:\n",
    "                wifi_profile[\"password\"] = None\n",
    "            else:\n",
    "                wifi_profile[\"password\"] = password[1]\n",
    "            wifi_list.append(wifi_profile) \n",
    "\n",
    "for x in range(len(wifi_list)):\n",
    "    print(wifi_list[x]) \n"
   ]
  }
 ],
 "metadata": {
  "kernelspec": {
   "display_name": "Python 3",
   "language": "python",
   "name": "python3"
  },
  "language_info": {
   "codemirror_mode": {
    "name": "ipython",
    "version": 3
   },
   "file_extension": ".py",
   "mimetype": "text/x-python",
   "name": "python",
   "nbconvert_exporter": "python",
   "pygments_lexer": "ipython3",
   "version": "3.11.0"
  },
  "orig_nbformat": 4
 },
 "nbformat": 4,
 "nbformat_minor": 2
}

{
 "cells": [
  {
   "cell_type": "code",
   "execution_count": 31,
   "metadata": {},
   "outputs": [],
   "source": [
    "import subprocess\n",
    "import folium\n",
    "from geopy.geocoders import Nominatim\n",
    "import requests\n",
    "\n",
    "def trace_route(destination):\n",
    "    \"\"\"Функция для выполнения traceroute и получения траектории сетевых маршрутов.\n",
    "    :param destination: Конечный сервер (IP или доменное имя)\n",
    "    :return: Список хопов с временем ответа и их IP-адресами\n",
    "    \"\"\"\n",
    "    command = ['tracert', '-h', '30', '-w', '200', '-d', destination]  # Для Windows\n",
    "    result = subprocess.check_output(command, universal_newlines=True)\n",
    "    return result\n",
    "\n",
    "def get_geolocation(ip):\n",
    "    # url = f\"http://ip-api.com/json/{ip}\"\n",
    "    url = f\"http://ipwho.is/{ip}\"\n",
    "    \n",
    "    response = requests.get(url)\n",
    "    data = response.json()\n",
    "    # if data['status'] == 'success':\n",
    "    #     return data['lat'], data['lon']\n",
    "    if data['success'] == True:\n",
    "        return data['latitude'], data['longitude']\n",
    "    return None, None\n",
    "\n",
    "\n",
    "\n",
    "def plot_traceroute_on_map(trace_output):\n",
    "    \"\"\"\n",
    "    Функция для отображения результатов трассировки на карте.\n",
    "    :param trace_output: Вывод команды traceroute\n",
    "    \"\"\"\n",
    "    ips = []\n",
    "    for line in trace_output.splitlines():\n",
    "        if 'ms' in line:\n",
    "            parts = line.split()\n",
    "            ip = parts[len(parts)-1] if len(parts) > 2 else None\n",
    "            if ip:\n",
    "                ip = ip.replace(\"[\", \"\").replace(\"]\", \"\")\n",
    "                ips.append(ip)\n",
    "\n",
    "    # Инициализация карты с базовыми координатами\n",
    "    m = folium.Map(location=[20, 0], zoom_start=2)\n",
    "    \n",
    "    latitudes = []\n",
    "    longitudes = []\n",
    "    coordinates = []\n",
    "\n",
    "    # Добавляем маркеры на карту\n",
    "    for ip in ips:\n",
    "        lat, lon = get_geolocation(ip)\n",
    "        if lat and lon:\n",
    "            # Сохраняем координаты\n",
    "            coordinates.append((lat, lon))\n",
    "            \n",
    "            # Добавляем круговой маркер\n",
    "            folium.CircleMarker(\n",
    "                location=(lat, lon),\n",
    "                radius=5,\n",
    "                color='blue',\n",
    "                fill=True,\n",
    "                fill_color='blue',\n",
    "                fill_opacity=0.6,\n",
    "                popup=f'IP: {ip}'\n",
    "            ).add_to(m)\n",
    "    \n",
    "    # Соединяем точки линиями\n",
    "    if coordinates:\n",
    "        folium.PolyLine(\n",
    "            locations=coordinates,\n",
    "            color=\"red\",\n",
    "            weight=2.5,\n",
    "            opacity=0.8\n",
    "        ).add_to(m)\n",
    "\n",
    "    # Сохраняем карту\n",
    "    m.save(\"traceroute_map.html\")\n",
    "    print(\"Карта с трассировкой сохранена как 'traceroute_map.html'\")\n",
    "\n",
    "    return coordinates\n",
    "\n"
   ]
  },
  {
   "cell_type": "code",
   "execution_count": 32,
   "metadata": {},
   "outputs": [
    {
     "name": "stdout",
     "output_type": "stream",
     "text": [
      "Карта с трассировкой сохранена как 'traceroute_map.html'\n"
     ]
    }
   ],
   "source": [
    "# Пример использования\n",
    "destination = \"vk.com\"  # Вы можете заменить на любой сервер\n",
    "trace_output = trace_route(destination)\n",
    "coord = plot_traceroute_on_map(trace_output)"
   ]
  },
  {
   "cell_type": "code",
   "execution_count": 34,
   "metadata": {},
   "outputs": [
    {
     "name": "stdout",
     "output_type": "stream",
     "text": [
      "Distance between point 1 and point 2: 0.00 km\n",
      "Distance between point 2 and point 3: 0.00 km\n",
      "Distance between point 3 and point 4: 1326.56 km\n",
      "Distance between point 4 and point 5: 2966.15 km\n",
      "Distance between point 5 and point 6: 9876.42 km\n",
      "Distance between point 6 and point 7: 9412.21 km\n",
      "Distance between point 7 and point 8: 1701.41 km\n",
      "Distance between point 8 and point 9: 818.14 km\n",
      "Distance between point 9 and point 10: 599.25 km\n",
      "Distance between point 10 and point 11: 1188.61 km\n",
      "Distance between point 11 and point 12: 694.33 km\n",
      "Distance between point 12 and point 13: 1913.36 km\n",
      "Distance between point 13 and point 14: 1913.36 km\n"
     ]
    }
   ],
   "source": [
    "from geopy.distance import geodesic\n",
    "\n",
    "\n",
    "def calculate_distances(coords):\n",
    "    distances = []\n",
    "    for i in range(len(coords) - 1):\n",
    "        distance = geodesic(coords[i], coords[i + 1]).kilometers\n",
    "        distances.append(distance)\n",
    "    return distances\n",
    "\n",
    "distances = calculate_distances(coord)\n",
    "for i, distance in enumerate(distances):\n",
    "    print(f\"Distance between point {i + 1} and point {i + 2}: {distance:.2f} km\")\n"
   ]
  },
  {
   "cell_type": "code",
   "execution_count": 35,
   "metadata": {},
   "outputs": [
    {
     "data": {
      "text/plain": [
       "32410"
      ]
     },
     "execution_count": 35,
     "metadata": {},
     "output_type": "execute_result"
    }
   ],
   "source": [
    "round(sum(distances))"
   ]
  },
  {
   "cell_type": "markdown",
   "metadata": {},
   "source": [
    "1 - 36990\n",
    "2- 32410"
   ]
  }
 ],
 "metadata": {
  "kernelspec": {
   "display_name": "base",
   "language": "python",
   "name": "python3"
  },
  "language_info": {
   "codemirror_mode": {
    "name": "ipython",
    "version": 3
   },
   "file_extension": ".py",
   "mimetype": "text/x-python",
   "name": "python",
   "nbconvert_exporter": "python",
   "pygments_lexer": "ipython3",
   "version": "3.12.1"
  }
 },
 "nbformat": 4,
 "nbformat_minor": 2
}

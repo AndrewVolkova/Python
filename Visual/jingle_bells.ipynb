{
 "cells": [
  {
   "cell_type": "code",
   "execution_count": 6,
   "metadata": {},
   "outputs": [],
   "source": [
    "import winsound\n",
    "import time\n",
    "\n",
    "# Частоты (Гц) для нот\n",
    "NOTES = {\n",
    "    'B': 494,\n",
    "    'C': 523,\n",
    "    'D': 587,\n",
    "    'E': 659,\n",
    "    'F': 698,\n",
    "    'G': 784,\n",
    "    'A': 440\n",
    "}\n",
    "\n",
    "# Длительности (мс)\n",
    "WHOLE = 300  # Четверть ноты\n",
    "\n",
    "# Функция для проигрывания ноты\n",
    "def play(note, duration):\n",
    "    if note == 'R':  # Пауза\n",
    "        time.sleep(duration / 500.0)\n",
    "    else:\n",
    "        winsound.Beep(NOTES[note], duration)\n",
    "\n",
    "# Мелодия \"Jingle Bells\"\n",
    "melody = [\n",
    "    ('E', WHOLE), ('E', WHOLE), ('E', WHOLE * 2),  # Jingle Bells\n",
    "    ('E', WHOLE), ('E', WHOLE), ('E', WHOLE * 2),  # Jingle Bells\n",
    "    ('E', WHOLE), ('G', WHOLE), ('C', WHOLE), ('D', WHOLE),  # Jingle all the way\n",
    "    ('E', WHOLE * 2),  # Oh, what fun it is\n",
    "    ('F', WHOLE), ('F', WHOLE), ('F', WHOLE), ('F', WHOLE),  # In a one-horse open sleigh\n",
    "    ('F', WHOLE), ('E', WHOLE), ('E', WHOLE), ('E', WHOLE), \n",
    "    ('E', WHOLE), ('D', WHOLE), ('D', WHOLE), ('E', WHOLE), ('D', WHOLE * 2), ('G', WHOLE * 2)\n",
    "]\n",
    "\n",
    "# Проигрываем мелодию\n",
    "for note, duration in melody:\n",
    "    play(note, duration)\n"
   ]
  }
 ],
 "metadata": {
  "kernelspec": {
   "display_name": "Python 3",
   "language": "python",
   "name": "python3"
  },
  "language_info": {
   "codemirror_mode": {
    "name": "ipython",
    "version": 3
   },
   "file_extension": ".py",
   "mimetype": "text/x-python",
   "name": "python",
   "nbconvert_exporter": "python",
   "pygments_lexer": "ipython3",
   "version": "3.12.0"
  }
 },
 "nbformat": 4,
 "nbformat_minor": 2
}

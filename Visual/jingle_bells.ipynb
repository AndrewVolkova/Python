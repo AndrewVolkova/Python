{
 "cells": [
  {
   "cell_type": "code",
   "execution_count": 9,
   "metadata": {},
   "outputs": [
    {
     "name": "stdout",
     "output_type": "stream",
     "text": [
      "Jingle bells, jingle bells\n",
      "Jingle all the way\n",
      "Oh, what fun it is to ride\n",
      "In a one-horse open sleigh, hey!\n"
     ]
    }
   ],
   "source": [
    "import winsound\n",
    "import time\n",
    "\n",
    "# Частоты (Гц) для нот\n",
    "NOTES = {\n",
    "    'B': 494,\n",
    "    'C': 523,\n",
    "    'D': 587,\n",
    "    'E': 659,\n",
    "    'F': 698,\n",
    "    'G': 784,\n",
    "    'A': 440\n",
    "}\n",
    "\n",
    "# Длительности (мс)\n",
    "WHOLE = 300  \n",
    "\n",
    "# Функция для проигрывания ноты\n",
    "def play(note, duration):\n",
    "    if note == 'R':  # Пауза\n",
    "        time.sleep(duration / 600.0)\n",
    "    else:\n",
    "        winsound.Beep(NOTES[note], duration)\n",
    "\n",
    "# Мелодия \"Jingle Bells\" с текстом\n",
    "melody = [\n",
    "    # \"Jingle bells, jingle bells\"\n",
    "    ('E', WHOLE), ('E', WHOLE), ('E', WHOLE * 2),\n",
    "    ('E', WHOLE), ('E', WHOLE), ('E', WHOLE * 2),\n",
    "    \n",
    "    # \"Jingle all the way\"\n",
    "    ('E', WHOLE), ('G', WHOLE), ('C', WHOLE), ('D', WHOLE),\n",
    "    ('E', WHOLE * 4),\n",
    "    \n",
    "    # \"Oh, what fun it is to ride\"\n",
    "    ('F', WHOLE), ('F', WHOLE), ('F', WHOLE), ('F', WHOLE),\n",
    "    \n",
    "    # \"In a one-horse open sleigh, hey!\"\n",
    "    ('F', WHOLE), ('E', WHOLE), ('E', WHOLE), ('E', WHOLE),\n",
    "    ('E', WHOLE), ('D', WHOLE), ('D', WHOLE), ('E', WHOLE), \n",
    "    ('D', WHOLE * 2), ('G', WHOLE * 2)\n",
    "]\n",
    "\n",
    "# Тексты для каждой фразы\n",
    "lyrics = [\n",
    "    \"Jingle bells, jingle bells\",\n",
    "    \"Jingle all the way\",\n",
    "    \"Oh, what fun it is to ride\",\n",
    "    \"In a one-horse open sleigh, hey!\"\n",
    "]\n",
    "\n",
    "# Проигрываем мелодию с текстом\n",
    "phrase_index = 0\n",
    "for i, (note, duration) in enumerate(melody):\n",
    "    if i in {0, 6, 10, 14}:  # Начало каждой новой фразы\n",
    "        print(lyrics[phrase_index])\n",
    "        phrase_index += 1\n",
    "    play(note, duration)\n",
    "\n"
   ]
  }
 ],
 "metadata": {
  "kernelspec": {
   "display_name": "Python 3",
   "language": "python",
   "name": "python3"
  },
  "language_info": {
   "codemirror_mode": {
    "name": "ipython",
    "version": 3
   },
   "file_extension": ".py",
   "mimetype": "text/x-python",
   "name": "python",
   "nbconvert_exporter": "python",
   "pygments_lexer": "ipython3",
   "version": "3.12.0"
  }
 },
 "nbformat": 4,
 "nbformat_minor": 2
}

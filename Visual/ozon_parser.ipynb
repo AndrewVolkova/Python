{
 "cells": [
  {
   "attachments": {},
   "cell_type": "markdown",
   "metadata": {},
   "source": [
    "<p style = \"font-size : 30px; color : white ; text-align : left; background-color : DodgerBlue; border-radius: 5px 5px; padding : 10px\"><strong>Документация</strong></p> \n",
    "\n",
    "[beautifulsoup4 official](https://beautiful-soup-4.readthedocs.io/en/latest/#) <br>\n",
    "[beautifulsoup4 offiical russian](https://www.crummy.com/software/BeautifulSoup/bs4/doc.ru/bs4ru.html#id15) <br>\n",
    "\n",
    "[selenium на PyPi](https://pypi.org/project/selenium/) <br>\n",
    "[selenium official](https://www.selenium.dev/documentation/webdriver/) <br>\n",
    "\n",
    "[css selectors official](https://drafts.csswg.org/selectors-4/)"
   ]
  },
  {
   "cell_type": "code",
   "execution_count": 109,
   "metadata": {},
   "outputs": [],
   "source": [
    "from bs4 import BeautifulSoup as bs4\n",
    "from bs4.element import Tag\n",
    "import requests\n",
    "import re\n",
    "import json\n",
    "\n"
   ]
  },
  {
   "cell_type": "code",
   "execution_count": 110,
   "metadata": {},
   "outputs": [
    {
     "data": {
      "text/plain": [
       "<Response [200]>"
      ]
     },
     "execution_count": 110,
     "metadata": {},
     "output_type": "execute_result"
    }
   ],
   "source": [
    "wiki_url = \"https://en.wikipedia.org/wiki/English_Wikipedia\"\n",
    "response = requests.get(wiki_url)\n",
    "response"
   ]
  },
  {
   "cell_type": "code",
   "execution_count": null,
   "metadata": {},
   "outputs": [],
   "source": [
    "soup = bs4(response.content,'html.parser')\n",
    "print(soup.body.prettify())"
   ]
  },
  {
   "cell_type": "code",
   "execution_count": 112,
   "metadata": {},
   "outputs": [
    {
     "data": {
      "text/plain": [
       "<Response [403]>"
      ]
     },
     "execution_count": 112,
     "metadata": {},
     "output_type": "execute_result"
    }
   ],
   "source": [
    "headers={'User-Agent': 'Mozilla/5.0 (Windows NT 10.0; Win64; x64) AppleWebKit/537.36 (KHTML, like Gecko) Chrome/113.0.0.0 Safari/537.36',\n",
    "         'Sec-Fetch-Site': 'cross-site',\n",
    "         'Sec-Ch-Ua-Platform': \"Windows\",\n",
    "         'Sec-Fetch-Mode': 'cors',\n",
    "         'Sec-Ch-Ua':'\"Google Chrome\";v=\"113\", \"Chromium\";v=\"113\", \"Not-A.Brand\";v=\"24\"'\n",
    "         }\n",
    "\n",
    "url = \"https://www.ozon.ru/category/videokarty-i-karty-videozahvata-15720/?category_was_predicted=true&deny_category_prediction=true&from_global=true&text=3070\"\n",
    "\n",
    "\n",
    "\n",
    "\n",
    "\n",
    "response = requests.get(url, headers=headers)\n",
    "response"
   ]
  },
  {
   "cell_type": "code",
   "execution_count": null,
   "metadata": {},
   "outputs": [],
   "source": [
    "response.content\n",
    "soup = bs4(response.content,'html.parser')\n",
    "print(soup.prettify())"
   ]
  },
  {
   "cell_type": "code",
   "execution_count": 5,
   "metadata": {},
   "outputs": [],
   "source": [
    "\n",
    "cookies = [\n",
    "    {\n",
    "        \"name\" : \"__cf_bm\",\n",
    "        \"value\" : \"E4t51Vyjq1XYk3rAqDFKM1BEf2.7GOpO5zpdy1j4YXs-1687874517-0-ASV67Uio1SzGatugLFkZdlO+POpDjo/8/PzThRB/7J8B5iHAue0KLawS3Jp+jY0CVZTfgpW8nXo8EPfzvH6X3ppLntFlrb0pr5Qq6SrkG4ch\",\n",
    "        \"domain\" : '.ozon.ru',\n",
    "    },\n",
    "    {\n",
    "        \"name\" : \"__Secure-ab-group\",\n",
    "        \"value\" : \"13\",\n",
    "        \"domain\" : '.ozon.ru',\n",
    "    },\n",
    "    {\n",
    "        \"name\" : \"__Secure-access-token\",\n",
    "        \"value\" : \"3.0.EVcXHMkbTcCTbl7vMO_Y3g.13.l8cMBQAAAABkmW0EEwNjzqN3ZWKgAICQoA..20230626125719.ysgbs3chi0IvqgUyvBJoD2NWnANm-5GI0Hztt-oZVeQ\",\n",
    "        \"domain\" : '.ozon.ru',\n",
    "    },\n",
    "    {\n",
    "        \"name\" : \"__Secure-ext_xcid\",\n",
    "        \"value\" : \"8eb9a97a1f1f6cc1543e1369890d1f0d\",\n",
    "        \"domain\" : '.ozon.ru',\n",
    "    },\n",
    "    {\n",
    "        \"name\" : \"__Secure-refresh-token\",\n",
    "        \"value\" : \"3.0.EVcXHMkbTcCTbl7vMO_Y3g.13.l8cMBQAAAABkmW0EEwNjzqN3ZWKgAICQoA..20230626125719.5uWVD2lva-THQRl_ThkD0Sa2J0xDaA_TRwJ53RDqb50\",\n",
    "        \"domain\" : '.ozon.ru',\n",
    "    },\n",
    "    {\n",
    "        \"name\" : \"__Secure-user-id\",\n",
    "        \"value\" : \"0\",\n",
    "        \"domain\" : '.ozon.ru',\n",
    "    },\n",
    "    {\n",
    "        \"name\" : \"ADDRESSBOOKBAR_WEB_CLARIFICATION\",\n",
    "        \"value\" : \"1687776521\",\n",
    "        \"domain\" : 'www.ozon.ru',\n",
    "    },\n",
    "    {\n",
    "        \"name\" : \"guest\",\n",
    "        \"value\" : \"true\",\n",
    "        \"domain\" : 'www.ozon.ru',\n",
    "    },\n",
    "    {\n",
    "        \"name\" : \"is_cookies_accepted\",\n",
    "        \"value\" : \"1\",\n",
    "        \"domain\" : 'www.ozon.ru',\n",
    "    },\n",
    "    {\n",
    "        \"name\" : \"rfuid\",\n",
    "        \"value\" : \"LTE5NTAyNjU0NzAsMzUuNzM4MzI5NTkzMDkyMiwtNzcyOTcyMTEwLFdpbmRvd3MgTlQgMTAuMDsgV2luNjQ7IHg2NCwxNTUwMDczNDg2LFczc2libUZ0WlNJNklsQkVSaUJXYVdWM1pYSWlMQ0prWlhOamNtbHdkR2x2YmlJNklsQnZjblJoWW14bElFUnZZM1Z0Wlc1MElFWnZjbTFoZENJc0ltMXBiV1ZVZVhCbGN5STZXM3NpZEhsd1pTSTZJbUZ3Y0d4cFkyRjBhVzl1TDNCa1ppSXNJbk4xWm1acGVHVnpJam9pY0dSbUluMHNleUowZVhCbElqb2lkR1Y0ZEM5d1pHWWlMQ0p6ZFdabWFYaGxjeUk2SW5Ca1ppSjlYWDBzZXlKdVlXMWxJam9pUTJoeWIyMWxJRkJFUmlCV2FXVjNaWElpTENKa1pYTmpjbWx3ZEdsdmJpSTZJbEJ2Y25SaFlteGxJRVJ2WTNWdFpXNTBJRVp2Y20xaGRDSXNJbTFwYldWVWVYQmxjeUk2VzNzaWRIbHdaU0k2SW1Gd2NHeHBZMkYwYVc5dUwzQmtaaUlzSW5OMVptWnBlR1Z6SWpvaWNHUm1JbjBzZXlKMGVYQmxJam9pZEdWNGRDOXdaR1lpTENKemRXWm1hWGhsY3lJNkluQmtaaUo5WFgwc2V5SnVZVzFsSWpvaVEyaHliMjFwZFcwZ1VFUkdJRlpwWlhkbGNpSXNJbVJsYzJOeWFYQjBhVzl1SWpvaVVHOXlkR0ZpYkdVZ1JHOWpkVzFsYm5RZ1JtOXliV0YwSWl3aWJXbHRaVlI1Y0dWeklqcGJleUowZVhCbElqb2lZWEJ3YkdsallYUnBiMjR2Y0dSbUlpd2ljM1ZtWm1sNFpYTWlPaUp3WkdZaWZTeDdJblI1Y0dVaU9pSjBaWGgwTDNCa1ppSXNJbk4xWm1acGVHVnpJam9pY0dSbUluMWRmU3g3SW01aGJXVWlPaUpOYVdOeWIzTnZablFnUldSblpTQlFSRVlnVm1sbGQyVnlJaXdpWkdWelkzSnBjSFJwYjI0aU9pSlFiM0owWVdKc1pTQkViMk4xYldWdWRDQkdiM0p0WVhRaUxDSnRhVzFsVkhsd1pYTWlPbHQ3SW5SNWNHVWlPaUpoY0hCc2FXTmhkR2x2Ymk5d1pHWWlMQ0p6ZFdabWFYaGxjeUk2SW5Ca1ppSjlMSHNpZEhsd1pTSTZJblJsZUhRdmNHUm1JaXdpYzNWbVptbDRaWE1pT2lKd1pHWWlmVjE5TEhzaWJtRnRaU0k2SWxkbFlrdHBkQ0JpZFdsc2RDMXBiaUJRUkVZaUxDSmtaWE5qY21sd2RHbHZiaUk2SWxCdmNuUmhZbXhsSUVSdlkzVnRaVzUwSUVadmNtMWhkQ0lzSW0xcGJXVlVlWEJsY3lJNlczc2lkSGx3WlNJNkltRndjR3hwWTJGMGFXOXVMM0JrWmlJc0luTjFabVpwZUdWeklqb2ljR1JtSW4wc2V5SjBlWEJsSWpvaWRHVjRkQzl3WkdZaUxDSnpkV1ptYVhobGN5STZJbkJrWmlKOVhYMWQsV3lKbGJpMVZVeUlzSW1WdUxWVlRJaXdpWlc0aVhRPT0sMCwxLDAsMjQsMjM3NDE1OTMwLC0xLDIyNzEyNjUyMCwwLDEsMSwtNDkxMjc1NTIzLElFNWxkSE5qWVhCbElFZGxZMnR2SUZkcGJqTXlJRFV1TUNBb1YybHVaRzkzY3lrZ01qQXhNREF4TURFZ1RXOTZhV3hzWVE9PSxlMzA9LDY1LDE5NDMwMDMwNTQsMSwxLC0xLDE2OTk5NTQ4ODcsMTY5OTk1NDg4NywtMTQ2MTUxODEyLDE2\",\n",
    "        \"domain\" : '.ozon.ru',\n",
    "    },\n",
    "    {\n",
    "        \"name\" : \"xcid\",\n",
    "        \"value\" : \"e43eef438294d931d472e3791140e383\",\n",
    "        \"domain\" : 'www.ozon.ru',\n",
    "    },\n",
    "]\n"
   ]
  },
  {
   "cell_type": "code",
   "execution_count": 229,
   "metadata": {},
   "outputs": [],
   "source": [
    "from selenium import webdriver\n",
    "from selenium.webdriver.chrome.options import Options as ChromeOptions\n",
    "from selenium.webdriver.firefox.options import Options as FirefoxOptions\n",
    "\n",
    "# эти импорты нам нужны для организации механизма ожидания формирования страницы\n",
    "# и только потом получения из нее html\n",
    "from selenium.webdriver.common.by import By\n",
    "from selenium.webdriver.support.wait import WebDriverWait\n",
    "from selenium.webdriver.support import expected_conditions as EC\n",
    "\n",
    "\n",
    "# chrome_options = ChromeOptions()\n",
    "firefox_options = FirefoxOptions()\n",
    "\n",
    "# данные аргументы позволяют использовать движок браузера без gui\n",
    "# chrome_options.add_argument(\"--headless=new\")\n",
    "# \n",
    "firefox_options.add_argument(\"-headless\")\n",
    "# driver = webdriver.Chrome(options=chrome_options)\n",
    "driver = webdriver.Firefox(options=firefox_options)\n",
    "\n",
    "driver.get(url)\n",
    "\n"
   ]
  },
  {
   "attachments": {},
   "cell_type": "markdown",
   "metadata": {},
   "source": [
    "  <script defer=\"\" id=\"ozonTagManagerApp\" internal=\"\" nonce=\"\" src=\"https://cdn2.ozone.ru/s3/ozon-tag-manager/1.1.33/sdk.js\">\n",
    "  </script>"
   ]
  },
  {
   "cell_type": "code",
   "execution_count": 144,
   "metadata": {},
   "outputs": [],
   "source": [
    "# Функция, удаляющая предыдущие cookies, подставляющая нужные и получающая конечный результат страницы\n",
    "def pageOpen(url):\n",
    "    driver.delete_all_cookies()\n",
    "    for cookie in cookies:\n",
    "        # driver.add_cookie(cookies[8])\n",
    "        driver.add_cookie(cookies[0])\n",
    "        driver.add_cookie(cookies[1]) \n",
    "        driver.add_cookie(cookies[2]) \n",
    "        driver.add_cookie(cookies[4]) \n",
    "    # получаем страницу\n",
    "    driver.get(url)\n",
    "    \n",
    "    try:\n",
    "      # ждем пока не появится на странице тэг с id ozonTagManagerApp\n",
    "        element = WebDriverWait(driver, 10).until(\n",
    "            EC.presence_of_element_located((By.ID, \"ozonTagManagerApp\"))\n",
    "        )\n",
    "    finally:\n",
    "      # возвращаем текст страницы\n",
    "        return driver.page_source\n",
    "      \n",
    "\n",
    "# Функция, \n",
    "def options_dictionary(options_list: list) -> dict:\n",
    "  options_dict = {}\n",
    "  for option in options_list:\n",
    "    options_dict[option.split(':')[0].strip()] = option.split(':')[1].strip()\n",
    "  return options_dict  \n",
    "\n",
    "# Функция, вылавливающая данные о картинках\n",
    "def images_dict(good_id : int, mask : str) -> dict:\n",
    "  images_dictionary = []\n",
    "  try:\n",
    "    # ищем div у которого в атрибуте data-state есть название имени файла\n",
    "    data = soup.select_one(f'div[data-state*=\"{mask}\"]')['data-state']\n",
    "    # данные представлены в json формате, так что используем это и преобразуем в словарь\n",
    "    json_data = json.loads(data)\n",
    "    # зная структуру json данных, находим в словаре нужные нам данные\n",
    "    for link in json_data['items'][good_id]['tileImage']['items']:\n",
    "      images_dictionary.append(link['image']['link'])\n",
    "    return images_dictionary  \n",
    "  except:\n",
    "    return []"
   ]
  },
  {
   "cell_type": "code",
   "execution_count": 190,
   "metadata": {},
   "outputs": [],
   "source": [
    "def func_parse(items):\n",
    "  idx = 0\n",
    "  for sibling in items:\n",
    "      if isinstance(sibling, Tag) and sibling.text:\n",
    "        # создаем словарь, куда будем помещать все полученные данные для товара\n",
    "        item = {}\n",
    "        bonuses = False\n",
    "        # если есть бонусы за товар, получаем их\n",
    "        if (t:=sibling.div.next_sibling.next_sibling.select_one('div span > span b')):\n",
    "            print(t.text)\n",
    "            item['bonuses'] = t.text    \n",
    "            bonuses = True\n",
    "        # получаем название товара\n",
    "        print(item_name := sibling.div.next_sibling.next_sibling.div.a.span.span.text) \n",
    "        item['name'] = item_name\n",
    "        \n",
    "        # получаем основную картинку предпросмотра\n",
    "        img = sibling.div.a.div.div.img['src']\n",
    "        item['preimage'] = img\n",
    "        \n",
    "        print(item_images := images_dict(idx, img.split('/')[-1]))\n",
    "        item['images'] = item_images\n",
    "        \n",
    "        # если бонусы были, то смещаемся на один таг span\n",
    "        n_child = 3 if bonuses else 2\n",
    "\n",
    "        # вы таскиваем все options для товара\n",
    "        if options:=sibling.div.next_sibling.next_sibling.select_one(f'div > span:nth-child({n_child}) span'):\n",
    "          options_str = str(options)\n",
    "          # вырезаем ненужные тэги\n",
    "          cleaned_str =re.sub(r'<?.span>|<font color=\"#......\">|</font>','', options_str)\n",
    "          print(item_options := options_dictionary(cleaned_str.split('<br/>')))\n",
    "          item['options'] = item_options\n",
    "        idx += 1\n",
    "        \n",
    "        # в месте цены, html фрмируется по разному - обходим эти два варианта\n",
    "        if (price := sibling.div.next_sibling.next_sibling.next_sibling.next_sibling.div.div):\n",
    "          print((price_text := price.text[:-1].replace(' ','')))\n",
    "          # цена идет в кодировке, которая нам не подходит, возвращаем к человеческому виду\n",
    "          item['price'] =int(price_text.encode('ascii', 'ignore'))\n",
    "          # item['price'] = price_text\n",
    "        elif (price := sibling.div.next_sibling.next_sibling.next_sibling.next_sibling.div.span.span):   \n",
    "          print((price_text := price.text[:-1].replace(' ','')))\n",
    "          item['price'] = int(price_text.encode('ascii', 'ignore'))\n",
    "          # item['price'] = price_text\n",
    "        \n",
    "        # добавляем наш товар в список товаров\n",
    "        captured_data.append(item)  \n",
    "  \n"
   ]
  },
  {
   "cell_type": "code",
   "execution_count": 195,
   "metadata": {},
   "outputs": [
    {
     "data": {
      "text/plain": [
       "38064"
      ]
     },
     "execution_count": 195,
     "metadata": {},
     "output_type": "execute_result"
    }
   ],
   "source": [
    "int(captured_data[0]['price'].encode('ascii', 'ignore'))"
   ]
  },
  {
   "cell_type": "code",
   "execution_count": 232,
   "metadata": {},
   "outputs": [
    {
     "data": {
      "text/plain": [
       "322"
      ]
     },
     "execution_count": 232,
     "metadata": {},
     "output_type": "execute_result"
    }
   ],
   "source": [
    "captured_data.__len__()"
   ]
  },
  {
   "cell_type": "code",
   "execution_count": null,
   "metadata": {},
   "outputs": [],
   "source": [
    "captured_data = []\n",
    "# search = '3070'\n",
    "search = '1050+видеокарта'\n",
    "# начальная строка\n",
    "url = f\"https://www.ozon.ru/category/videokarty-i-karty-videozahvata-15720/?category_was_predicted=true&deny_category_prediction=true&from_global=true&text={search}\"\n",
    "for page in range(1,10):\n",
    "  # добавляем нужную страницу к url и отправляем в функцию pageOpen на скачку\n",
    "  source_text = pageOpen(f'{url}&page={page}')\n",
    "  # удаляем из текста всякие комментарии, чтобы не болтались мертвым грузом. Но это не обязательно\n",
    "  result=re.sub(r'<!.*?->','', source_text)\n",
    "  # создаем обьект bs4, на основе скаченного html\n",
    "  soup = bs4(result,'html.parser')\n",
    "  # Находим нужный нам html обьект по тагу и его id - там хранятся данные о товарах\n",
    "  items_body = soup.find('div', id = 'paginatorContent')\n",
    "  # переходим на нужные теги\n",
    "  items = items_body.div.div\n",
    "  # парсим данные\n",
    "  func_parse(items=items)\n",
    "  \n",
    "driver.quit()  "
   ]
  },
  {
   "cell_type": "code",
   "execution_count": null,
   "metadata": {},
   "outputs": [],
   "source": [
    "for sibling in items:\n",
    "  if sibling.text:\n",
    "    print(sibling)"
   ]
  },
  {
   "cell_type": "code",
   "execution_count": null,
   "metadata": {},
   "outputs": [],
   "source": [
    "for sibling in items:\n",
    "  if isinstance(sibling, Tag) and sibling.text:\n",
    "    print((sibling))"
   ]
  },
  {
   "cell_type": "code",
   "execution_count": null,
   "metadata": {},
   "outputs": [],
   "source": [
    "# Ищем запись про Бонусы\n",
    "for sibling in items:\n",
    "  if isinstance(sibling, Tag):\n",
    "    print(sibling.div.next_sibling.next_sibling.select_one('div span > span b'))"
   ]
  },
  {
   "cell_type": "code",
   "execution_count": null,
   "metadata": {},
   "outputs": [],
   "source": [
    "# Ищем Название\n",
    "for sibling in items:\n",
    "  if isinstance(sibling, Tag):\n",
    "    print(item_name := sibling.div.next_sibling.next_sibling.div.a.text) "
   ]
  },
  {
   "cell_type": "code",
   "execution_count": null,
   "metadata": {},
   "outputs": [],
   "source": [
    "# Ищем основную картинку из предпросмотра\n",
    "for sibling in items:\n",
    "  if isinstance(sibling, Tag):\n",
    "    print(img := sibling.div.a.div.div.img['src'])\n",
    "    print(img_list := img.split('/')[-1])"
   ]
  },
  {
   "cell_type": "code",
   "execution_count": null,
   "metadata": {},
   "outputs": [],
   "source": [
    "# Ищем все картинки для товара\n",
    "# images_dict(0,img_list)\n",
    "print(data := soup.select_one(f'div[data-state*=\"{img_list}\"]')['data-state'])\n",
    "json_data = json.loads(data)\n",
    "json_data\n",
    "json_data['items'][0]['tileImage']['items']"
   ]
  },
  {
   "cell_type": "code",
   "execution_count": null,
   "metadata": {},
   "outputs": [],
   "source": [
    "# Опции\n",
    "for sibling in items:\n",
    "  if isinstance(sibling, Tag):\n",
    "    print(a := sibling.div.next_sibling.next_sibling.select_one('div > span:nth-child(2) span'))\n",
    "    t_a = re.sub(r'<?.span>|<font color=\"#......\">|</font>','', str(a))\n",
    "    print(t_a)\n",
    "    print(t_a.split('<br/>'))\n",
    "    print(item_options := options_dictionary(t_a.split('<br/>')))\n",
    "\n",
    "    "
   ]
  },
  {
   "cell_type": "code",
   "execution_count": 197,
   "metadata": {},
   "outputs": [],
   "source": [
    "# библитека для работы с табличными данными\n",
    "import pandas as pd\n",
    "# отсюда возьмем значение типа None\n",
    "import numpy as np"
   ]
  },
  {
   "cell_type": "code",
   "execution_count": 233,
   "metadata": {},
   "outputs": [],
   "source": [
    "# создаем таблицу на наших, полученных в результате парсинга, данных\n",
    "df = pd.DataFrame(captured_data)"
   ]
  },
  {
   "cell_type": "code",
   "execution_count": null,
   "metadata": {},
   "outputs": [],
   "source": [
    "df"
   ]
  },
  {
   "cell_type": "code",
   "execution_count": 234,
   "metadata": {},
   "outputs": [],
   "source": [
    "# Создаем пустой set, куда в процессе поместим все уникальные названия опций\n",
    "options_set = set()\n",
    "\n",
    "# получаем уникальные названия опций\n",
    "for i in captured_data:\n",
    " options_set = set(i['options'].keys()) | options_set\n",
    " \n",
    "#  создаем новые колонки согласно опциям\n",
    "for col in options_set:\n",
    "  df[col] = np.nan"
   ]
  },
  {
   "cell_type": "code",
   "execution_count": 214,
   "metadata": {},
   "outputs": [
    {
     "data": {
      "text/plain": [
       "{'Активное охлаждение',\n",
       " 'Интерфейсы',\n",
       " 'Объем памяти',\n",
       " 'Тип',\n",
       " 'Тип охлаждения',\n",
       " 'Тип памяти',\n",
       " 'Тип шины',\n",
       " 'Частота графического процессора, МГц',\n",
       " 'Ширина шины памяти'}"
      ]
     },
     "execution_count": 214,
     "metadata": {},
     "output_type": "execute_result"
    }
   ],
   "source": [
    "options_set"
   ]
  },
  {
   "cell_type": "code",
   "execution_count": 216,
   "metadata": {},
   "outputs": [],
   "source": [
    "# Функция, которая получает строку из таблицы, и заполняет колнки с опциями значениями, \n",
    "# если те присутствуют в словаре опций для данного товара\n",
    "def options_parser(row):\n",
    "  for option in options_set:\n",
    "    row[option] = (row['options'].get(option))\n",
    "  return row\n"
   ]
  },
  {
   "cell_type": "code",
   "execution_count": 217,
   "metadata": {},
   "outputs": [],
   "source": [
    "# применяем нашу функцию, которая заполнит опции\n",
    "df = df.apply(options_parser, axis = 1)"
   ]
  },
  {
   "cell_type": "code",
   "execution_count": null,
   "metadata": {},
   "outputs": [],
   "source": [
    "df"
   ]
  },
  {
   "cell_type": "code",
   "execution_count": null,
   "metadata": {},
   "outputs": [],
   "source": [
    "# удалим колонку options\n",
    "df = df.drop(columns=['options'])\n",
    "df.head(3)"
   ]
  },
  {
   "cell_type": "code",
   "execution_count": 220,
   "metadata": {},
   "outputs": [],
   "source": [
    "# сохраним в xls\n",
    "df.to_excel('ozon_parse.xlsx')"
   ]
  }
 ],
 "metadata": {
  "kernelspec": {
   "display_name": "Python 3",
   "language": "python",
   "name": "python3"
  },
  "language_info": {
   "codemirror_mode": {
    "name": "ipython",
    "version": 3
   },
   "file_extension": ".py",
   "mimetype": "text/x-python",
   "name": "python",
   "nbconvert_exporter": "python",
   "pygments_lexer": "ipython3",
   "version": "3.11.0"
  },
  "orig_nbformat": 4
 },
 "nbformat": 4,
 "nbformat_minor": 2
}

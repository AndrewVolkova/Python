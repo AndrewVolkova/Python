{
 "cells": [
  {
   "cell_type": "code",
   "execution_count": 10,
   "metadata": {},
   "outputs": [
    {
     "name": "stdout",
     "output_type": "stream",
     "text": [
      "Настраиваем микрофон... Подождите.\n",
      "Скажите что-нибудь, запись завершится при молчании.\n",
      "Запись завершена. Обрабатываем...\n",
      "Вы сказали: Всем привет хочу рассказать вот такую вот интересную идею\n"
     ]
    }
   ],
   "source": [
    "import speech_recognition as sr\n",
    "\n",
    "recognizer = sr.Recognizer()\n",
    "\n",
    "with sr.Microphone() as source:\n",
    "    print(\"Настраиваем микрофон... Подождите.\")\n",
    "    recognizer.adjust_for_ambient_noise(source, duration=1)\n",
    "    print(\"Скажите что-нибудь, запись завершится при молчании.\")\n",
    "\n",
    "    # Слушаем до тех пор, пока не обнаружится молчание\n",
    "    audio = recognizer.listen(source, phrase_time_limit=None)\n",
    "    \n",
    "    print(\"Запись завершена. Обрабатываем...\")\n",
    "    try:\n",
    "        text = recognizer.recognize_google(audio, language='ru-RU')\n",
    "        print(\"Вы сказали:\", text)\n",
    "    except sr.UnknownValueError:\n",
    "        print(\"Речь не распознана.\")\n",
    "    except sr.RequestError as e:\n",
    "        print(f\"Ошибка запроса: {e}\")\n"
   ]
  }
 ],
 "metadata": {
  "kernelspec": {
   "display_name": "Python 3",
   "language": "python",
   "name": "python3"
  },
  "language_info": {
   "codemirror_mode": {
    "name": "ipython",
    "version": 3
   },
   "file_extension": ".py",
   "mimetype": "text/x-python",
   "name": "python",
   "nbconvert_exporter": "python",
   "pygments_lexer": "ipython3",
   "version": "3.12.0"
  }
 },
 "nbformat": 4,
 "nbformat_minor": 2
}

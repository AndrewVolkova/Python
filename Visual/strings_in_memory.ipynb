{
 "cells": [
  {
   "cell_type": "code",
   "execution_count": 10,
   "metadata": {},
   "outputs": [],
   "source": [
    "import sys"
   ]
  },
  {
   "attachments": {},
   "cell_type": "markdown",
   "metadata": {},
   "source": [
    "## Неизменяемые типы данных. Immutable"
   ]
  },
  {
   "attachments": {},
   "cell_type": "markdown",
   "metadata": {},
   "source": [
    "### Ситуация с str (строковым типом данных) 1"
   ]
  },
  {
   "cell_type": "code",
   "execution_count": 127,
   "metadata": {},
   "outputs": [
    {
     "name": "stdout",
     "output_type": "stream",
     "text": [
      "2419364689168\n",
      "2419364687920\n"
     ]
    }
   ],
   "source": [
    "st_correct = 'Слово'\n",
    "st = 'Слуво'\n",
    "print(id(st_correct))\n",
    "print(id(st))\n"
   ]
  },
  {
   "cell_type": "code",
   "execution_count": null,
   "metadata": {},
   "outputs": [],
   "source": [
    "st[2] = 'о'"
   ]
  },
  {
   "cell_type": "code",
   "execution_count": 128,
   "metadata": {},
   "outputs": [
    {
     "name": "stdout",
     "output_type": "stream",
     "text": [
      "2419364688688\n"
     ]
    }
   ],
   "source": [
    "st2 = 'Слово'\n",
    "print(id(st2))\n"
   ]
  },
  {
   "attachments": {},
   "cell_type": "markdown",
   "metadata": {},
   "source": [
    "### Ситуация с int (целочисленным типом данных)"
   ]
  },
  {
   "cell_type": "code",
   "execution_count": 129,
   "metadata": {},
   "outputs": [
    {
     "name": "stdout",
     "output_type": "stream",
     "text": [
      "True\n",
      "False\n",
      "True\n",
      "140723269456808 140723269456808\n"
     ]
    }
   ],
   "source": [
    "a = 5\n",
    "b = 6\n",
    "c = 5\n",
    "\n",
    "print(a == c)\n",
    "print(a is b)\n",
    "print(a is c)\n",
    "print(id(a), id(c))"
   ]
  },
  {
   "cell_type": "code",
   "execution_count": 130,
   "metadata": {},
   "outputs": [
    {
     "name": "stdout",
     "output_type": "stream",
     "text": [
      "True\n",
      "True\n",
      "True\n",
      "140723269456840 140723269456840 140723269456840\n"
     ]
    }
   ],
   "source": [
    "a = 5 + 1\n",
    "c = 5 + 1\n",
    "\n",
    "print(a == c)\n",
    "print(a is b)\n",
    "print(a is c)\n",
    "print(id(a), id(c), id(b))"
   ]
  },
  {
   "attachments": {},
   "cell_type": "markdown",
   "metadata": {},
   "source": [
    "### Ситуация с str (строковым типом данных) 2"
   ]
  },
  {
   "cell_type": "code",
   "execution_count": 131,
   "metadata": {},
   "outputs": [
    {
     "name": "stdout",
     "output_type": "stream",
     "text": [
      "2419308757872\n",
      "2419364557360\n",
      "2419308757872\n"
     ]
    }
   ],
   "source": [
    "st_correct = 'Word'\n",
    "st = 'Wurd'\n",
    "print(id(st_correct))\n",
    "print(id(st))\n",
    "st2 = 'Word'\n",
    "print(id(st2))"
   ]
  },
  {
   "attachments": {},
   "cell_type": "markdown",
   "metadata": {},
   "source": [
    "### Ситуация с boolean"
   ]
  },
  {
   "cell_type": "code",
   "execution_count": 107,
   "metadata": {},
   "outputs": [
    {
     "name": "stdout",
     "output_type": "stream",
     "text": [
      "140723267935080 140723267935080 140723267935080 140723267935112 140723267935112\n"
     ]
    }
   ],
   "source": [
    "tr = True\n",
    "tr1 = True\n",
    "tr2 = True\n",
    "tf = False\n",
    "tf1 = False\n",
    "print(id(tr),id(tr1),id(tr2),id(tf),id(tf))"
   ]
  },
  {
   "cell_type": "code",
   "execution_count": 108,
   "metadata": {},
   "outputs": [
    {
     "name": "stdout",
     "output_type": "stream",
     "text": [
      "140723267935080 140723267935112 140723267935112 140723267935080 140723267935080\n"
     ]
    }
   ],
   "source": [
    "tr = True\n",
    "tr1 = False\n",
    "tr2 = False\n",
    "tf = True\n",
    "tf1 = False\n",
    "print(id(tr),id(tr1),id(tr2),id(tf),id(tf))"
   ]
  },
  {
   "attachments": {},
   "cell_type": "markdown",
   "metadata": {},
   "source": [
    "### Ситуация с кортежами. Тож как-бы неизменяемый тип данных. \n",
    "`но не все так однозначно`"
   ]
  },
  {
   "cell_type": "code",
   "execution_count": 117,
   "metadata": {},
   "outputs": [
    {
     "name": "stdout",
     "output_type": "stream",
     "text": [
      "2419363901696 2419364551744\n"
     ]
    }
   ],
   "source": [
    "tup1 = (1,2,3)\n",
    "tup2 = (2,3,4)\n",
    "\n",
    "print(id(tup1), id(tup2))"
   ]
  },
  {
   "cell_type": "code",
   "execution_count": 122,
   "metadata": {},
   "outputs": [
    {
     "name": "stdout",
     "output_type": "stream",
     "text": [
      "2419363901696 2419364551744 2419364734144 2419364292928\n"
     ]
    }
   ],
   "source": [
    "tup3 = (1,2,3)\n",
    "tup4 = (2,3,4)\n",
    "\n",
    "print(id(tup1), id(tup2),id(tup3), id(tup4))"
   ]
  },
  {
   "cell_type": "code",
   "execution_count": 123,
   "metadata": {},
   "outputs": [
    {
     "data": {
      "text/plain": [
       "True"
      ]
     },
     "execution_count": 123,
     "metadata": {},
     "output_type": "execute_result"
    }
   ],
   "source": [
    "tup1 == tup3"
   ]
  },
  {
   "cell_type": "code",
   "execution_count": 124,
   "metadata": {},
   "outputs": [
    {
     "data": {
      "text/plain": [
       "False"
      ]
     },
     "execution_count": 124,
     "metadata": {},
     "output_type": "execute_result"
    }
   ],
   "source": [
    "tup1 is tup3"
   ]
  },
  {
   "cell_type": "code",
   "execution_count": 125,
   "metadata": {},
   "outputs": [],
   "source": [
    "tup5 = tup1"
   ]
  },
  {
   "cell_type": "code",
   "execution_count": 126,
   "metadata": {},
   "outputs": [
    {
     "name": "stdout",
     "output_type": "stream",
     "text": [
      "2419363901696 2419364551744 2419364734144 2419364292928 2419363901696\n"
     ]
    }
   ],
   "source": [
    "print(id(tup1), id(tup2),id(tup3), id(tup4), id(tup5))"
   ]
  },
  {
   "cell_type": "code",
   "execution_count": 132,
   "metadata": {},
   "outputs": [
    {
     "name": "stdout",
     "output_type": "stream",
     "text": [
      "True\n",
      "False\n",
      "2419364098912 2419364811856\n"
     ]
    }
   ],
   "source": [
    "a = 'Это строка'\n",
    "b = 'Это строка'\n",
    "print(a == b)\n",
    "print(a is b)\n",
    "print(id(a), id(b))"
   ]
  },
  {
   "cell_type": "code",
   "execution_count": 134,
   "metadata": {},
   "outputs": [
    {
     "name": "stdout",
     "output_type": "stream",
     "text": [
      "True\n",
      "False\n"
     ]
    }
   ],
   "source": [
    "c = 'это_строка'\n",
    "d = 'это_строка'\n",
    "print(c == d)\n",
    "print(c is d)"
   ]
  },
  {
   "cell_type": "code",
   "execution_count": 135,
   "metadata": {},
   "outputs": [
    {
     "name": "stdout",
     "output_type": "stream",
     "text": [
      "True\n",
      "True\n",
      "2419358253424 2419358253424\n"
     ]
    }
   ],
   "source": [
    "e = 'it_is_string'\n",
    "f = 'it_is_string'\n",
    "print(e == f)\n",
    "print(e is f)\n",
    "print(id(e), id(f))"
   ]
  },
  {
   "cell_type": "code",
   "execution_count": 136,
   "metadata": {},
   "outputs": [
    {
     "name": "stdout",
     "output_type": "stream",
     "text": [
      "False\n",
      "True\n"
     ]
    }
   ],
   "source": [
    "a = \"OurString\"\n",
    "b = \"\".join([\"O\", \"u\", \"r\", \"S\", \"t\", \"r\", \"i\", \"n\", \"g\"])\n",
    "c = str(b)\n",
    "print(a is b)\n",
    "print(a == b)"
   ]
  },
  {
   "cell_type": "code",
   "execution_count": 137,
   "metadata": {},
   "outputs": [],
   "source": [
    "c = b"
   ]
  },
  {
   "cell_type": "code",
   "execution_count": 140,
   "metadata": {},
   "outputs": [
    {
     "data": {
      "text/plain": [
       "False"
      ]
     },
     "execution_count": 140,
     "metadata": {},
     "output_type": "execute_result"
    }
   ],
   "source": [
    "a is c"
   ]
  },
  {
   "cell_type": "code",
   "execution_count": 146,
   "metadata": {},
   "outputs": [
    {
     "name": "stdout",
     "output_type": "stream",
     "text": [
      "OurString\n",
      "OurString\n"
     ]
    }
   ],
   "source": [
    "a1 = \"Our\"\n",
    "b1 = \"String\"\n",
    "c1 = a1+b1\n",
    "print(c1)\n",
    "c2 = \"Our\"+\"String\"\n",
    "print(c2)\n"
   ]
  },
  {
   "cell_type": "code",
   "execution_count": 147,
   "metadata": {},
   "outputs": [
    {
     "name": "stdout",
     "output_type": "stream",
     "text": [
      "False\n",
      "True\n"
     ]
    }
   ],
   "source": [
    "print(c1 is a)\n",
    "print(c2 is a)"
   ]
  },
  {
   "attachments": {},
   "cell_type": "markdown",
   "metadata": {},
   "source": [
    "ASCII символы, цифры, или подчеркивания"
   ]
  },
  {
   "cell_type": "code",
   "execution_count": 53,
   "metadata": {},
   "outputs": [
    {
     "name": "stdout",
     "output_type": "stream",
     "text": [
      "©\n",
      "©\n",
      "True\n"
     ]
    }
   ],
   "source": [
    "a = chr(169)\n",
    "print(a)\n",
    "\n",
    "b = chr(169)\n",
    "print(b)\n",
    "\n",
    "print(a is b)\n"
   ]
  },
  {
   "cell_type": "code",
   "execution_count": 52,
   "metadata": {},
   "outputs": [
    {
     "name": "stdout",
     "output_type": "stream",
     "text": [
      "Ω\n",
      "Ω\n",
      "False\n"
     ]
    }
   ],
   "source": [
    "a = chr(937)\n",
    "print(a)\n",
    "b = chr(937)\n",
    "print(b)\n",
    "print(a is b)\n"
   ]
  },
  {
   "cell_type": "code",
   "execution_count": null,
   "metadata": {},
   "outputs": [],
   "source": [
    "c = sys.intern('это_строка')\n",
    "d = sys.intern('это_строка')\n",
    "print(c == d)\n",
    "print(c is d)"
   ]
  },
  {
   "attachments": {},
   "cell_type": "markdown",
   "metadata": {},
   "source": [
    "* Все в Python является объектом, чем-то, на что может ссылаться переменная.\n",
    "\n",
    "* Объекты классифицируются по их значению, типу и идентификатору (он же адрес памяти).\n",
    "\n",
    "* Значение неизменяемого (int, str и т.д) объекта привязано к его идентичности — если значение меняется, меняется и объект.\n",
    "\n",
    "* Значение изменяемого (list, dict и т.д) объекта не привязано к его идентичности — идентичность сохраняется при вносимых в объект изменениях.\n",
    "\n",
    "Реализация Python на CPython предварительно выделяет общие значения, определенные диапазоны часто используемых неизменяемых типов.\n",
    "Когда Python получает указание создать новый неизменяемый объект, он сначала проверяет, существует ли уже идентичный объект в качестве общего объекта.\n",
    "Также обратите внимание, что поведение, обсуждаемое в этом видео, характерно для CPython версии 3.0 и выше. \n",
    "Вам не гарантируется одинаковое поведение в разных реализациях или версиях Python."
   ]
  }
 ],
 "metadata": {
  "kernelspec": {
   "display_name": "Python 3",
   "language": "python",
   "name": "python3"
  },
  "language_info": {
   "codemirror_mode": {
    "name": "ipython",
    "version": 3
   },
   "file_extension": ".py",
   "mimetype": "text/x-python",
   "name": "python",
   "nbconvert_exporter": "python",
   "pygments_lexer": "ipython3",
   "version": "3.11.0"
  },
  "orig_nbformat": 4
 },
 "nbformat": 4,
 "nbformat_minor": 2
}

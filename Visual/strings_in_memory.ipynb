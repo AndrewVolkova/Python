{
 "cells": [
  {
   "cell_type": "code",
   "execution_count": 10,
   "metadata": {},
   "outputs": [],
   "source": [
    "import sys"
   ]
  },
  {
   "cell_type": "code",
   "execution_count": 56,
   "metadata": {},
   "outputs": [
    {
     "name": "stdout",
     "output_type": "stream",
     "text": [
      "True\n",
      "False\n",
      "2419364098576 2419364099024\n"
     ]
    }
   ],
   "source": [
    "a = 'Это строка'\n",
    "b = 'Это строка'\n",
    "print(a == b)\n",
    "print(a is b)\n",
    "print(id(a), id(b))"
   ]
  },
  {
   "cell_type": "code",
   "execution_count": 49,
   "metadata": {},
   "outputs": [
    {
     "name": "stdout",
     "output_type": "stream",
     "text": [
      "True\n",
      "False\n"
     ]
    }
   ],
   "source": [
    "c = 'это_строка'\n",
    "d = 'это_строка'\n",
    "print(c == d)\n",
    "print(c is d)"
   ]
  },
  {
   "cell_type": "code",
   "execution_count": 54,
   "metadata": {},
   "outputs": [
    {
     "name": "stdout",
     "output_type": "stream",
     "text": [
      "True\n",
      "True\n",
      "2419358253424 2419358253424\n"
     ]
    }
   ],
   "source": [
    "e = 'it_is_string'\n",
    "f = 'it_is_string'\n",
    "print(e == f)\n",
    "print(e is f)\n",
    "print(id(e), id(f))"
   ]
  },
  {
   "cell_type": "code",
   "execution_count": 59,
   "metadata": {},
   "outputs": [
    {
     "name": "stdout",
     "output_type": "stream",
     "text": [
      "False\n",
      "True\n"
     ]
    }
   ],
   "source": [
    "a = \"OurString\"\n",
    "b = \"\".join([\"O\", \"u\", \"r\", \"S\", \"t\", \"r\", \"i\", \"n\", \"g\"])\n",
    "c = str(b)\n",
    "print(a is b)\n",
    "print(a == b)"
   ]
  },
  {
   "cell_type": "code",
   "execution_count": 31,
   "metadata": {},
   "outputs": [],
   "source": [
    "c = b"
   ]
  },
  {
   "cell_type": "code",
   "execution_count": 33,
   "metadata": {},
   "outputs": [
    {
     "data": {
      "text/plain": [
       "True"
      ]
     },
     "execution_count": 33,
     "metadata": {},
     "output_type": "execute_result"
    }
   ],
   "source": [
    "b is c"
   ]
  },
  {
   "cell_type": "code",
   "execution_count": 39,
   "metadata": {},
   "outputs": [
    {
     "data": {
      "text/plain": [
       "'OurString'"
      ]
     },
     "execution_count": 39,
     "metadata": {},
     "output_type": "execute_result"
    }
   ],
   "source": [
    "a1 = \"Our\"\n",
    "b1 = \"String\"\n",
    "c1 = a1+b1\n",
    "c1\n"
   ]
  },
  {
   "cell_type": "code",
   "execution_count": 40,
   "metadata": {},
   "outputs": [
    {
     "data": {
      "text/plain": [
       "False"
      ]
     },
     "execution_count": 40,
     "metadata": {},
     "output_type": "execute_result"
    }
   ],
   "source": [
    "c1 is a"
   ]
  },
  {
   "attachments": {},
   "cell_type": "markdown",
   "metadata": {},
   "source": [
    "ASCII символы, цифры, или подчеркивания"
   ]
  },
  {
   "cell_type": "code",
   "execution_count": 53,
   "metadata": {},
   "outputs": [
    {
     "name": "stdout",
     "output_type": "stream",
     "text": [
      "©\n",
      "©\n",
      "True\n"
     ]
    }
   ],
   "source": [
    "a = chr(169)\n",
    "print(a)\n",
    "\n",
    "b = chr(169)\n",
    "print(b)\n",
    "\n",
    "print(a is b)\n"
   ]
  },
  {
   "cell_type": "code",
   "execution_count": 52,
   "metadata": {},
   "outputs": [
    {
     "name": "stdout",
     "output_type": "stream",
     "text": [
      "Ω\n",
      "Ω\n",
      "False\n"
     ]
    }
   ],
   "source": [
    "a = chr(937)\n",
    "print(a)\n",
    "b = chr(937)\n",
    "print(b)\n",
    "print(a is b)\n"
   ]
  },
  {
   "cell_type": "code",
   "execution_count": null,
   "metadata": {},
   "outputs": [],
   "source": [
    "c = sys.intern('это_строка')\n",
    "d = sys.intern('это_строка')\n",
    "print(c == d)\n",
    "print(c is d)"
   ]
  },
  {
   "attachments": {},
   "cell_type": "markdown",
   "metadata": {},
   "source": [
    "* Все в Python является объектом, чем-то, на что может ссылаться переменная.\n",
    "\n",
    "* Объекты классифицируются по их значению, типу и идентификатору (он же адрес памяти).\n",
    "\n",
    "* Значение неизменяемого (int, str и т.д) объекта привязано к его идентичности — если значение меняется, меняется и объект.\n",
    "\n",
    "* Значение изменяемого (list, dict и т.д) объекта не привязано к его идентичности — идентичность сохраняется при вносимых в объект изменениях.\n",
    "\n",
    "Реализация Python на CPython предварительно выделяет общие значения, определенные диапазоны часто используемых неизменяемых типов.\n",
    "Когда Python получает указание создать новый неизменяемый объект, он сначала проверяет, существует ли уже идентичный объект в качестве общего объекта.\n",
    "Также обратите внимание, что поведение, обсуждаемое в этом видео, характерно для CPython версии 3.0 и выше. \n",
    "Вам не гарантируется одинаковое поведение в разных реализациях или версиях Python."
   ]
  }
 ],
 "metadata": {
  "kernelspec": {
   "display_name": "Python 3",
   "language": "python",
   "name": "python3"
  },
  "language_info": {
   "codemirror_mode": {
    "name": "ipython",
    "version": 3
   },
   "file_extension": ".py",
   "mimetype": "text/x-python",
   "name": "python",
   "nbconvert_exporter": "python",
   "pygments_lexer": "ipython3",
   "version": "3.11.0"
  },
  "orig_nbformat": 4
 },
 "nbformat": 4,
 "nbformat_minor": 2
}

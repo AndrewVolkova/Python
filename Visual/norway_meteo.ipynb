{
 "cells": [
  {
   "cell_type": "code",
   "execution_count": 1,
   "metadata": {},
   "outputs": [],
   "source": [
    "import plotly.express as px\n",
    "import pandas as pd\n",
    "import numpy as np\n",
    "import geopandas as gpd\n",
    "from shapely.geometry import Point\n"
   ]
  },
  {
   "cell_type": "markdown",
   "metadata": {},
   "source": [
    "- [vscode](https://code.visualstudio.com/download)\n",
    "- [markdown](https://www.markdownguide.org/cheat-sheet/)\n",
    "- [jupyter](https://jupyter.org/)\n",
    "\n"
   ]
  },
  {
   "cell_type": "markdown",
   "metadata": {},
   "source": [
    "## Чтение данных"
   ]
  },
  {
   "cell_type": "code",
   "execution_count": 3,
   "metadata": {},
   "outputs": [],
   "source": [
    "meteo = pd.read_csv('../data/NorwayMeteoDataCompleted.csv')"
   ]
  },
  {
   "cell_type": "code",
   "execution_count": 4,
   "metadata": {},
   "outputs": [
    {
     "name": "stdout",
     "output_type": "stream",
     "text": [
      "<class 'pandas.core.frame.DataFrame'>\n",
      "RangeIndex: 237629 entries, 0 to 237628\n",
      "Data columns (total 14 columns):\n",
      " #   Column                         Non-Null Count   Dtype  \n",
      "---  ------                         --------------   -----  \n",
      " 0   Unnamed: 0                     237629 non-null  int64  \n",
      " 1   sourceId                       237629 non-null  object \n",
      " 2   latitude                       237629 non-null  float64\n",
      " 3   longtitude                     237629 non-null  float64\n",
      " 4   max(air_temperature P1D)       44766 non-null   float64\n",
      " 5   max(relative_humidity P1D)     36965 non-null   float64\n",
      " 6   max(wind_speed P1D)            35260 non-null   float64\n",
      " 7   mean(air_temperature P1D)      63551 non-null   float64\n",
      " 8   mean(relative_humidity P1D)    37411 non-null   float64\n",
      " 9   mean(wind_speed P1D)           35260 non-null   float64\n",
      " 10  sum(precipitation_amount P1D)  107937 non-null  float64\n",
      " 11  day                            237629 non-null  int64  \n",
      " 12  month                          237629 non-null  int64  \n",
      " 13  year                           237629 non-null  int64  \n",
      "dtypes: float64(9), int64(4), object(1)\n",
      "memory usage: 25.4+ MB\n"
     ]
    }
   ],
   "source": [
    "meteo.info()"
   ]
  },
  {
   "cell_type": "code",
   "execution_count": 5,
   "metadata": {},
   "outputs": [
    {
     "data": {
      "text/plain": [
       "(55, 3)"
      ]
     },
     "execution_count": 5,
     "metadata": {},
     "output_type": "execute_result"
    }
   ],
   "source": [
    "meteo_air = meteo[meteo['mean(air_temperature P1D)'].notnull()]\n",
    "meteo.latitude.unique()\n",
    "coor = meteo[['sourceId','latitude','longtitude']].drop_duplicates()\n",
    "coor.shape\n"
   ]
  },
  {
   "cell_type": "markdown",
   "metadata": {},
   "source": [
    "<p style = \"background-color : DodgerBlue; border-radius: 5px 5px; padding : 3px\"><strong></strong></p> \n",
    "\n",
    "## Графики\n",
    "<p style = \"background-color : DarkGreen; border-radius: 5px 5px; padding : 3px\"><strong></strong></p> \n",
    "\n",
    "### 1. Начальный график"
   ]
  },
  {
   "cell_type": "code",
   "execution_count": 6,
   "metadata": {},
   "outputs": [
    {
     "data": {
      "application/vnd.plotly.v1+json": {
       "config": {
        "plotlyServerURL": "https://plot.ly"
       },
       "data": [
        {
         "colorscale": [
          [
           0,
           "#636efa"
          ],
          [
           1,
           "#636efa"
          ]
         ],
         "geo": "geo",
         "hovertemplate": "locations=%{location}<extra></extra>",
         "locationmode": "country names",
         "locations": [
          "Norway"
         ],
         "name": "",
         "showlegend": true,
         "showscale": false,
         "type": "choropleth",
         "z": [
          1
         ]
        },
        {
         "lat": [
          61.1349,
          58.99,
          50.1002777777778,
          61.674,
          45.4730555555556,
          44.1072222222222,
          41.55,
          62.0172,
          59.873,
          59.946,
          66.0513888888889,
          66.7757,
          69.2022222222222,
          63.9226,
          61.7111,
          58.3944444444444,
          56.0305555555556,
          56.8463888888889,
          53.9022222222222,
          59.7523,
          59.2625,
          59.3072,
          59.4175,
          51.1616666666667,
          59.946,
          58.8842,
          59.8577805,
          59.9127,
          61.345,
          61.3473,
          61.5647,
          61.9037,
          62.2583,
          63.554,
          63.4597,
          48.3247222222222,
          64.8382,
          60.4913,
          36.6661111111111,
          68.6178,
          69.3875,
          69.7887,
          62.2958,
          70.3133,
          69.3003,
          69.3717,
          58.1302,
          63.0493,
          60.8632,
          65.2574,
          61.2433,
          59.7675,
          60.3011111111111,
          60.3372,
          70.3357
         ],
         "locationmode": "country names",
         "lon": [
          12.5039,
          11.5408,
          14.2555555555556,
          8.3685,
          28.0322222222222,
          24.9786111111111,
          23.2666666666667,
          9.2143,
          10.7912,
          10.7903,
          17.8397222222222,
          21.8444,
          35.1069444444444,
          19.8144,
          16.1667,
          19.1977777777778,
          12.7652777777778,
          14.8325,
          25.3233333333333,
          10.1705,
          10.4985,
          11.1338,
          9.0287,
          -1.75472222222222,
          10.9762,
          5.7183,
          6.0169242,
          5.488,
          7.2623,
          6.8745,
          5.6658,
          6.7183,
          8.2,
          9.0533,
          10.9305,
          4.02,
          11.9547,
          2.8257,
          -4.48222222222222,
          15.7593,
          20.2823,
          20.9553,
          9.352,
          25.5703,
          25.346,
          29.692,
          8.0947,
          9.0878,
          11.4172,
          15.5269,
          8.8557,
          7.8173,
          19.1313888888889,
          6.2175,
          28.9648
         ],
         "type": "scattergeo"
        }
       ],
       "layout": {
        "geo": {
         "center": {},
         "domain": {
          "x": [
           0,
           1
          ],
          "y": [
           0,
           1
          ]
         },
         "fitbounds": "locations",
         "projection": {
          "type": "natural earth"
         },
         "scope": "europe"
        },
        "legend": {
         "tracegroupgap": 0
        },
        "margin": {
         "t": 60
        },
        "template": {
         "data": {
          "bar": [
           {
            "error_x": {
             "color": "#2a3f5f"
            },
            "error_y": {
             "color": "#2a3f5f"
            },
            "marker": {
             "line": {
              "color": "#E5ECF6",
              "width": 0.5
             },
             "pattern": {
              "fillmode": "overlay",
              "size": 10,
              "solidity": 0.2
             }
            },
            "type": "bar"
           }
          ],
          "barpolar": [
           {
            "marker": {
             "line": {
              "color": "#E5ECF6",
              "width": 0.5
             },
             "pattern": {
              "fillmode": "overlay",
              "size": 10,
              "solidity": 0.2
             }
            },
            "type": "barpolar"
           }
          ],
          "carpet": [
           {
            "aaxis": {
             "endlinecolor": "#2a3f5f",
             "gridcolor": "white",
             "linecolor": "white",
             "minorgridcolor": "white",
             "startlinecolor": "#2a3f5f"
            },
            "baxis": {
             "endlinecolor": "#2a3f5f",
             "gridcolor": "white",
             "linecolor": "white",
             "minorgridcolor": "white",
             "startlinecolor": "#2a3f5f"
            },
            "type": "carpet"
           }
          ],
          "choropleth": [
           {
            "colorbar": {
             "outlinewidth": 0,
             "ticks": ""
            },
            "type": "choropleth"
           }
          ],
          "contour": [
           {
            "colorbar": {
             "outlinewidth": 0,
             "ticks": ""
            },
            "colorscale": [
             [
              0,
              "#0d0887"
             ],
             [
              0.1111111111111111,
              "#46039f"
             ],
             [
              0.2222222222222222,
              "#7201a8"
             ],
             [
              0.3333333333333333,
              "#9c179e"
             ],
             [
              0.4444444444444444,
              "#bd3786"
             ],
             [
              0.5555555555555556,
              "#d8576b"
             ],
             [
              0.6666666666666666,
              "#ed7953"
             ],
             [
              0.7777777777777778,
              "#fb9f3a"
             ],
             [
              0.8888888888888888,
              "#fdca26"
             ],
             [
              1,
              "#f0f921"
             ]
            ],
            "type": "contour"
           }
          ],
          "contourcarpet": [
           {
            "colorbar": {
             "outlinewidth": 0,
             "ticks": ""
            },
            "type": "contourcarpet"
           }
          ],
          "heatmap": [
           {
            "colorbar": {
             "outlinewidth": 0,
             "ticks": ""
            },
            "colorscale": [
             [
              0,
              "#0d0887"
             ],
             [
              0.1111111111111111,
              "#46039f"
             ],
             [
              0.2222222222222222,
              "#7201a8"
             ],
             [
              0.3333333333333333,
              "#9c179e"
             ],
             [
              0.4444444444444444,
              "#bd3786"
             ],
             [
              0.5555555555555556,
              "#d8576b"
             ],
             [
              0.6666666666666666,
              "#ed7953"
             ],
             [
              0.7777777777777778,
              "#fb9f3a"
             ],
             [
              0.8888888888888888,
              "#fdca26"
             ],
             [
              1,
              "#f0f921"
             ]
            ],
            "type": "heatmap"
           }
          ],
          "heatmapgl": [
           {
            "colorbar": {
             "outlinewidth": 0,
             "ticks": ""
            },
            "colorscale": [
             [
              0,
              "#0d0887"
             ],
             [
              0.1111111111111111,
              "#46039f"
             ],
             [
              0.2222222222222222,
              "#7201a8"
             ],
             [
              0.3333333333333333,
              "#9c179e"
             ],
             [
              0.4444444444444444,
              "#bd3786"
             ],
             [
              0.5555555555555556,
              "#d8576b"
             ],
             [
              0.6666666666666666,
              "#ed7953"
             ],
             [
              0.7777777777777778,
              "#fb9f3a"
             ],
             [
              0.8888888888888888,
              "#fdca26"
             ],
             [
              1,
              "#f0f921"
             ]
            ],
            "type": "heatmapgl"
           }
          ],
          "histogram": [
           {
            "marker": {
             "pattern": {
              "fillmode": "overlay",
              "size": 10,
              "solidity": 0.2
             }
            },
            "type": "histogram"
           }
          ],
          "histogram2d": [
           {
            "colorbar": {
             "outlinewidth": 0,
             "ticks": ""
            },
            "colorscale": [
             [
              0,
              "#0d0887"
             ],
             [
              0.1111111111111111,
              "#46039f"
             ],
             [
              0.2222222222222222,
              "#7201a8"
             ],
             [
              0.3333333333333333,
              "#9c179e"
             ],
             [
              0.4444444444444444,
              "#bd3786"
             ],
             [
              0.5555555555555556,
              "#d8576b"
             ],
             [
              0.6666666666666666,
              "#ed7953"
             ],
             [
              0.7777777777777778,
              "#fb9f3a"
             ],
             [
              0.8888888888888888,
              "#fdca26"
             ],
             [
              1,
              "#f0f921"
             ]
            ],
            "type": "histogram2d"
           }
          ],
          "histogram2dcontour": [
           {
            "colorbar": {
             "outlinewidth": 0,
             "ticks": ""
            },
            "colorscale": [
             [
              0,
              "#0d0887"
             ],
             [
              0.1111111111111111,
              "#46039f"
             ],
             [
              0.2222222222222222,
              "#7201a8"
             ],
             [
              0.3333333333333333,
              "#9c179e"
             ],
             [
              0.4444444444444444,
              "#bd3786"
             ],
             [
              0.5555555555555556,
              "#d8576b"
             ],
             [
              0.6666666666666666,
              "#ed7953"
             ],
             [
              0.7777777777777778,
              "#fb9f3a"
             ],
             [
              0.8888888888888888,
              "#fdca26"
             ],
             [
              1,
              "#f0f921"
             ]
            ],
            "type": "histogram2dcontour"
           }
          ],
          "mesh3d": [
           {
            "colorbar": {
             "outlinewidth": 0,
             "ticks": ""
            },
            "type": "mesh3d"
           }
          ],
          "parcoords": [
           {
            "line": {
             "colorbar": {
              "outlinewidth": 0,
              "ticks": ""
             }
            },
            "type": "parcoords"
           }
          ],
          "pie": [
           {
            "automargin": true,
            "type": "pie"
           }
          ],
          "scatter": [
           {
            "fillpattern": {
             "fillmode": "overlay",
             "size": 10,
             "solidity": 0.2
            },
            "type": "scatter"
           }
          ],
          "scatter3d": [
           {
            "line": {
             "colorbar": {
              "outlinewidth": 0,
              "ticks": ""
             }
            },
            "marker": {
             "colorbar": {
              "outlinewidth": 0,
              "ticks": ""
             }
            },
            "type": "scatter3d"
           }
          ],
          "scattercarpet": [
           {
            "marker": {
             "colorbar": {
              "outlinewidth": 0,
              "ticks": ""
             }
            },
            "type": "scattercarpet"
           }
          ],
          "scattergeo": [
           {
            "marker": {
             "colorbar": {
              "outlinewidth": 0,
              "ticks": ""
             }
            },
            "type": "scattergeo"
           }
          ],
          "scattergl": [
           {
            "marker": {
             "colorbar": {
              "outlinewidth": 0,
              "ticks": ""
             }
            },
            "type": "scattergl"
           }
          ],
          "scattermapbox": [
           {
            "marker": {
             "colorbar": {
              "outlinewidth": 0,
              "ticks": ""
             }
            },
            "type": "scattermapbox"
           }
          ],
          "scatterpolar": [
           {
            "marker": {
             "colorbar": {
              "outlinewidth": 0,
              "ticks": ""
             }
            },
            "type": "scatterpolar"
           }
          ],
          "scatterpolargl": [
           {
            "marker": {
             "colorbar": {
              "outlinewidth": 0,
              "ticks": ""
             }
            },
            "type": "scatterpolargl"
           }
          ],
          "scatterternary": [
           {
            "marker": {
             "colorbar": {
              "outlinewidth": 0,
              "ticks": ""
             }
            },
            "type": "scatterternary"
           }
          ],
          "surface": [
           {
            "colorbar": {
             "outlinewidth": 0,
             "ticks": ""
            },
            "colorscale": [
             [
              0,
              "#0d0887"
             ],
             [
              0.1111111111111111,
              "#46039f"
             ],
             [
              0.2222222222222222,
              "#7201a8"
             ],
             [
              0.3333333333333333,
              "#9c179e"
             ],
             [
              0.4444444444444444,
              "#bd3786"
             ],
             [
              0.5555555555555556,
              "#d8576b"
             ],
             [
              0.6666666666666666,
              "#ed7953"
             ],
             [
              0.7777777777777778,
              "#fb9f3a"
             ],
             [
              0.8888888888888888,
              "#fdca26"
             ],
             [
              1,
              "#f0f921"
             ]
            ],
            "type": "surface"
           }
          ],
          "table": [
           {
            "cells": {
             "fill": {
              "color": "#EBF0F8"
             },
             "line": {
              "color": "white"
             }
            },
            "header": {
             "fill": {
              "color": "#C8D4E3"
             },
             "line": {
              "color": "white"
             }
            },
            "type": "table"
           }
          ]
         },
         "layout": {
          "annotationdefaults": {
           "arrowcolor": "#2a3f5f",
           "arrowhead": 0,
           "arrowwidth": 1
          },
          "autotypenumbers": "strict",
          "coloraxis": {
           "colorbar": {
            "outlinewidth": 0,
            "ticks": ""
           }
          },
          "colorscale": {
           "diverging": [
            [
             0,
             "#8e0152"
            ],
            [
             0.1,
             "#c51b7d"
            ],
            [
             0.2,
             "#de77ae"
            ],
            [
             0.3,
             "#f1b6da"
            ],
            [
             0.4,
             "#fde0ef"
            ],
            [
             0.5,
             "#f7f7f7"
            ],
            [
             0.6,
             "#e6f5d0"
            ],
            [
             0.7,
             "#b8e186"
            ],
            [
             0.8,
             "#7fbc41"
            ],
            [
             0.9,
             "#4d9221"
            ],
            [
             1,
             "#276419"
            ]
           ],
           "sequential": [
            [
             0,
             "#0d0887"
            ],
            [
             0.1111111111111111,
             "#46039f"
            ],
            [
             0.2222222222222222,
             "#7201a8"
            ],
            [
             0.3333333333333333,
             "#9c179e"
            ],
            [
             0.4444444444444444,
             "#bd3786"
            ],
            [
             0.5555555555555556,
             "#d8576b"
            ],
            [
             0.6666666666666666,
             "#ed7953"
            ],
            [
             0.7777777777777778,
             "#fb9f3a"
            ],
            [
             0.8888888888888888,
             "#fdca26"
            ],
            [
             1,
             "#f0f921"
            ]
           ],
           "sequentialminus": [
            [
             0,
             "#0d0887"
            ],
            [
             0.1111111111111111,
             "#46039f"
            ],
            [
             0.2222222222222222,
             "#7201a8"
            ],
            [
             0.3333333333333333,
             "#9c179e"
            ],
            [
             0.4444444444444444,
             "#bd3786"
            ],
            [
             0.5555555555555556,
             "#d8576b"
            ],
            [
             0.6666666666666666,
             "#ed7953"
            ],
            [
             0.7777777777777778,
             "#fb9f3a"
            ],
            [
             0.8888888888888888,
             "#fdca26"
            ],
            [
             1,
             "#f0f921"
            ]
           ]
          },
          "colorway": [
           "#636efa",
           "#EF553B",
           "#00cc96",
           "#ab63fa",
           "#FFA15A",
           "#19d3f3",
           "#FF6692",
           "#B6E880",
           "#FF97FF",
           "#FECB52"
          ],
          "font": {
           "color": "#2a3f5f"
          },
          "geo": {
           "bgcolor": "white",
           "lakecolor": "white",
           "landcolor": "#E5ECF6",
           "showlakes": true,
           "showland": true,
           "subunitcolor": "white"
          },
          "hoverlabel": {
           "align": "left"
          },
          "hovermode": "closest",
          "mapbox": {
           "style": "light"
          },
          "paper_bgcolor": "white",
          "plot_bgcolor": "#E5ECF6",
          "polar": {
           "angularaxis": {
            "gridcolor": "white",
            "linecolor": "white",
            "ticks": ""
           },
           "bgcolor": "#E5ECF6",
           "radialaxis": {
            "gridcolor": "white",
            "linecolor": "white",
            "ticks": ""
           }
          },
          "scene": {
           "xaxis": {
            "backgroundcolor": "#E5ECF6",
            "gridcolor": "white",
            "gridwidth": 2,
            "linecolor": "white",
            "showbackground": true,
            "ticks": "",
            "zerolinecolor": "white"
           },
           "yaxis": {
            "backgroundcolor": "#E5ECF6",
            "gridcolor": "white",
            "gridwidth": 2,
            "linecolor": "white",
            "showbackground": true,
            "ticks": "",
            "zerolinecolor": "white"
           },
           "zaxis": {
            "backgroundcolor": "#E5ECF6",
            "gridcolor": "white",
            "gridwidth": 2,
            "linecolor": "white",
            "showbackground": true,
            "ticks": "",
            "zerolinecolor": "white"
           }
          },
          "shapedefaults": {
           "line": {
            "color": "#2a3f5f"
           }
          },
          "ternary": {
           "aaxis": {
            "gridcolor": "white",
            "linecolor": "white",
            "ticks": ""
           },
           "baxis": {
            "gridcolor": "white",
            "linecolor": "white",
            "ticks": ""
           },
           "bgcolor": "#E5ECF6",
           "caxis": {
            "gridcolor": "white",
            "linecolor": "white",
            "ticks": ""
           }
          },
          "title": {
           "x": 0.05
          },
          "xaxis": {
           "automargin": true,
           "gridcolor": "white",
           "linecolor": "white",
           "ticks": "",
           "title": {
            "standoff": 15
           },
           "zerolinecolor": "white",
           "zerolinewidth": 2
          },
          "yaxis": {
           "automargin": true,
           "gridcolor": "white",
           "linecolor": "white",
           "ticks": "",
           "title": {
            "standoff": 15
           },
           "zerolinecolor": "white",
           "zerolinewidth": 2
          }
         }
        }
       }
      }
     },
     "metadata": {},
     "output_type": "display_data"
    }
   ],
   "source": [
    "fig = px.choropleth(\n",
    "    data_frame=meteo,\n",
    "    locations=['Norway'], #столбец с локациями\n",
    "    locationmode = \"country names\", #режим сопоставления локаций с базой Plotly\n",
    "    color_continuous_scale='tropic', #палитра цветов\n",
    "    scope='europe', # указываем что работаем только с диапазоном Европа\n",
    "    fitbounds='locations', # фитим только диапазон Европы только затронутых стран\n",
    "    projection = 'natural earth', # стиль отображения карты - данный лучше подходит в нашем случае\n",
    ")\n",
    "\n",
    "fig.add_scattergeo(\n",
    "#   locations = covid_data_full.Country,\n",
    "  lat=coor.latitude,\n",
    "  lon=coor.longtitude, \n",
    "  locationmode='country names',\n",
    "\n",
    ")\n",
    "\n",
    "fig.show()"
   ]
  },
  {
   "cell_type": "markdown",
   "metadata": {},
   "source": [
    "### Получение геометрии стран"
   ]
  },
  {
   "cell_type": "code",
   "execution_count": 7,
   "metadata": {},
   "outputs": [
    {
     "name": "stdout",
     "output_type": "stream",
     "text": [
      "<class 'geopandas.geodataframe.GeoDataFrame'>\n",
      "RangeIndex: 177 entries, 0 to 176\n",
      "Data columns (total 6 columns):\n",
      " #   Column      Non-Null Count  Dtype   \n",
      "---  ------      --------------  -----   \n",
      " 0   pop_est     177 non-null    float64 \n",
      " 1   continent   177 non-null    object  \n",
      " 2   name        177 non-null    object  \n",
      " 3   iso_a3      177 non-null    object  \n",
      " 4   gdp_md_est  177 non-null    int64   \n",
      " 5   geometry    177 non-null    geometry\n",
      "dtypes: float64(1), geometry(1), int64(1), object(3)\n",
      "memory usage: 8.4+ KB\n"
     ]
    }
   ],
   "source": [
    "path_to_data = gpd.datasets.get_path(\"naturalearth_lowres\")\n",
    "gdf = gpd.read_file(path_to_data)\n",
    "json = gpd.GeoSeries(gdf[gdf.name == 'Russia'].geometry).__geo_interface__\n",
    "gdf.info()"
   ]
  },
  {
   "cell_type": "code",
   "execution_count": 8,
   "metadata": {},
   "outputs": [
    {
     "data": {
      "image/svg+xml": [
       "<svg xmlns=\"http://www.w3.org/2000/svg\" xmlns:xlink=\"http://www.w3.org/1999/xlink\" width=\"100.0\" height=\"100.0\" viewBox=\"3.9400244645435194 57.02683056907183 28.405447558707394 24.68236731780707\" preserveAspectRatio=\"xMinYMin meet\"><g transform=\"matrix(1,0,0,-1,0,138.73602845595073)\"><g><path fill-rule=\"evenodd\" fill=\"#66cc99\" stroke=\"#555555\" stroke-width=\"0.5681089511741478\" opacity=\"0.6\" d=\"M 15.142820000000002,79.67431 L 15.52255,80.01608 L 16.990850000000002,80.05086 L 18.25183,79.70175 L 21.54383,78.95611 L 19.02737,78.5626 L 18.47172,77.82669 L 17.59441,77.63796 L 17.1182,76.80941 L 15.91315,76.77045 L 13.76259,77.38035 L 14.669560000000002,77.73565 L 13.1706,78.02493 L 11.22231,78.8693 L 10.44453,79.65239 L 13.170770000000001,80.01046000000001 L 13.71852,79.66039 L 15.142820000000002,79.67431 z\" /><path fill-rule=\"evenodd\" fill=\"#66cc99\" stroke=\"#555555\" stroke-width=\"0.5681089511741478\" opacity=\"0.6\" d=\"M 31.101042202597625,69.55810108805622 L 29.399550000000033,69.15692000000013 L 28.591929559043194,69.06477692328666 L 29.015572950971972,69.76649119737799 L 27.732292107867863,70.16419302029625 L 26.179622023226244,69.82529897732614 L 25.689212680776365,69.09211375596904 L 24.735679152126725,68.64955678982146 L 23.66204959483076,68.89124746365054 L 22.356237827247412,68.84174144151491 L 21.244936150810673,69.37044302029308 L 20.645592889089528,69.10624726020087 L 20.025268995857886,69.0651386583127 L 19.878559604581255,68.40719432237258 L 17.993868442464333,68.56739126247736 L 17.729181756265348,68.01055186631628 L 16.768878614985482,68.0139366726314 L 16.108712192456778,67.30245555283689 L 15.108411492583002,66.19386688909547 L 13.55568973150909,64.78702769638151 L 13.919905226302204,64.44542064071608 L 13.571916131248713,64.04911408146971 L 12.579935336973934,64.06621898055833 L 11.930569288794231,63.12831757267698 L 11.992064243221563,61.80036245385655 L 12.631146681375185,61.293571682370136 L 12.3003658382749,60.11793284773003 L 11.468271925511146,59.43239329694604 L 11.027368605196868,58.85614940045936 L 10.356556837616067,59.469807033925356 L 8.382000359743586,58.313288479233215 L 7.048748406613271,58.078884182357285 L 5.665835402050419,58.5881554225937 L 5.308234490590678,59.663231919993834 L 4.992078077828978,61.97099803328432 L 5.912900424837886,62.614472968182724 L 8.553411085655739,63.45400828719648 L 10.527709181366758,64.4860383164975 L 12.358346795306373,65.87972585719318 L 14.761145867581604,67.81064158799516 L 16.435927361728943,68.56320547146173 L 19.18402835457846,69.81744415961778 L 21.378416375420585,70.2551693793461 L 23.023742303161526,70.2020718451662 L 24.546543409938465,71.03049673123722 L 26.37004967622181,70.98626170519539 L 28.165547316202943,71.18547435168055 L 31.293418409965454,70.4537877468599 L 30.005435011522792,70.18625885688489 L 31.101042202597625,69.55810108805622 z\" /><path fill-rule=\"evenodd\" fill=\"#66cc99\" stroke=\"#555555\" stroke-width=\"0.5681089511741478\" opacity=\"0.6\" d=\"M 27.407505730913446,80.05640574820042 L 25.92465050629815,79.51783397085451 L 23.024465773213617,79.40001170522903 L 20.075188429451828,79.56682322866722 L 19.897266473070914,79.84236196564747 L 18.462263624757867,79.85988027619443 L 17.368015170977458,80.31889618602698 L 20.45599205901064,80.59815562613225 L 21.907944777115404,80.35767934846204 L 22.91925255706738,80.65714427359343 L 25.447625359811866,80.40734039989452 L 27.407505730913446,80.05640574820042 z\" /><path fill-rule=\"evenodd\" fill=\"#66cc99\" stroke=\"#555555\" stroke-width=\"0.5681089511741478\" opacity=\"0.6\" d=\"M 24.724120000000003,77.85385 L 22.490320000000004,77.44493 L 20.726010000000002,77.67704 L 21.416110000000003,77.93504 L 20.8119,78.25463 L 22.884259999999998,78.45494000000001 L 23.281340000000004,78.07954 L 24.724120000000003,77.85385 z\" /></g></g></svg>"
      ],
      "text/plain": [
       "<MULTIPOLYGON (((15.143 79.674, 15.523 80.016, 16.991 80.051, 18.252 79.702,...>"
      ]
     },
     "execution_count": 8,
     "metadata": {},
     "output_type": "execute_result"
    }
   ],
   "source": [
    "gdf.geometry.iloc[21]"
   ]
  },
  {
   "cell_type": "code",
   "execution_count": 9,
   "metadata": {},
   "outputs": [
    {
     "name": "stdout",
     "output_type": "stream",
     "text": [
      "POINT (15.468119955206761 69.15685630975351)\n"
     ]
    }
   ],
   "source": [
    "coor['in'] = coor.apply(lambda x: gdf.geometry.iloc[21].contains(Point(x.longtitude,x.latitude)), axis=1)\n",
    "print(gdf.geometry.iloc[21].centroid)"
   ]
  },
  {
   "cell_type": "markdown",
   "metadata": {},
   "source": [
    "### График с вышками на территории Норвегии только"
   ]
  },
  {
   "cell_type": "code",
   "execution_count": 10,
   "metadata": {},
   "outputs": [
    {
     "data": {
      "application/vnd.plotly.v1+json": {
       "config": {
        "plotlyServerURL": "https://plot.ly"
       },
       "data": [
        {
         "colorscale": [
          [
           0,
           "#636efa"
          ],
          [
           1,
           "#636efa"
          ]
         ],
         "geo": "geo",
         "hovertemplate": "<extra></extra>",
         "name": "",
         "showlegend": true,
         "showscale": false,
         "type": "choropleth",
         "z": []
        },
        {
         "customdata": [
          "SN100",
          "SN15262",
          "SN16400",
          "SN18160",
          "SN18420",
          "SN26872",
          "SN3200",
          "SN32240",
          "SN4110",
          "SN44710",
          "SN47890",
          "SN48170",
          "SN55520",
          "SN55735",
          "SN57630",
          "SN58560",
          "SN61630",
          "SN65530",
          "SN69100",
          "SN75100",
          "SN91380",
          "SN91740",
          "SN9380",
          "SN95590",
          "SN97710",
          "SN99500",
          "SN64870",
          "SN6690",
          "SN23560",
          "SN33300",
          "SN50110",
          "SN98978"
         ],
         "hovertemplate": "<b style=\" font-size:12px;\">%{lon} : %{lat}</b><br>%{customdata}",
         "lat": [
          61.1349,
          61.674,
          62.0172,
          59.873,
          59.946,
          59.7523,
          59.3072,
          59.4175,
          59.946,
          58.8842,
          59.8577805,
          59.9127,
          61.345,
          61.3473,
          61.5647,
          61.9037,
          62.2583,
          63.554,
          63.4597,
          64.8382,
          69.3875,
          69.7887,
          62.2958,
          70.3133,
          69.3003,
          69.3717,
          63.0493,
          60.8632,
          61.2433,
          59.7675,
          60.3372,
          70.3357
         ],
         "locationmode": "country names",
         "lon": [
          12.5039,
          8.3685,
          9.2143,
          10.7912,
          10.7903,
          10.1705,
          11.1338,
          9.0287,
          10.9762,
          5.7183,
          6.0169242,
          5.488,
          7.2623,
          6.8745,
          5.6658,
          6.7183,
          8.2,
          9.0533,
          10.9305,
          11.9547,
          20.2823,
          20.9553,
          9.352,
          25.5703,
          25.346,
          29.692,
          9.0878,
          11.4172,
          8.8557,
          7.8173,
          6.2175,
          28.9648
         ],
         "marker": {
          "color": [
           61.1349,
           61.674,
           62.0172,
           59.873,
           59.946,
           59.7523,
           59.3072,
           59.4175,
           59.946,
           58.8842,
           59.8577805,
           59.9127,
           61.345,
           61.3473,
           61.5647,
           61.9037,
           62.2583,
           63.554,
           63.4597,
           64.8382,
           69.3875,
           69.7887,
           62.2958,
           70.3133,
           69.3003,
           69.3717,
           63.0493,
           60.8632,
           61.2433,
           59.7675,
           60.3372,
           70.3357
          ]
         },
         "mode": "markers",
         "texttemplate": "<b style=\" font-size:12px;\">%{x}</b><br>%{customdata}",
         "type": "scattergeo"
        }
       ],
       "layout": {
        "geo": {
         "center": {},
         "countrycolor": "gray",
         "domain": {
          "x": [
           0,
           1
          ],
          "y": [
           0,
           1
          ]
         },
         "fitbounds": "geojson",
         "lakecolor": "lightblue",
         "projection": {
          "type": "natural earth2"
         },
         "resolution": 50,
         "scope": "europe",
         "showcountries": true,
         "showlakes": true,
         "showland": true,
         "showsubunits": true
        },
        "legend": {
         "tracegroupgap": 0
        },
        "margin": {
         "t": 60
        },
        "template": {
         "data": {
          "bar": [
           {
            "error_x": {
             "color": "#2a3f5f"
            },
            "error_y": {
             "color": "#2a3f5f"
            },
            "marker": {
             "line": {
              "color": "#E5ECF6",
              "width": 0.5
             },
             "pattern": {
              "fillmode": "overlay",
              "size": 10,
              "solidity": 0.2
             }
            },
            "type": "bar"
           }
          ],
          "barpolar": [
           {
            "marker": {
             "line": {
              "color": "#E5ECF6",
              "width": 0.5
             },
             "pattern": {
              "fillmode": "overlay",
              "size": 10,
              "solidity": 0.2
             }
            },
            "type": "barpolar"
           }
          ],
          "carpet": [
           {
            "aaxis": {
             "endlinecolor": "#2a3f5f",
             "gridcolor": "white",
             "linecolor": "white",
             "minorgridcolor": "white",
             "startlinecolor": "#2a3f5f"
            },
            "baxis": {
             "endlinecolor": "#2a3f5f",
             "gridcolor": "white",
             "linecolor": "white",
             "minorgridcolor": "white",
             "startlinecolor": "#2a3f5f"
            },
            "type": "carpet"
           }
          ],
          "choropleth": [
           {
            "colorbar": {
             "outlinewidth": 0,
             "ticks": ""
            },
            "type": "choropleth"
           }
          ],
          "contour": [
           {
            "colorbar": {
             "outlinewidth": 0,
             "ticks": ""
            },
            "colorscale": [
             [
              0,
              "#0d0887"
             ],
             [
              0.1111111111111111,
              "#46039f"
             ],
             [
              0.2222222222222222,
              "#7201a8"
             ],
             [
              0.3333333333333333,
              "#9c179e"
             ],
             [
              0.4444444444444444,
              "#bd3786"
             ],
             [
              0.5555555555555556,
              "#d8576b"
             ],
             [
              0.6666666666666666,
              "#ed7953"
             ],
             [
              0.7777777777777778,
              "#fb9f3a"
             ],
             [
              0.8888888888888888,
              "#fdca26"
             ],
             [
              1,
              "#f0f921"
             ]
            ],
            "type": "contour"
           }
          ],
          "contourcarpet": [
           {
            "colorbar": {
             "outlinewidth": 0,
             "ticks": ""
            },
            "type": "contourcarpet"
           }
          ],
          "heatmap": [
           {
            "colorbar": {
             "outlinewidth": 0,
             "ticks": ""
            },
            "colorscale": [
             [
              0,
              "#0d0887"
             ],
             [
              0.1111111111111111,
              "#46039f"
             ],
             [
              0.2222222222222222,
              "#7201a8"
             ],
             [
              0.3333333333333333,
              "#9c179e"
             ],
             [
              0.4444444444444444,
              "#bd3786"
             ],
             [
              0.5555555555555556,
              "#d8576b"
             ],
             [
              0.6666666666666666,
              "#ed7953"
             ],
             [
              0.7777777777777778,
              "#fb9f3a"
             ],
             [
              0.8888888888888888,
              "#fdca26"
             ],
             [
              1,
              "#f0f921"
             ]
            ],
            "type": "heatmap"
           }
          ],
          "heatmapgl": [
           {
            "colorbar": {
             "outlinewidth": 0,
             "ticks": ""
            },
            "colorscale": [
             [
              0,
              "#0d0887"
             ],
             [
              0.1111111111111111,
              "#46039f"
             ],
             [
              0.2222222222222222,
              "#7201a8"
             ],
             [
              0.3333333333333333,
              "#9c179e"
             ],
             [
              0.4444444444444444,
              "#bd3786"
             ],
             [
              0.5555555555555556,
              "#d8576b"
             ],
             [
              0.6666666666666666,
              "#ed7953"
             ],
             [
              0.7777777777777778,
              "#fb9f3a"
             ],
             [
              0.8888888888888888,
              "#fdca26"
             ],
             [
              1,
              "#f0f921"
             ]
            ],
            "type": "heatmapgl"
           }
          ],
          "histogram": [
           {
            "marker": {
             "pattern": {
              "fillmode": "overlay",
              "size": 10,
              "solidity": 0.2
             }
            },
            "type": "histogram"
           }
          ],
          "histogram2d": [
           {
            "colorbar": {
             "outlinewidth": 0,
             "ticks": ""
            },
            "colorscale": [
             [
              0,
              "#0d0887"
             ],
             [
              0.1111111111111111,
              "#46039f"
             ],
             [
              0.2222222222222222,
              "#7201a8"
             ],
             [
              0.3333333333333333,
              "#9c179e"
             ],
             [
              0.4444444444444444,
              "#bd3786"
             ],
             [
              0.5555555555555556,
              "#d8576b"
             ],
             [
              0.6666666666666666,
              "#ed7953"
             ],
             [
              0.7777777777777778,
              "#fb9f3a"
             ],
             [
              0.8888888888888888,
              "#fdca26"
             ],
             [
              1,
              "#f0f921"
             ]
            ],
            "type": "histogram2d"
           }
          ],
          "histogram2dcontour": [
           {
            "colorbar": {
             "outlinewidth": 0,
             "ticks": ""
            },
            "colorscale": [
             [
              0,
              "#0d0887"
             ],
             [
              0.1111111111111111,
              "#46039f"
             ],
             [
              0.2222222222222222,
              "#7201a8"
             ],
             [
              0.3333333333333333,
              "#9c179e"
             ],
             [
              0.4444444444444444,
              "#bd3786"
             ],
             [
              0.5555555555555556,
              "#d8576b"
             ],
             [
              0.6666666666666666,
              "#ed7953"
             ],
             [
              0.7777777777777778,
              "#fb9f3a"
             ],
             [
              0.8888888888888888,
              "#fdca26"
             ],
             [
              1,
              "#f0f921"
             ]
            ],
            "type": "histogram2dcontour"
           }
          ],
          "mesh3d": [
           {
            "colorbar": {
             "outlinewidth": 0,
             "ticks": ""
            },
            "type": "mesh3d"
           }
          ],
          "parcoords": [
           {
            "line": {
             "colorbar": {
              "outlinewidth": 0,
              "ticks": ""
             }
            },
            "type": "parcoords"
           }
          ],
          "pie": [
           {
            "automargin": true,
            "type": "pie"
           }
          ],
          "scatter": [
           {
            "fillpattern": {
             "fillmode": "overlay",
             "size": 10,
             "solidity": 0.2
            },
            "type": "scatter"
           }
          ],
          "scatter3d": [
           {
            "line": {
             "colorbar": {
              "outlinewidth": 0,
              "ticks": ""
             }
            },
            "marker": {
             "colorbar": {
              "outlinewidth": 0,
              "ticks": ""
             }
            },
            "type": "scatter3d"
           }
          ],
          "scattercarpet": [
           {
            "marker": {
             "colorbar": {
              "outlinewidth": 0,
              "ticks": ""
             }
            },
            "type": "scattercarpet"
           }
          ],
          "scattergeo": [
           {
            "marker": {
             "colorbar": {
              "outlinewidth": 0,
              "ticks": ""
             }
            },
            "type": "scattergeo"
           }
          ],
          "scattergl": [
           {
            "marker": {
             "colorbar": {
              "outlinewidth": 0,
              "ticks": ""
             }
            },
            "type": "scattergl"
           }
          ],
          "scattermapbox": [
           {
            "marker": {
             "colorbar": {
              "outlinewidth": 0,
              "ticks": ""
             }
            },
            "type": "scattermapbox"
           }
          ],
          "scatterpolar": [
           {
            "marker": {
             "colorbar": {
              "outlinewidth": 0,
              "ticks": ""
             }
            },
            "type": "scatterpolar"
           }
          ],
          "scatterpolargl": [
           {
            "marker": {
             "colorbar": {
              "outlinewidth": 0,
              "ticks": ""
             }
            },
            "type": "scatterpolargl"
           }
          ],
          "scatterternary": [
           {
            "marker": {
             "colorbar": {
              "outlinewidth": 0,
              "ticks": ""
             }
            },
            "type": "scatterternary"
           }
          ],
          "surface": [
           {
            "colorbar": {
             "outlinewidth": 0,
             "ticks": ""
            },
            "colorscale": [
             [
              0,
              "#0d0887"
             ],
             [
              0.1111111111111111,
              "#46039f"
             ],
             [
              0.2222222222222222,
              "#7201a8"
             ],
             [
              0.3333333333333333,
              "#9c179e"
             ],
             [
              0.4444444444444444,
              "#bd3786"
             ],
             [
              0.5555555555555556,
              "#d8576b"
             ],
             [
              0.6666666666666666,
              "#ed7953"
             ],
             [
              0.7777777777777778,
              "#fb9f3a"
             ],
             [
              0.8888888888888888,
              "#fdca26"
             ],
             [
              1,
              "#f0f921"
             ]
            ],
            "type": "surface"
           }
          ],
          "table": [
           {
            "cells": {
             "fill": {
              "color": "#EBF0F8"
             },
             "line": {
              "color": "white"
             }
            },
            "header": {
             "fill": {
              "color": "#C8D4E3"
             },
             "line": {
              "color": "white"
             }
            },
            "type": "table"
           }
          ]
         },
         "layout": {
          "annotationdefaults": {
           "arrowcolor": "#2a3f5f",
           "arrowhead": 0,
           "arrowwidth": 1
          },
          "autotypenumbers": "strict",
          "coloraxis": {
           "colorbar": {
            "outlinewidth": 0,
            "ticks": ""
           }
          },
          "colorscale": {
           "diverging": [
            [
             0,
             "#8e0152"
            ],
            [
             0.1,
             "#c51b7d"
            ],
            [
             0.2,
             "#de77ae"
            ],
            [
             0.3,
             "#f1b6da"
            ],
            [
             0.4,
             "#fde0ef"
            ],
            [
             0.5,
             "#f7f7f7"
            ],
            [
             0.6,
             "#e6f5d0"
            ],
            [
             0.7,
             "#b8e186"
            ],
            [
             0.8,
             "#7fbc41"
            ],
            [
             0.9,
             "#4d9221"
            ],
            [
             1,
             "#276419"
            ]
           ],
           "sequential": [
            [
             0,
             "#0d0887"
            ],
            [
             0.1111111111111111,
             "#46039f"
            ],
            [
             0.2222222222222222,
             "#7201a8"
            ],
            [
             0.3333333333333333,
             "#9c179e"
            ],
            [
             0.4444444444444444,
             "#bd3786"
            ],
            [
             0.5555555555555556,
             "#d8576b"
            ],
            [
             0.6666666666666666,
             "#ed7953"
            ],
            [
             0.7777777777777778,
             "#fb9f3a"
            ],
            [
             0.8888888888888888,
             "#fdca26"
            ],
            [
             1,
             "#f0f921"
            ]
           ],
           "sequentialminus": [
            [
             0,
             "#0d0887"
            ],
            [
             0.1111111111111111,
             "#46039f"
            ],
            [
             0.2222222222222222,
             "#7201a8"
            ],
            [
             0.3333333333333333,
             "#9c179e"
            ],
            [
             0.4444444444444444,
             "#bd3786"
            ],
            [
             0.5555555555555556,
             "#d8576b"
            ],
            [
             0.6666666666666666,
             "#ed7953"
            ],
            [
             0.7777777777777778,
             "#fb9f3a"
            ],
            [
             0.8888888888888888,
             "#fdca26"
            ],
            [
             1,
             "#f0f921"
            ]
           ]
          },
          "colorway": [
           "#636efa",
           "#EF553B",
           "#00cc96",
           "#ab63fa",
           "#FFA15A",
           "#19d3f3",
           "#FF6692",
           "#B6E880",
           "#FF97FF",
           "#FECB52"
          ],
          "font": {
           "color": "#2a3f5f"
          },
          "geo": {
           "bgcolor": "white",
           "lakecolor": "white",
           "landcolor": "#E5ECF6",
           "showlakes": true,
           "showland": true,
           "subunitcolor": "white"
          },
          "hoverlabel": {
           "align": "left"
          },
          "hovermode": "closest",
          "mapbox": {
           "style": "light"
          },
          "paper_bgcolor": "white",
          "plot_bgcolor": "#E5ECF6",
          "polar": {
           "angularaxis": {
            "gridcolor": "white",
            "linecolor": "white",
            "ticks": ""
           },
           "bgcolor": "#E5ECF6",
           "radialaxis": {
            "gridcolor": "white",
            "linecolor": "white",
            "ticks": ""
           }
          },
          "scene": {
           "xaxis": {
            "backgroundcolor": "#E5ECF6",
            "gridcolor": "white",
            "gridwidth": 2,
            "linecolor": "white",
            "showbackground": true,
            "ticks": "",
            "zerolinecolor": "white"
           },
           "yaxis": {
            "backgroundcolor": "#E5ECF6",
            "gridcolor": "white",
            "gridwidth": 2,
            "linecolor": "white",
            "showbackground": true,
            "ticks": "",
            "zerolinecolor": "white"
           },
           "zaxis": {
            "backgroundcolor": "#E5ECF6",
            "gridcolor": "white",
            "gridwidth": 2,
            "linecolor": "white",
            "showbackground": true,
            "ticks": "",
            "zerolinecolor": "white"
           }
          },
          "shapedefaults": {
           "line": {
            "color": "#2a3f5f"
           }
          },
          "ternary": {
           "aaxis": {
            "gridcolor": "white",
            "linecolor": "white",
            "ticks": ""
           },
           "baxis": {
            "gridcolor": "white",
            "linecolor": "white",
            "ticks": ""
           },
           "bgcolor": "#E5ECF6",
           "caxis": {
            "gridcolor": "white",
            "linecolor": "white",
            "ticks": ""
           }
          },
          "title": {
           "x": 0.05
          },
          "xaxis": {
           "automargin": true,
           "gridcolor": "white",
           "linecolor": "white",
           "ticks": "",
           "title": {
            "standoff": 15
           },
           "zerolinecolor": "white",
           "zerolinewidth": 2
          },
          "yaxis": {
           "automargin": true,
           "gridcolor": "white",
           "linecolor": "white",
           "ticks": "",
           "title": {
            "standoff": 15
           },
           "zerolinecolor": "white",
           "zerolinewidth": 2
          }
         }
        }
       }
      }
     },
     "metadata": {},
     "output_type": "display_data"
    }
   ],
   "source": [
    "coor_cleaned = coor[coor['in'] ==True] \n",
    "\n",
    "fig = px.choropleth(\n",
    "    color_continuous_scale='tropic', #палитра цветов\n",
    "    scope='europe', # указываем что работаем только с диапазоном Европа\n",
    "    fitbounds='geojson',\n",
    "    projection = 'natural earth', # стиль отображения карты - данный лучше подходит в нашем случае\n",
    ")\n",
    "\n",
    "fig.add_scattergeo(\n",
    "  lat=coor_cleaned.latitude,\n",
    "  lon=coor_cleaned.longtitude, \n",
    "  locationmode='country names',\n",
    "  mode = 'markers',\n",
    "  marker_color = coor_cleaned.latitude,\n",
    "  customdata=coor_cleaned.sourceId,\n",
    "  texttemplate='<b style=\" font-size:12px;\">%{x}</b><br>%{customdata}',\n",
    "  hovertemplate='<b style=\" font-size:12px;\">%{lon} : %{lat}</b><br>%{customdata}',\n",
    ")\n",
    "\n",
    "fig.update_layout(\n",
    "    geo = dict(\n",
    "        showland = True,\n",
    "        countrycolor = \"gray\",\n",
    "        showlakes = True,\n",
    "        lakecolor = \"lightblue\",\n",
    "        showsubunits = True,\n",
    "        showcountries = True,\n",
    "        resolution = 50,\n",
    "     ),\n",
    ")\n",
    "\n",
    "fig.update_geos(\n",
    "  fitbounds=\"geojson\",\n",
    "  projection_type= \"natural earth2\"\n",
    ")\n",
    "\n",
    "fig.show()"
   ]
  },
  {
   "cell_type": "code",
   "execution_count": 11,
   "metadata": {},
   "outputs": [],
   "source": [
    "meteo_air_s = meteo_air[meteo_air.sourceId.isin(list(coor_cleaned.sourceId))]\n",
    "meteo_air_w = meteo_air_s[meteo_air_s['max(wind_speed P1D)'].notnull()].\\\n",
    "  groupby(['sourceId','latitude','longtitude'], as_index=False).mean()[['sourceId','max(wind_speed P1D)','latitude','longtitude']]\n",
    "meteo_air_w.columns = ['id','wspeed','latitude','longtitude']"
   ]
  },
  {
   "cell_type": "code",
   "execution_count": 12,
   "metadata": {},
   "outputs": [
    {
     "data": {
      "application/vnd.plotly.v1+json": {
       "config": {
        "plotlyServerURL": "https://plot.ly"
       },
       "data": [
        {
         "coloraxis": "coloraxis",
         "geo": "geo",
         "geojson": {
          "bbox": [
           -180,
           41.15141612402135,
           180.00000000000006,
           81.2504
          ],
          "features": [
           {
            "bbox": [
             -180,
             41.15141612402135,
             180.00000000000006,
             81.2504
            ],
            "geometry": {
             "coordinates": [
              [
               [
                [
                 180.00000000000006,
                 71.51571433642829
                ],
                [
                 180.00000000000006,
                 70.83219920854673
                ],
                [
                 178.90342499999997,
                 70.78114000000001
                ],
                [
                 178.7253,
                 71.0988
                ],
                [
                 180.00000000000006,
                 71.51571433642829
                ]
               ]
              ],
              [
               [
                [
                 48.64541000000008,
                 45.806290000000104
                ],
                [
                 47.67590999999999,
                 45.64149000000015
                ],
                [
                 46.68201000000005,
                 44.6092000000001
                ],
                [
                 47.59093999999999,
                 43.660160000000076
                ],
                [
                 47.49252000000007,
                 42.98658000000012
                ],
                [
                 48.58437000000015,
                 41.808880000000045
                ],
                [
                 48.58435339611342,
                 41.80886879162067
                ],
                [
                 47.98728315612598,
                 41.40581920019423
                ],
                [
                 47.81566572448463,
                 41.15141612402135
                ],
                [
                 47.37331546406623,
                 41.2197323675112
                ],
                [
                 46.68607059101661,
                 41.82713715266988
                ],
                [
                 46.404950799348825,
                 41.860675157227305
                ],
                [
                 45.776400000000024,
                 42.09244000000018
                ],
                [
                 45.47027916848572,
                 42.50278066666998
                ],
                [
                 44.537622918481986,
                 42.71199270280363
                ],
                [
                 43.931210000000135,
                 42.55496000000011
                ],
                [
                 43.75599000000011,
                 42.740830000000074
                ],
                [
                 42.39440000000013,
                 43.220300000000066
                ],
                [
                 40.922190000000114,
                 43.38215000000014
                ],
                [
                 40.07696495947977,
                 43.553104153002316
                ],
                [
                 39.955008579270924,
                 43.43499766699922
                ],
                [
                 38.68000000000001,
                 44.280000000000086
                ],
                [
                 37.539120000000025,
                 44.65721000000002
                ],
                [
                 36.6754600000001,
                 45.244690000000105
                ],
                [
                 37.4031700000001,
                 45.40451000000013
                ],
                [
                 38.23295000000002,
                 46.24087000000003
                ],
                [
                 37.67372,
                 46.636570000000006
                ],
                [
                 39.14767000000012,
                 47.044750000000136
                ],
                [
                 39.121200000000044,
                 47.26336000000009
                ],
                [
                 38.223538038899335,
                 47.10218984637595
                ],
                [
                 38.25511233902978,
                 47.54640045835691
                ],
                [
                 38.77057000000008,
                 47.825620000000185
                ],
                [
                 39.738277622238854,
                 47.89893707945197
                ],
                [
                 39.89562000000018,
                 48.23241000000007
                ],
                [
                 39.674649999999986,
                 48.78382000000016
                ],
                [
                 40.080789015469406,
                 49.30742991799934
                ],
                [
                 40.06904000000014,
                 49.60104999999999
                ],
                [
                 38.59498823421342,
                 49.9264619004237
                ],
                [
                 38.01063113785693,
                 49.9156615260747
                ],
                [
                 37.39345950699516,
                 50.38395335550365
                ],
                [
                 36.62616784032542,
                 50.225590928745135
                ],
                [
                 35.356116163887975,
                 50.57719737405904
                ],
                [
                 35.377909999999986,
                 50.773940000000096
                ],
                [
                 35.02218305841791,
                 51.2075723333715
                ],
                [
                 34.22481570815427,
                 51.25599315042888
                ],
                [
                 34.141978387190534,
                 51.566413479206346
                ],
                [
                 34.39173058445709,
                 51.768881740925906
                ],
                [
                 33.75269982273579,
                 52.3350745713318
                ],
                [
                 32.715760532367085,
                 52.23846548116211
                ],
                [
                 32.41205813978769,
                 52.28869497334978
                ],
                [
                 32.15944000000013,
                 52.06125000000014
                ],
                [
                 31.78599244755525,
                 52.1016775699397
                ],
                [
                 31.785970000000077,
                 52.1016800000001
                ],
                [
                 31.54001834486226,
                 52.74205231384636
                ],
                [
                 31.305200636528014,
                 53.07399587667321
                ],
                [
                 31.49763999999999,
                 53.16743000000014
                ],
                [
                 32.30451948418823,
                 53.13272614197291
                ],
                [
                 32.69364301934604,
                 53.35142080343218
                ],
                [
                 32.405598585751164,
                 53.61804535584204
                ],
                [
                 31.731272820774507,
                 53.79402944601202
                ],
                [
                 31.79142418796224,
                 53.974638576872124
                ],
                [
                 31.38447228366374,
                 54.15705638286238
                ],
                [
                 30.75753380709872,
                 54.81177094178432
                ],
                [
                 30.971835971813135,
                 55.08154775656404
                ],
                [
                 30.87390913262001,
                 55.55097646750341
                ],
                [
                 29.896294386522356,
                 55.78946320253041
                ],
                [
                 29.371571893030673,
                 55.670090643936184
                ],
                [
                 29.229513380660308,
                 55.91834422466636
                ],
                [
                 28.17670942557794,
                 56.16912995057879
                ],
                [
                 27.855282016722526,
                 56.75932648378429
                ],
                [
                 27.77001590344093,
                 57.24425812441123
                ],
                [
                 27.288184848751513,
                 57.47452830670383
                ],
                [
                 27.71668582531572,
                 57.79189911562436
                ],
                [
                 27.42015000000015,
                 58.72457000000014
                ],
                [
                 28.13169925305175,
                 59.300825100330925
                ],
                [
                 27.981120000000033,
                 59.47537000000011
                ],
                [
                 27.981126857000987,
                 59.47537333432527
                ],
                [
                 29.117700000000013,
                 60.02805000000012
                ],
                [
                 28.070001921525666,
                 60.50351912796823
                ],
                [
                 28.07000000000005,
                 60.503520000000094
                ],
                [
                 30.21110721204445,
                 61.780027777749694
                ],
                [
                 31.139991082490894,
                 62.35769277612441
                ],
                [
                 31.516092156711125,
                 62.86768748641289
                ],
                [
                 30.035872430142717,
                 63.55281362573855
                ],
                [
                 30.44468468600371,
                 64.20445343693909
                ],
                [
                 29.54442955904699,
                 64.94867157659048
                ],
                [
                 30.217650000000003,
                 65.80598
                ],
                [
                 29.054588657352326,
                 66.94428620062206
                ],
                [
                 29.97742638522061,
                 67.69829702419275
                ],
                [
                 28.445943637818658,
                 68.36461294216404
                ],
                [
                 28.591929559043194,
                 69.06477692328666
                ],
                [
                 29.399550000000033,
                 69.15692000000013
                ],
                [
                 31.101042202597625,
                 69.55810108805622
                ],
                [
                 31.10108000000008,
                 69.55811000000011
                ],
                [
                 32.13272000000018,
                 69.90595000000019
                ],
                [
                 33.77547000000004,
                 69.30142000000012
                ],
                [
                 36.51396,
                 69.06342000000006
                ],
                [
                 40.29234000000014,
                 67.93240000000003
                ],
                [
                 41.059870000000046,
                 67.45713000000012
                ],
                [
                 41.1259500000001,
                 66.79158000000007
                ],
                [
                 40.01583000000005,
                 66.26618000000013
                ],
                [
                 38.382949999999994,
                 65.9995300000001
                ],
                [
                 33.91871000000015,
                 66.75961000000001
                ],
                [
                 33.18444000000005,
                 66.63252999999997
                ],
                [
                 34.814770000000124,
                 65.90015000000017
                ],
                [
                 34.87857425307874,
                 65.4362128770482
                ],
                [
                 34.94391000000007,
                 64.41437000000019
                ],
                [
                 36.23129,
                 64.10945000000004
                ],
                [
                 37.01273000000009,
                 63.84983000000011
                ],
                [
                 37.141970000000185,
                 64.33471000000009
                ],
                [
                 36.53957903508979,
                 64.76446000000004
                ],
                [
                 37.17604000000006,
                 65.14322000000016
                ],
                [
                 39.59345000000002,
                 64.5207900000002
                ],
                [
                 40.43560000000008,
                 64.76446000000004
                ],
                [
                 39.76260000000019,
                 65.49682000000001
                ],
                [
                 42.09309000000013,
                 66.47623000000004
                ],
                [
                 43.01604000000009,
                 66.41858000000013
                ],
                [
                 43.94975000000011,
                 66.06908000000004
                ],
                [
                 44.53226000000001,
                 66.75634000000014
                ],
                [
                 43.698390000000074,
                 67.35245000000003
                ],
                [
                 44.18795000000017,
                 67.95051000000012
                ],
                [
                 43.45282000000003,
                 68.57078999999999
                ],
                [
                 46.250000000000114,
                 68.25
                ],
                [
                 46.82134000000008,
                 67.68997000000007
                ],
                [
                 45.55517000000003,
                 67.56652000000003
                ],
                [
                 45.56202000000013,
                 67.01005000000015
                ],
                [
                 46.34915000000012,
                 66.6676700000001
                ],
                [
                 47.89416000000017,
                 66.8845500000001
                ],
                [
                 48.13876000000005,
                 67.52238000000006
                ],
                [
                 50.22766000000013,
                 67.99867000000017
                ],
                [
                 53.71743000000015,
                 68.85738000000015
                ],
                [
                 54.47171000000009,
                 68.80815000000001
                ],
                [
                 53.48582000000016,
                 68.20130999999998
                ],
                [
                 54.726279999999974,
                 68.09701999999999
                ],
                [
                 55.44268000000011,
                 68.43866000000008
                ],
                [
                 57.31702000000007,
                 68.4662800000001
                ],
                [
                 58.802000000000135,
                 68.88081999999997
                ],
                [
                 59.94142000000011,
                 68.27844000000005
                ],
                [
                 61.07784000000021,
                 68.94069000000007
                ],
                [
                 60.02999999999997,
                 69.5200000000001
                ],
                [
                 60.55000000000001,
                 69.85000000000002
                ],
                [
                 63.50400000000013,
                 69.54739000000006
                ],
                [
                 64.88811500000003,
                 69.23483500000009
                ],
                [
                 68.51216000000016,
                 68.09233000000012
                ],
                [
                 69.18068000000011,
                 68.61563000000012
                ],
                [
                 68.16444000000007,
                 69.14436000000006
                ],
                [
                 68.13522,
                 69.35649000000012
                ],
                [
                 66.93008000000015,
                 69.45461000000012
                ],
                [
                 67.25976000000009,
                 69.92873000000009
                ],
                [
                 66.72492000000017,
                 70.70889000000017
                ],
                [
                 66.69466000000006,
                 71.02897000000019
                ],
                [
                 68.54006000000004,
                 71.93450000000018
                ],
                [
                 69.19636000000003,
                 72.84336000000019
                ],
                [
                 69.94,
                 73.04000000000008
                ],
                [
                 72.58754000000005,
                 72.77629000000013
                ],
                [
                 72.79603000000003,
                 72.22005999999999
                ],
                [
                 71.84811000000008,
                 71.4089800000001
                ],
                [
                 72.47010999999998,
                 71.09019000000006
                ],
                [
                 72.79188000000005,
                 70.39114000000001
                ],
                [
                 72.56470000000013,
                 69.02085
                ],
                [
                 73.66787,
                 68.40789999999998
                ],
                [
                 73.23870000000005,
                 67.74040000000002
                ],
                [
                 71.28000000000009,
                 66.3200000000001
                ],
                [
                 72.42301000000009,
                 66.17267000000021
                ],
                [
                 72.82076999999998,
                 66.53267000000005
                ],
                [
                 73.92099000000013,
                 66.78946000000013
                ],
                [
                 74.18651000000011,
                 67.28429
                ],
                [
                 75.05200000000008,
                 67.76047000000011
                ],
                [
                 74.46926000000013,
                 68.32899000000009
                ],
                [
                 74.9358400000001,
                 68.98918000000009
                ],
                [
                 73.84235999999999,
                 69.07146000000006
                ],
                [
                 73.60187000000019,
                 69.62763000000001
                ],
                [
                 74.39980000000003,
                 70.63175000000001
                ],
                [
                 73.10109999999997,
                 71.4471700000002
                ],
                [
                 74.89082000000019,
                 72.12119000000013
                ],
                [
                 74.65926000000007,
                 72.83227000000005
                ],
                [
                 75.1580100000001,
                 72.85497000000015
                ],
                [
                 75.68351000000013,
                 72.30056000000013
                ],
                [
                 75.2889800000001,
                 71.3355600000001
                ],
                [
                 76.35911000000004,
                 71.15287000000018
                ],
                [
                 75.90313000000015,
                 71.87401000000006
                ],
                [
                 77.57665000000009,
                 72.26717000000002
                ],
                [
                 79.6520200000001,
                 72.32011
                ],
                [
                 81.50000000000006,
                 71.75000000000006
                ],
                [
                 80.6107100000001,
                 72.58285000000012
                ],
                [
                 80.51109000000002,
                 73.64819999999997
                ],
                [
                 82.25000000000006,
                 73.85000000000014
                ],
                [
                 84.65526,
                 73.80591000000021
                ],
                [
                 86.82230000000015,
                 73.93688000000003
                ],
                [
                 86.00956000000002,
                 74.45967000000019
                ],
                [
                 87.16682000000014,
                 75.11643000000004
                ],
                [
                 88.31571000000008,
                 75.14393000000007
                ],
                [
                 90.26000000000005,
                 75.64000000000004
                ],
                [
                 92.90057999999999,
                 75.7733300000001
                ],
                [
                 93.23421000000008,
                 76.04720000000009
                ],
                [
                 95.86000000000018,
                 76.1400000000001
                ],
                [
                 96.67821000000009,
                 75.91548
                ],
                [
                 98.92254000000014,
                 76.44689
                ],
                [
                 100.75967000000014,
                 76.43028000000004
                ],
                [
                 101.03532000000001,
                 76.86189000000007
                ],
                [
                 101.9908400000001,
                 77.28754000000015
                ],
                [
                 104.35160000000013,
                 77.69792000000007
                ],
                [
                 106.06664000000018,
                 77.37389000000007
                ],
                [
                 104.70500000000015,
                 77.12740000000008
                ],
                [
                 106.9701300000001,
                 76.97419000000008
                ],
                [
                 107.24000000000012,
                 76.48000000000002
                ],
                [
                 108.1538000000001,
                 76.7233500000001
                ],
                [
                 111.0772600000002,
                 76.71000000000004
                ],
                [
                 113.33150999999998,
                 76.22224
                ],
                [
                 114.13417000000004,
                 75.84764000000001
                ],
                [
                 113.88539000000003,
                 75.32779000000016
                ],
                [
                 112.77918,
                 75.03186000000011
                ],
                [
                 110.15125000000012,
                 74.47673000000003
                ],
                [
                 109.40000000000003,
                 74.18000000000006
                ],
                [
                 110.63999999999999,
                 74.04000000000002
                ],
                [
                 112.11919,
                 73.78774000000016
                ],
                [
                 113.01954000000023,
                 73.97693000000015
                ],
                [
                 113.52958000000024,
                 73.33505000000014
                ],
                [
                 113.96880999999996,
                 73.59488000000005
                ],
                [
                 115.56781999999998,
                 73.75285000000008
                ],
                [
                 118.77633000000014,
                 73.58771999999999
                ],
                [
                 119.01999999999998,
                 73.12000000000006
                ],
                [
                 123.20066000000008,
                 72.97122000000007
                ],
                [
                 123.25777000000016,
                 73.73503000000005
                ],
                [
                 125.38000000000011,
                 73.56000000000006
                ],
                [
                 126.97644000000003,
                 73.56549000000012
                ],
                [
                 128.59126000000003,
                 73.0387100000001
                ],
                [
                 129.05156999999997,
                 72.39872000000008
                ],
                [
                 128.46000000000004,
                 71.98000000000002
                ],
                [
                 129.71599000000015,
                 71.19304000000011
                ],
                [
                 131.28858000000025,
                 70.78699000000012
                ],
                [
                 132.25350000000014,
                 71.83630000000011
                ],
                [
                 133.85766000000024,
                 71.3864200000001
                ],
                [
                 135.56192999999996,
                 71.65525000000014
                ],
                [
                 137.49755000000005,
                 71.3476300000001
                ],
                [
                 138.23409000000015,
                 71.62803000000002
                ],
                [
                 139.8698300000001,
                 71.48783000000014
                ],
                [
                 139.14791000000002,
                 72.41619000000014
                ],
                [
                 140.46817,
                 72.84941000000015
                ],
                [
                 149.5,
                 72.20000000000005
                ],
                [
                 150.3511800000001,
                 71.60643000000005
                ],
                [
                 152.9689000000002,
                 70.84222000000005
                ],
                [
                 157.00688000000002,
                 71.03141000000005
                ],
                [
                 158.99779,
                 70.86671999999999
                ],
                [
                 159.83031000000017,
                 70.45324000000005
                ],
                [
                 159.70866,
                 69.72198000000003
                ],
                [
                 160.9405300000003,
                 69.4372800000001
                ],
                [
                 162.27907000000005,
                 69.64204000000001
                ],
                [
                 164.05248000000006,
                 69.66823
                ],
                [
                 165.94037000000014,
                 69.47199
                ],
                [
                 167.83566999999994,
                 69.58269000000013
                ],
                [
                 169.5776300000001,
                 68.69380000000007
                ],
                [
                 170.8168800000002,
                 69.01362999999998
                ],
                [
                 170.0082000000001,
                 69.65276000000006
                ],
                [
                 170.4534500000002,
                 70.09703000000007
                ],
                [
                 173.64391000000012,
                 69.81743000000006
                ],
                [
                 175.7240300000002,
                 69.87725000000017
                ],
                [
                 178.60000000000002,
                 69.40000000000003
                ],
                [
                 180,
                 68.96363636363651
                ],
                [
                 180,
                 64.97970870219848
                ],
                [
                 179.99280999999996,
                 64.97433000000001
                ],
                [
                 178.70720000000028,
                 64.53493000000003
                ],
                [
                 177.41128000000003,
                 64.60821000000004
                ],
                [
                 178.3130000000001,
                 64.07593000000003
                ],
                [
                 178.90825000000018,
                 63.251970000000085
                ],
                [
                 179.37033999999994,
                 62.98262000000011
                ],
                [
                 179.48636,
                 62.56894
                ],
                [
                 179.22825,
                 62.304100000000176
                ],
                [
                 177.36430000000007,
                 62.52190000000007
                ],
                [
                 174.56929000000025,
                 61.769150000000025
                ],
                [
                 173.68013000000008,
                 61.652610000000095
                ],
                [
                 172.14999999999998,
                 60.94999999999999
                ],
                [
                 170.69850000000008,
                 60.33618000000013
                ],
                [
                 170.33085000000028,
                 59.881770000000074
                ],
                [
                 168.90045999999995,
                 60.57355000000007
                ],
                [
                 166.29498000000024,
                 59.78855000000016
                ],
                [
                 165.84000000000015,
                 60.160000000000025
                ],
                [
                 164.87673999999993,
                 59.731600000000014
                ],
                [
                 163.53929000000005,
                 59.86871000000002
                ],
                [
                 163.21711000000016,
                 59.211010000000044
                ],
                [
                 162.01733000000002,
                 58.24328000000003
                ],
                [
                 162.05296999999996,
                 57.83911999999998
                ],
                [
                 163.19191,
                 57.615030000000104
                ],
                [
                 163.05794000000014,
                 56.159240000000125
                ],
                [
                 162.12958000000015,
                 56.122190000000046
                ],
                [
                 161.70146,
                 55.285680000000184
                ],
                [
                 162.1174900000001,
                 54.855140000000006
                ],
                [
                 160.36877000000027,
                 54.34433000000007
                ],
                [
                 160.02173000000016,
                 53.202570000000094
                ],
                [
                 158.5309400000001,
                 52.958680000000186
                ],
                [
                 158.23118,
                 51.94269000000003
                ],
                [
                 156.78979000000027,
                 51.01105000000007
                ],
                [
                 156.42000000000007,
                 51.700000000000045
                ],
                [
                 155.99181999999996,
                 53.158950000000004
                ],
                [
                 155.43366000000003,
                 55.38103000000012
                ],
                [
                 155.9144200000003,
                 56.767920000000174
                ],
                [
                 156.75815,
                 57.36470000000003
                ],
                [
                 156.81035000000008,
                 57.832040000000006
                ],
                [
                 158.3643300000001,
                 58.055750000000046
                ],
                [
                 160.15064000000007,
                 59.31477000000007
                ],
                [
                 161.87203999999997,
                 60.343000000000075
                ],
                [
                 163.66968999999995,
                 61.1409000000001
                ],
                [
                 164.47355000000005,
                 62.550610000000006
                ],
                [
                 163.25842000000011,
                 62.46627000000012
                ],
                [
                 162.65791000000002,
                 61.64250000000004
                ],
                [
                 160.12148000000002,
                 60.544230000000084
                ],
                [
                 159.30232,
                 61.7739600000001
                ],
                [
                 156.72068000000002,
                 61.434420000000046
                ],
                [
                 154.21806000000026,
                 59.75818000000015
                ],
                [
                 155.04375000000005,
                 59.14495000000005
                ],
                [
                 152.81185000000005,
                 58.88385000000005
                ],
                [
                 151.2657300000002,
                 58.78089
                ],
                [
                 151.33815000000004,
                 59.50396000000006
                ],
                [
                 149.78371000000004,
                 59.655730000000176
                ],
                [
                 148.54480999999998,
                 59.164480000000026
                ],
                [
                 145.48721999999998,
                 59.336370000000045
                ],
                [
                 142.1978200000001,
                 59.03998000000013
                ],
                [
                 138.95848000000024,
                 57.08805000000007
                ],
                [
                 135.12618999999995,
                 54.72959000000009
                ],
                [
                 136.70171000000005,
                 54.603550000000155
                ],
                [
                 137.19342000000006,
                 53.97732000000002
                ],
                [
                 138.16470000000004,
                 53.7550100000002
                ],
                [
                 138.80462999999997,
                 54.25455000000005
                ],
                [
                 139.90151000000003,
                 54.18968000000012
                ],
                [
                 141.34531000000004,
                 53.08957000000015
                ],
                [
                 141.37923,
                 52.238770000000045
                ],
                [
                 140.59742000000017,
                 51.2396700000001
                ],
                [
                 140.51307999999995,
                 50.045530000000156
                ],
                [
                 140.0619300000002,
                 48.44671000000011
                ],
                [
                 138.5547200000002,
                 46.999649999999974
                ],
                [
                 138.21970999999996,
                 46.307950000000005
                ],
                [
                 136.86232000000007,
                 45.14350000000013
                ],
                [
                 135.51535000000013,
                 43.98900000000009
                ],
                [
                 134.86939000000018,
                 43.39821000000006
                ],
                [
                 133.53687000000025,
                 42.8114700000001
                ],
                [
                 132.90627000000006,
                 42.79849000000013
                ],
                [
                 132.27807000000018,
                 43.28456000000011
                ],
                [
                 130.93587000000014,
                 42.552740000000085
                ],
                [
                 130.78000485358513,
                 42.22001036108258
                ],
                [
                 130.78000366004676,
                 42.220007813203225
                ],
                [
                 130.77999999999997,
                 42.22000000000014
                ],
                [
                 130.77999231657833,
                 42.22000960427719
                ],
                [
                 130.6400000000001,
                 42.39500000000004
                ],
                [
                 130.63999970690955,
                 42.39502427522179
                ],
                [
                 130.63386640840974,
                 42.90301463477053
                ],
                [
                 131.1446879416149,
                 42.92998973242689
                ],
                [
                 131.28855512911548,
                 44.11151968034828
                ],
                [
                 131.02519000000018,
                 44.96796000000006
                ],
                [
                 131.8834542176595,
                 45.32116160743652
                ],
                [
                 133.09712000000013,
                 45.14409000000006
                ],
                [
                 133.76964399631288,
                 46.116926988299014
                ],
                [
                 134.1123500000001,
                 47.212480000000085
                ],
                [
                 134.50081,
                 47.57845000000009
                ],
                [
                 135.02631147678665,
                 48.478229885443874
                ],
                [
                 133.37359581922794,
                 48.18344167743487
                ],
                [
                 132.50669000000005,
                 47.78896000000003
                ],
                [
                 130.9872600000001,
                 47.79013000000003
                ],
                [
                 130.58229332898242,
                 48.72968740497614
                ],
                [
                 129.39781782442043,
                 49.44060008401544
                ],
                [
                 127.65740000000028,
                 49.760270000000105
                ],
                [
                 127.28745568248485,
                 50.73979726826548
                ],
                [
                 126.93915652883766,
                 51.35389415140592
                ],
                [
                 126.56439904185697,
                 51.7842554795327
                ],
                [
                 125.94634891164617,
                 52.79279857035698
                ],
                [
                 125.06821129771038,
                 53.16104482686886
                ],
                [
                 123.57146999999998,
                 53.45880000000005
                ],
                [
                 122.24574791879283,
                 53.431725979213695
                ],
                [
                 121.00308475147017,
                 53.25140106873119
                ],
                [
                 120.17708865771681,
                 52.75388621684124
                ],
                [
                 120.72578901579197,
                 52.516226304730935
                ],
                [
                 120.7382,
                 51.96411000000006
                ],
                [
                 120.18208000000016,
                 51.64355000000012
                ],
                [
                 119.27939000000003,
                 50.58292
                ],
                [
                 119.2884607280258,
                 50.142882798862004
                ],
                [
                 117.8792444194264,
                 49.510983384796965
                ],
                [
                 116.67880089728612,
                 49.888531399121405
                ],
                [
                 115.48569542853136,
                 49.80517731383475
                ],
                [
                 114.96210981655018,
                 50.140247300815126
                ],
                [
                 114.36245649623527,
                 50.24830272073741
                ],
                [
                 112.89773969935436,
                 49.54356537535699
                ],
                [
                 111.58123091028662,
                 49.37796824807769
                ],
                [
                 110.66201053267878,
                 49.13012807880585
                ],
                [
                 109.40244917199664,
                 49.292960516957635
                ],
                [
                 108.47516727095129,
                 49.28254771585074
                ],
                [
                 107.86817589725095,
                 49.793705145865815
                ],
                [
                 106.8888041524553,
                 50.27429596618032
                ],
                [
                 105.88659142458675,
                 50.406019192092224
                ],
                [
                 104.62158,
                 50.27532000000019
                ],
                [
                 103.67654544476022,
                 50.089966132195116
                ],
                [
                 102.25589000000008,
                 50.51056000000011
                ],
                [
                 102.06521000000004,
                 51.25991000000005
                ],
                [
                 100.88948042196262,
                 51.51685578063832
                ],
                [
                 99.98173221232354,
                 51.63400625264399
                ],
                [
                 98.86149051310034,
                 52.04736603454669
                ],
                [
                 97.82573978067431,
                 51.01099518493318
                ],
                [
                 98.23176150919156,
                 50.422400621128745
                ],
                [
                 97.25976000000014,
                 49.72605000000004
                ],
                [
                 95.8140200000002,
                 49.97746000000012
                ],
                [
                 94.81594933469873,
                 50.01343333597085
                ],
                [
                 94.14756635943559,
                 50.48053660745717
                ],
                [
                 93.10421000000002,
                 50.49529000000001
                ],
                [
                 92.23471154171968,
                 50.80217072204172
                ],
                [
                 90.71366743364068,
                 50.33181183532109
                ],
                [
                 88.80556684769552,
                 49.47052073831242
                ],
                [
                 87.75126427607671,
                 49.297197984405486
                ],
                [
                 87.35997033076265,
                 49.21498078062912
                ],
                [
                 86.82935672398963,
                 49.82667470966817
                ],
                [
                 85.54126997268247,
                 49.69285858824816
                ],
                [
                 85.11555952346203,
                 50.11730296487764
                ],
                [
                 84.41637739455308,
                 50.311399644565824
                ],
                [
                 83.93511478061885,
                 50.88924551045358
                ],
                [
                 83.38300377801238,
                 51.069182847693924
                ],
                [
                 81.94598554883993,
                 50.81219594990637
                ],
                [
                 80.56844689323549,
                 51.38833649352847
                ],
                [
                 80.03555952344169,
                 50.86475088154725
                ],
                [
                 77.80091556184425,
                 53.404414984747575
                ],
                [
                 76.52517947785475,
                 54.17700348572714
                ],
                [
                 76.89110029491343,
                 54.49052440044193
                ],
                [
                 74.38482000000016,
                 53.54685000000012
                ],
                [
                 73.42567874542044,
                 53.489810289109755
                ],
                [
                 73.5085160663844,
                 54.0356167669766
                ],
                [
                 72.22415001820218,
                 54.376655381886735
                ],
                [
                 71.18013105660941,
                 54.13328522400826
                ],
                [
                 70.86526655465514,
                 55.169733588270105
                ],
                [
                 69.06816694527288,
                 55.38525014914353
                ],
                [
                 68.16910037625883,
                 54.97039175070432
                ],
                [
                 65.66687000000002,
                 54.60125000000011
                ],
                [
                 65.17853356309593,
                 54.35422781027211
                ],
                [
                 61.43660000000017,
                 54.00625000000002
                ],
                [
                 60.978066440683165,
                 53.66499339457914
                ],
                [
                 61.699986199800605,
                 52.97999644633427
                ],
                [
                 60.73999311711458,
                 52.71998647725775
                ],
                [
                 60.92726850774028,
                 52.44754832621504
                ],
                [
                 59.967533807215545,
                 51.9604204372157
                ],
                [
                 61.58800337102417,
                 51.272658799843214
                ],
                [
                 61.337424350840934,
                 50.79907013610426
                ],
                [
                 59.93280724471549,
                 50.842194118851864
                ],
                [
                 59.642282342370606,
                 50.545442206415714
                ],
                [
                 58.363320000000044,
                 51.06364000000002
                ],
                [
                 56.77798000000013,
                 51.043550000000096
                ],
                [
                 55.71694000000002,
                 50.62171000000018
                ],
                [
                 54.532878452376224,
                 51.02623973245932
                ],
                [
                 52.32872358583097,
                 51.718652248738124
                ],
                [
                 50.76664839051216,
                 51.6927623561599
                ],
                [
                 48.70238162618102,
                 50.60512848571284
                ],
                [
                 48.57784142435753,
                 49.87475962991567
                ],
                [
                 47.54948042174931,
                 50.454698391311126
                ],
                [
                 46.75159630716274,
                 49.35600576435377
                ],
                [
                 47.04367150247651,
                 49.152038886097614
                ],
                [
                 46.46644575377627,
                 48.39415233010493
                ],
                [
                 47.31524000000013,
                 47.7158500000001
                ],
                [
                 48.05725000000001,
                 47.74377000000004
                ],
                [
                 48.694733514201744,
                 47.07562816017793
                ],
                [
                 48.59325000000018,
                 46.56104000000005
                ],
                [
                 49.10116000000011,
                 46.399330000000134
                ],
                [
                 48.64541000000008,
                 45.806290000000104
                ]
               ]
              ],
              [
               [
                [
                 95.94089500000001,
                 81.2504
                ],
                [
                 97.88385,
                 80.74697500000002
                ],
                [
                 100.186655,
                 79.780135
                ],
                [
                 99.93976,
                 78.88094
                ],
                [
                 97.75794,
                 78.75619999999999
                ],
                [
                 94.97259,
                 79.044745
                ],
                [
                 93.31288,
                 79.4265
                ],
                [
                 92.5454,
                 80.14379000000001
                ],
                [
                 91.18107000000002,
                 80.34146000000001
                ],
                [
                 93.77766000000001,
                 81.0246
                ],
                [
                 95.94089500000001,
                 81.2504
                ]
               ]
              ],
              [
               [
                [
                 105.37243000000001,
                 78.71334
                ],
                [
                 105.07547000000002,
                 78.30689
                ],
                [
                 99.43814,
                 77.921
                ],
                [
                 101.2649,
                 79.23399
                ],
                [
                 102.08635,
                 79.34641
                ],
                [
                 102.837815,
                 79.28129
                ],
                [
                 105.37243000000001,
                 78.71334
                ]
               ]
              ],
              [
               [
                [
                 141.47161499999999,
                 76.09289
                ],
                [
                 145.086285,
                 75.562625
                ],
                [
                 144.3,
                 74.82000000000001
                ],
                [
                 140.61381,
                 74.84768
                ],
                [
                 138.95544,
                 74.61148
                ],
                [
                 136.97439,
                 75.26167000000001
                ],
                [
                 137.51176,
                 75.94917
                ],
                [
                 138.831075,
                 76.13676000000001
                ],
                [
                 141.47161499999999,
                 76.09289
                ]
               ]
              ],
              [
               [
                [
                 150.73167,
                 75.08406
                ],
                [
                 149.575925,
                 74.68892
                ],
                [
                 147.977465,
                 74.778355
                ],
                [
                 146.11919,
                 75.17298
                ],
                [
                 146.358485,
                 75.49682
                ],
                [
                 148.22223,
                 75.345845
                ],
                [
                 150.73167,
                 75.08406
                ]
               ]
              ],
              [
               [
                [
                 140.81171,
                 73.76506
                ],
                [
                 142.06207,
                 73.85758
                ],
                [
                 143.48283,
                 73.47525
                ],
                [
                 143.60385,
                 73.21244
                ],
                [
                 142.08763000000002,
                 73.20544
                ],
                [
                 140.03815500000002,
                 73.31692000000001
                ],
                [
                 139.86312,
                 73.36983000000001
                ],
                [
                 140.81171,
                 73.76506
                ]
               ]
              ],
              [
               [
                [
                 46.79913862487123,
                 80.77191762971368
                ],
                [
                 48.31847741068461,
                 80.78400991486998
                ],
                [
                 48.52280602396667,
                 80.51456899690017
                ],
                [
                 49.097189568890855,
                 80.7539859077084
                ],
                [
                 50.03976769389462,
                 80.91888540315178
                ],
                [
                 51.522932977103665,
                 80.69972565380193
                ],
                [
                 51.13618655783128,
                 80.54728017854093
                ],
                [
                 49.79368452332071,
                 80.4154277615482
                ],
                [
                 48.89441124857755,
                 80.33956675894375
                ],
                [
                 48.75493655782177,
                 80.17546824820089
                ],
                [
                 47.58611901224418,
                 80.01018117951533
                ],
                [
                 46.50282596210963,
                 80.2472468126543
                ],
                [
                 47.07245527526294,
                 80.55942414012951
                ],
                [
                 44.84695804218114,
                 80.58980988231714
                ],
                [
                 46.79913862487123,
                 80.77191762971368
                ]
               ]
              ],
              [
               [
                [
                 20.892244500418627,
                 54.31252492941253
                ],
                [
                 19.660640089606403,
                 54.42608388937393
                ],
                [
                 19.888481479581287,
                 54.86616038677151
                ],
                [
                 21.268448927503467,
                 55.190481675835315
                ],
                [
                 22.315723504330577,
                 55.015298570365864
                ],
                [
                 22.75776370615526,
                 54.85657440858138
                ],
                [
                 22.65105187347254,
                 54.582740993866736
                ],
                [
                 22.731098667092652,
                 54.327536932993326
                ],
                [
                 20.892244500418627,
                 54.31252492941253
                ]
               ]
              ],
              [
               [
                [
                 55.90245893740766,
                 74.62748647734536
                ],
                [
                 55.631932814359686,
                 75.08141225859718
                ],
                [
                 57.86864383324885,
                 75.60939036732326
                ],
                [
                 61.170044386647476,
                 76.25188345000812
                ],
                [
                 64.49836836127017,
                 76.43905548776927
                ],
                [
                 66.21097700385513,
                 76.80978221303117
                ],
                [
                 68.1570597675348,
                 76.93969676381293
                ],
                [
                 68.85221113472508,
                 76.5448113064546
                ],
                [
                 68.1805725442276,
                 76.23364166940907
                ],
                [
                 64.63732628770302,
                 75.73775462513625
                ],
                [
                 61.58350752141476,
                 75.26088450794684
                ],
                [
                 58.47708214705335,
                 74.30905630156285
                ],
                [
                 56.98678551618803,
                 73.33304352486623
                ],
                [
                 55.419335971910925,
                 72.37126760526603
                ],
                [
                 55.62283776227633,
                 71.54059479439032
                ],
                [
                 57.535692579992315,
                 70.72046397570212
                ],
                [
                 56.94497928246388,
                 70.63274323188666
                ],
                [
                 53.67737511578417,
                 70.76265778266846
                ],
                [
                 53.412016635965394,
                 71.20666168892022
                ],
                [
                 51.601894565645665,
                 71.47475901965045
                ],
                [
                 51.455753615124216,
                 72.01488108996513
                ],
                [
                 52.47827518088354,
                 72.22944163684097
                ],
                [
                 52.44416873557088,
                 72.77473135038481
                ],
                [
                 54.42761355979758,
                 73.6275475124976
                ],
                [
                 53.50828982932515,
                 73.7498139513002
                ],
                [
                 55.90245893740766,
                 74.62748647734536
                ]
               ]
              ],
              [
               [
                [
                 143.2608476096321,
                 52.74076040303906
                ],
                [
                 143.23526777564763,
                 51.75666026468876
                ],
                [
                 143.64800744036285,
                 50.747600409541505
                ],
                [
                 144.6541475770856,
                 48.97639069273754
                ],
                [
                 143.1739278505172,
                 49.306551418650315
                ],
                [
                 142.55866824765013,
                 47.86157501890495
                ],
                [
                 143.53349246640403,
                 46.83672801369252
                ],
                [
                 143.50527713437265,
                 46.137907619809525
                ],
                [
                 142.74770063697383,
                 46.74076487892651
                ],
                [
                 142.09203006405454,
                 45.966755276058834
                ],
                [
                 141.906925083585,
                 46.80592886004656
                ],
                [
                 142.01844282447087,
                 47.78013296161296
                ],
                [
                 141.90444461483503,
                 48.85918854429957
                ],
                [
                 142.1358000022057,
                 49.61516307229739
                ],
                [
                 142.17998335181528,
                 50.9523424342819
                ],
                [
                 141.59407596249002,
                 51.9354348822025
                ],
                [
                 141.6825460145737,
                 53.301966457728795
                ],
                [
                 142.60693403541075,
                 53.762145087287934
                ],
                [
                 142.20974897681543,
                 54.225475979216874
                ],
                [
                 142.65478641171302,
                 54.36588084575389
                ],
                [
                 142.91461551327654,
                 53.704577541714784
                ],
                [
                 143.2608476096321,
                 52.74076040303906
                ]
               ]
              ],
              [
               [
                [
                 -175.01425000000003,
                 66.58435
                ],
                [
                 -174.33983000000003,
                 66.33556
                ],
                [
                 -174.57182,
                 67.06219
                ],
                [
                 -171.85731,
                 66.91308000000001
                ],
                [
                 -169.89958000000001,
                 65.97724
                ],
                [
                 -170.89107,
                 65.54138999999999
                ],
                [
                 -172.53025000000002,
                 65.43791
                ],
                [
                 -172.555,
                 64.46079
                ],
                [
                 -172.95533,
                 64.25269
                ],
                [
                 -173.89184,
                 64.2826
                ],
                [
                 -174.65392000000003,
                 64.63125000000001
                ],
                [
                 -175.98353,
                 64.92288
                ],
                [
                 -176.20716,
                 65.35667000000001
                ],
                [
                 -177.22266,
                 65.52024
                ],
                [
                 -178.35993000000002,
                 65.39052000000001
                ],
                [
                 -178.90332000000004,
                 65.74044
                ],
                [
                 -178.68610999999999,
                 66.11211
                ],
                [
                 -179.88377,
                 65.87456
                ],
                [
                 -179.43268,
                 65.40411
                ],
                [
                 -180,
                 64.9797087021984
                ],
                [
                 -180,
                 68.96363636363635
                ],
                [
                 -177.55000000000004,
                 68.2
                ],
                [
                 -174.92825000000002,
                 67.20589000000001
                ],
                [
                 -175.01425000000003,
                 66.58435
                ]
               ]
              ],
              [
               [
                [
                 -180,
                 70.83219920854673
                ],
                [
                 -180,
                 71.51571433642827
                ],
                [
                 -179.871875,
                 71.55762000000001
                ],
                [
                 -179.02433000000002,
                 71.55553
                ],
                [
                 -177.57794500000003,
                 71.26948
                ],
                [
                 -177.663575,
                 71.13277000000001
                ],
                [
                 -178.69378000000003,
                 70.89302
                ],
                [
                 -180,
                 70.83219920854673
                ]
               ]
              ]
             ],
             "type": "MultiPolygon"
            },
            "id": "18",
            "properties": {},
            "type": "Feature"
           }
          ],
          "type": "FeatureCollection"
         },
         "hovertemplate": "color=%{z}<extra></extra>",
         "name": "",
         "type": "choropleth",
         "z": [
          10.14939254294093,
          5.834246047049749,
          3.0272598870056497,
          12.459321120689655,
          2.385689851767389,
          4.322463600647099,
          7.724823018954099,
          4.209095063985375,
          7.692870285188592,
          11.683879573170731,
          11.560539123923624,
          10.537898686679174
         ]
        },
        {
         "customdata": [
          [
           "SN15262",
           10.14939254294093
          ],
          [
           "SN16400",
           5.834246047049749
          ],
          [
           "SN32240",
           3.0272598870056497
          ],
          [
           "SN33300",
           12.459321120689655
          ],
          [
           "SN50110",
           2.385689851767389
          ],
          [
           "SN61630",
           4.322463600647099
          ],
          [
           "SN69100",
           7.724823018954099
          ],
          [
           "SN91380",
           4.209095063985375
          ],
          [
           "SN91740",
           7.692870285188592
          ],
          [
           "SN9380",
           11.683879573170731
          ],
          [
           "SN97710",
           11.560539123923624
          ],
          [
           "SN98978",
           10.537898686679174
          ]
         ],
         "hovertemplate": "<b style=\"font-size:12px;\">%{lon} : %{lat}</b>    <br>Station: %{customdata[0]}    <br>Average Wind: %{customdata[1]:,.2} m/s",
         "lat": [
          61.674,
          62.0172,
          59.4175,
          59.7675,
          60.3372,
          62.2583,
          63.4597,
          69.3875,
          69.7887,
          62.2958,
          69.3003,
          70.3357
         ],
         "locationmode": "country names",
         "lon": [
          8.3685,
          9.2143,
          9.0287,
          7.8173,
          6.2175,
          8.2,
          10.9305,
          20.2823,
          20.9553,
          9.352,
          25.346,
          28.9648
         ],
         "marker": {
          "color": [
           10.14939254294093,
           5.834246047049749,
           3.0272598870056497,
           12.459321120689655,
           2.385689851767389,
           4.322463600647099,
           7.724823018954099,
           4.209095063985375,
           7.692870285188592,
           11.683879573170731,
           11.560539123923624,
           10.537898686679174
          ],
          "coloraxis": "coloraxis",
          "colorscale": [
           [
            0,
            "rgb(255,255,217)"
           ],
           [
            0.125,
            "rgb(237,248,177)"
           ],
           [
            0.25,
            "rgb(199,233,180)"
           ],
           [
            0.375,
            "rgb(127,205,187)"
           ],
           [
            0.5,
            "rgb(65,182,196)"
           ],
           [
            0.625,
            "rgb(29,145,192)"
           ],
           [
            0.75,
            "rgb(34,94,168)"
           ],
           [
            0.875,
            "rgb(37,52,148)"
           ],
           [
            1,
            "rgb(8,29,88)"
           ]
          ],
          "opacity": 0.99,
          "size": 15,
          "symbol": "square-x"
         },
         "mode": "markers",
         "type": "scattergeo"
        }
       ],
       "layout": {
        "coloraxis": {
         "colorbar": {
          "tickformat": ",.2",
          "ticksuffix": " м/с",
          "title": {
           "side": "right",
           "text": "Средняя скорость ветра"
          }
         },
         "colorscale": [
          [
           0,
           "rgb(255,255,217)"
          ],
          [
           0.125,
           "rgb(237,248,177)"
          ],
          [
           0.25,
           "rgb(199,233,180)"
          ],
          [
           0.375,
           "rgb(127,205,187)"
          ],
          [
           0.5,
           "rgb(65,182,196)"
          ],
          [
           0.625,
           "rgb(29,145,192)"
          ],
          [
           0.75,
           "rgb(34,94,168)"
          ],
          [
           0.875,
           "rgb(37,52,148)"
          ],
          [
           1,
           "rgb(8,29,88)"
          ]
         ]
        },
        "geo": {
         "center": {},
         "countrycolor": "gray",
         "domain": {
          "x": [
           0,
           1
          ],
          "y": [
           0,
           1
          ]
         },
         "fitbounds": "geojson",
         "lakecolor": "lightblue",
         "projection": {
          "type": "natural earth"
         },
         "resolution": 50,
         "scope": "europe",
         "showcountries": true,
         "showlakes": true,
         "showland": true,
         "showsubunits": true
        },
        "legend": {
         "tracegroupgap": 0
        },
        "margin": {
         "t": 60
        },
        "template": {
         "data": {
          "bar": [
           {
            "error_x": {
             "color": "#2a3f5f"
            },
            "error_y": {
             "color": "#2a3f5f"
            },
            "marker": {
             "line": {
              "color": "#E5ECF6",
              "width": 0.5
             },
             "pattern": {
              "fillmode": "overlay",
              "size": 10,
              "solidity": 0.2
             }
            },
            "type": "bar"
           }
          ],
          "barpolar": [
           {
            "marker": {
             "line": {
              "color": "#E5ECF6",
              "width": 0.5
             },
             "pattern": {
              "fillmode": "overlay",
              "size": 10,
              "solidity": 0.2
             }
            },
            "type": "barpolar"
           }
          ],
          "carpet": [
           {
            "aaxis": {
             "endlinecolor": "#2a3f5f",
             "gridcolor": "white",
             "linecolor": "white",
             "minorgridcolor": "white",
             "startlinecolor": "#2a3f5f"
            },
            "baxis": {
             "endlinecolor": "#2a3f5f",
             "gridcolor": "white",
             "linecolor": "white",
             "minorgridcolor": "white",
             "startlinecolor": "#2a3f5f"
            },
            "type": "carpet"
           }
          ],
          "choropleth": [
           {
            "colorbar": {
             "outlinewidth": 0,
             "ticks": ""
            },
            "type": "choropleth"
           }
          ],
          "contour": [
           {
            "colorbar": {
             "outlinewidth": 0,
             "ticks": ""
            },
            "colorscale": [
             [
              0,
              "#0d0887"
             ],
             [
              0.1111111111111111,
              "#46039f"
             ],
             [
              0.2222222222222222,
              "#7201a8"
             ],
             [
              0.3333333333333333,
              "#9c179e"
             ],
             [
              0.4444444444444444,
              "#bd3786"
             ],
             [
              0.5555555555555556,
              "#d8576b"
             ],
             [
              0.6666666666666666,
              "#ed7953"
             ],
             [
              0.7777777777777778,
              "#fb9f3a"
             ],
             [
              0.8888888888888888,
              "#fdca26"
             ],
             [
              1,
              "#f0f921"
             ]
            ],
            "type": "contour"
           }
          ],
          "contourcarpet": [
           {
            "colorbar": {
             "outlinewidth": 0,
             "ticks": ""
            },
            "type": "contourcarpet"
           }
          ],
          "heatmap": [
           {
            "colorbar": {
             "outlinewidth": 0,
             "ticks": ""
            },
            "colorscale": [
             [
              0,
              "#0d0887"
             ],
             [
              0.1111111111111111,
              "#46039f"
             ],
             [
              0.2222222222222222,
              "#7201a8"
             ],
             [
              0.3333333333333333,
              "#9c179e"
             ],
             [
              0.4444444444444444,
              "#bd3786"
             ],
             [
              0.5555555555555556,
              "#d8576b"
             ],
             [
              0.6666666666666666,
              "#ed7953"
             ],
             [
              0.7777777777777778,
              "#fb9f3a"
             ],
             [
              0.8888888888888888,
              "#fdca26"
             ],
             [
              1,
              "#f0f921"
             ]
            ],
            "type": "heatmap"
           }
          ],
          "heatmapgl": [
           {
            "colorbar": {
             "outlinewidth": 0,
             "ticks": ""
            },
            "colorscale": [
             [
              0,
              "#0d0887"
             ],
             [
              0.1111111111111111,
              "#46039f"
             ],
             [
              0.2222222222222222,
              "#7201a8"
             ],
             [
              0.3333333333333333,
              "#9c179e"
             ],
             [
              0.4444444444444444,
              "#bd3786"
             ],
             [
              0.5555555555555556,
              "#d8576b"
             ],
             [
              0.6666666666666666,
              "#ed7953"
             ],
             [
              0.7777777777777778,
              "#fb9f3a"
             ],
             [
              0.8888888888888888,
              "#fdca26"
             ],
             [
              1,
              "#f0f921"
             ]
            ],
            "type": "heatmapgl"
           }
          ],
          "histogram": [
           {
            "marker": {
             "pattern": {
              "fillmode": "overlay",
              "size": 10,
              "solidity": 0.2
             }
            },
            "type": "histogram"
           }
          ],
          "histogram2d": [
           {
            "colorbar": {
             "outlinewidth": 0,
             "ticks": ""
            },
            "colorscale": [
             [
              0,
              "#0d0887"
             ],
             [
              0.1111111111111111,
              "#46039f"
             ],
             [
              0.2222222222222222,
              "#7201a8"
             ],
             [
              0.3333333333333333,
              "#9c179e"
             ],
             [
              0.4444444444444444,
              "#bd3786"
             ],
             [
              0.5555555555555556,
              "#d8576b"
             ],
             [
              0.6666666666666666,
              "#ed7953"
             ],
             [
              0.7777777777777778,
              "#fb9f3a"
             ],
             [
              0.8888888888888888,
              "#fdca26"
             ],
             [
              1,
              "#f0f921"
             ]
            ],
            "type": "histogram2d"
           }
          ],
          "histogram2dcontour": [
           {
            "colorbar": {
             "outlinewidth": 0,
             "ticks": ""
            },
            "colorscale": [
             [
              0,
              "#0d0887"
             ],
             [
              0.1111111111111111,
              "#46039f"
             ],
             [
              0.2222222222222222,
              "#7201a8"
             ],
             [
              0.3333333333333333,
              "#9c179e"
             ],
             [
              0.4444444444444444,
              "#bd3786"
             ],
             [
              0.5555555555555556,
              "#d8576b"
             ],
             [
              0.6666666666666666,
              "#ed7953"
             ],
             [
              0.7777777777777778,
              "#fb9f3a"
             ],
             [
              0.8888888888888888,
              "#fdca26"
             ],
             [
              1,
              "#f0f921"
             ]
            ],
            "type": "histogram2dcontour"
           }
          ],
          "mesh3d": [
           {
            "colorbar": {
             "outlinewidth": 0,
             "ticks": ""
            },
            "type": "mesh3d"
           }
          ],
          "parcoords": [
           {
            "line": {
             "colorbar": {
              "outlinewidth": 0,
              "ticks": ""
             }
            },
            "type": "parcoords"
           }
          ],
          "pie": [
           {
            "automargin": true,
            "type": "pie"
           }
          ],
          "scatter": [
           {
            "fillpattern": {
             "fillmode": "overlay",
             "size": 10,
             "solidity": 0.2
            },
            "type": "scatter"
           }
          ],
          "scatter3d": [
           {
            "line": {
             "colorbar": {
              "outlinewidth": 0,
              "ticks": ""
             }
            },
            "marker": {
             "colorbar": {
              "outlinewidth": 0,
              "ticks": ""
             }
            },
            "type": "scatter3d"
           }
          ],
          "scattercarpet": [
           {
            "marker": {
             "colorbar": {
              "outlinewidth": 0,
              "ticks": ""
             }
            },
            "type": "scattercarpet"
           }
          ],
          "scattergeo": [
           {
            "marker": {
             "colorbar": {
              "outlinewidth": 0,
              "ticks": ""
             }
            },
            "type": "scattergeo"
           }
          ],
          "scattergl": [
           {
            "marker": {
             "colorbar": {
              "outlinewidth": 0,
              "ticks": ""
             }
            },
            "type": "scattergl"
           }
          ],
          "scattermapbox": [
           {
            "marker": {
             "colorbar": {
              "outlinewidth": 0,
              "ticks": ""
             }
            },
            "type": "scattermapbox"
           }
          ],
          "scatterpolar": [
           {
            "marker": {
             "colorbar": {
              "outlinewidth": 0,
              "ticks": ""
             }
            },
            "type": "scatterpolar"
           }
          ],
          "scatterpolargl": [
           {
            "marker": {
             "colorbar": {
              "outlinewidth": 0,
              "ticks": ""
             }
            },
            "type": "scatterpolargl"
           }
          ],
          "scatterternary": [
           {
            "marker": {
             "colorbar": {
              "outlinewidth": 0,
              "ticks": ""
             }
            },
            "type": "scatterternary"
           }
          ],
          "surface": [
           {
            "colorbar": {
             "outlinewidth": 0,
             "ticks": ""
            },
            "colorscale": [
             [
              0,
              "#0d0887"
             ],
             [
              0.1111111111111111,
              "#46039f"
             ],
             [
              0.2222222222222222,
              "#7201a8"
             ],
             [
              0.3333333333333333,
              "#9c179e"
             ],
             [
              0.4444444444444444,
              "#bd3786"
             ],
             [
              0.5555555555555556,
              "#d8576b"
             ],
             [
              0.6666666666666666,
              "#ed7953"
             ],
             [
              0.7777777777777778,
              "#fb9f3a"
             ],
             [
              0.8888888888888888,
              "#fdca26"
             ],
             [
              1,
              "#f0f921"
             ]
            ],
            "type": "surface"
           }
          ],
          "table": [
           {
            "cells": {
             "fill": {
              "color": "#EBF0F8"
             },
             "line": {
              "color": "white"
             }
            },
            "header": {
             "fill": {
              "color": "#C8D4E3"
             },
             "line": {
              "color": "white"
             }
            },
            "type": "table"
           }
          ]
         },
         "layout": {
          "annotationdefaults": {
           "arrowcolor": "#2a3f5f",
           "arrowhead": 0,
           "arrowwidth": 1
          },
          "autotypenumbers": "strict",
          "coloraxis": {
           "colorbar": {
            "outlinewidth": 0,
            "ticks": ""
           }
          },
          "colorscale": {
           "diverging": [
            [
             0,
             "#8e0152"
            ],
            [
             0.1,
             "#c51b7d"
            ],
            [
             0.2,
             "#de77ae"
            ],
            [
             0.3,
             "#f1b6da"
            ],
            [
             0.4,
             "#fde0ef"
            ],
            [
             0.5,
             "#f7f7f7"
            ],
            [
             0.6,
             "#e6f5d0"
            ],
            [
             0.7,
             "#b8e186"
            ],
            [
             0.8,
             "#7fbc41"
            ],
            [
             0.9,
             "#4d9221"
            ],
            [
             1,
             "#276419"
            ]
           ],
           "sequential": [
            [
             0,
             "#0d0887"
            ],
            [
             0.1111111111111111,
             "#46039f"
            ],
            [
             0.2222222222222222,
             "#7201a8"
            ],
            [
             0.3333333333333333,
             "#9c179e"
            ],
            [
             0.4444444444444444,
             "#bd3786"
            ],
            [
             0.5555555555555556,
             "#d8576b"
            ],
            [
             0.6666666666666666,
             "#ed7953"
            ],
            [
             0.7777777777777778,
             "#fb9f3a"
            ],
            [
             0.8888888888888888,
             "#fdca26"
            ],
            [
             1,
             "#f0f921"
            ]
           ],
           "sequentialminus": [
            [
             0,
             "#0d0887"
            ],
            [
             0.1111111111111111,
             "#46039f"
            ],
            [
             0.2222222222222222,
             "#7201a8"
            ],
            [
             0.3333333333333333,
             "#9c179e"
            ],
            [
             0.4444444444444444,
             "#bd3786"
            ],
            [
             0.5555555555555556,
             "#d8576b"
            ],
            [
             0.6666666666666666,
             "#ed7953"
            ],
            [
             0.7777777777777778,
             "#fb9f3a"
            ],
            [
             0.8888888888888888,
             "#fdca26"
            ],
            [
             1,
             "#f0f921"
            ]
           ]
          },
          "colorway": [
           "#636efa",
           "#EF553B",
           "#00cc96",
           "#ab63fa",
           "#FFA15A",
           "#19d3f3",
           "#FF6692",
           "#B6E880",
           "#FF97FF",
           "#FECB52"
          ],
          "font": {
           "color": "#2a3f5f"
          },
          "geo": {
           "bgcolor": "white",
           "lakecolor": "white",
           "landcolor": "#E5ECF6",
           "showlakes": true,
           "showland": true,
           "subunitcolor": "white"
          },
          "hoverlabel": {
           "align": "left"
          },
          "hovermode": "closest",
          "mapbox": {
           "style": "light"
          },
          "paper_bgcolor": "white",
          "plot_bgcolor": "#E5ECF6",
          "polar": {
           "angularaxis": {
            "gridcolor": "white",
            "linecolor": "white",
            "ticks": ""
           },
           "bgcolor": "#E5ECF6",
           "radialaxis": {
            "gridcolor": "white",
            "linecolor": "white",
            "ticks": ""
           }
          },
          "scene": {
           "xaxis": {
            "backgroundcolor": "#E5ECF6",
            "gridcolor": "white",
            "gridwidth": 2,
            "linecolor": "white",
            "showbackground": true,
            "ticks": "",
            "zerolinecolor": "white"
           },
           "yaxis": {
            "backgroundcolor": "#E5ECF6",
            "gridcolor": "white",
            "gridwidth": 2,
            "linecolor": "white",
            "showbackground": true,
            "ticks": "",
            "zerolinecolor": "white"
           },
           "zaxis": {
            "backgroundcolor": "#E5ECF6",
            "gridcolor": "white",
            "gridwidth": 2,
            "linecolor": "white",
            "showbackground": true,
            "ticks": "",
            "zerolinecolor": "white"
           }
          },
          "shapedefaults": {
           "line": {
            "color": "#2a3f5f"
           }
          },
          "ternary": {
           "aaxis": {
            "gridcolor": "white",
            "linecolor": "white",
            "ticks": ""
           },
           "baxis": {
            "gridcolor": "white",
            "linecolor": "white",
            "ticks": ""
           },
           "bgcolor": "#E5ECF6",
           "caxis": {
            "gridcolor": "white",
            "linecolor": "white",
            "ticks": ""
           }
          },
          "title": {
           "x": 0.05
          },
          "xaxis": {
           "automargin": true,
           "gridcolor": "white",
           "linecolor": "white",
           "ticks": "",
           "title": {
            "standoff": 15
           },
           "zerolinecolor": "white",
           "zerolinewidth": 2
          },
          "yaxis": {
           "automargin": true,
           "gridcolor": "white",
           "linecolor": "white",
           "ticks": "",
           "title": {
            "standoff": 15
           },
           "zerolinecolor": "white",
           "zerolinewidth": 2
          }
         }
        }
       }
      }
     },
     "metadata": {},
     "output_type": "display_data"
    }
   ],
   "source": [
    "fig = px.choropleth(\n",
    "    geojson=json, \n",
    "    scope='europe', # указываем что работаем только с диапазоном Европа\n",
    "    color_continuous_scale = 'ylgnbu', \n",
    "    color = meteo_air_w.wspeed,\n",
    "    fitbounds='geojson',\n",
    "    projection = 'natural earth', # стиль отображения карты - данный лучше подходит в нашем случае\n",
    "\n",
    ")\n",
    "\n",
    "\n",
    "\n",
    "fig.add_scattergeo(\n",
    "#   locations = covid_data_full.Country,\n",
    "  lat=meteo_air_w.latitude,\n",
    "  lon=meteo_air_w.longtitude, \n",
    "  locationmode='country names',\n",
    "  mode = 'markers',\n",
    "  marker=dict(color=meteo_air_w.wspeed,\n",
    "              colorscale='ylgnbu',\n",
    "              size=15,\n",
    "              opacity = .99,\n",
    "              coloraxis=\"coloraxis\",\n",
    "              symbol='square-x',\n",
    "  ),\n",
    "\n",
    "  customdata = np.stack((meteo_air_w.id,meteo_air_w.wspeed), axis=-1),\n",
    "\n",
    "  hovertemplate='<b style=\"font-size:12px;\">%{lon} : %{lat}</b>\\\n",
    "    <br>Station: %{customdata[0]}\\\n",
    "    <br>Average Wind: %{customdata[1]:,.2} m/s',\n",
    ")\n",
    "\n",
    "\n",
    "\n",
    "fig.update_layout(\n",
    "    geo = dict(\n",
    "        showland = True,\n",
    "        # landcolor = \"rgb(212, 212, 212)\",\n",
    "        countrycolor = \"gray\",\n",
    "        showlakes = True,\n",
    "        lakecolor = \"lightblue\",\n",
    "        showsubunits = True,\n",
    "        showcountries = True,\n",
    "        resolution = 50,\n",
    "     ),\n",
    "    coloraxis_colorbar=dict(\n",
    "        title=\"Средняя скорость ветра\", # меняем заголовок для цветного бара справа\n",
    "        title_side=\"right\", # разместим надпись справа\n",
    "        tickformat = \",.2\", # выставляем чтобы тики указывали % для более удобного восприятия\n",
    "        ticksuffix=' м/с'\n",
    "    ),      \n",
    ")\n",
    "\n",
    "\n",
    "fig.show()"
   ]
  }
 ],
 "metadata": {
  "kernelspec": {
   "display_name": "Python 3",
   "language": "python",
   "name": "python3"
  },
  "language_info": {
   "codemirror_mode": {
    "name": "ipython",
    "version": 3
   },
   "file_extension": ".py",
   "mimetype": "text/x-python",
   "name": "python",
   "nbconvert_exporter": "python",
   "pygments_lexer": "ipython3",
   "version": "3.11.0"
  },
  "orig_nbformat": 4
 },
 "nbformat": 4,
 "nbformat_minor": 2
}

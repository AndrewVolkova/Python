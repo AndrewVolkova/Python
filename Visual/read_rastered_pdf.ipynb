{
 "cells": [
  {
   "attachments": {},
   "cell_type": "markdown",
   "metadata": {},
   "source": [
    "## Что инсталлим\n",
    "\n",
    "`pip install ocrmypdf --user` <br>\n",
    "\n",
    "[ghostscript](https://ghostscript.com/releases/gsdnld.html) <br>\n",
    "[tesseract](https://github.com/UB-Mannheim/tesseract/wiki)\n"
   ]
  },
  {
   "cell_type": "code",
   "execution_count": null,
   "metadata": {},
   "outputs": [],
   "source": [
    "import pathlib\n",
    "import subprocess"
   ]
  },
  {
   "cell_type": "code",
   "execution_count": null,
   "metadata": {},
   "outputs": [],
   "source": [
    "path_curr = pathlib.Path().resolve()\n",
    "\n",
    "str(path_curr) + \"\\data\\book_fragment_rast.pdf\"\n",
    "str(path_curr)\n",
    "\n",
    "cmd_line = 'python -m ocrmypdf '+str(path_curr)+'\\\\data\\\\'+'book_fragment_rast.pdf '+str(path_curr)+'\\\\test.pdf'"
   ]
  },
  {
   "cell_type": "code",
   "execution_count": null,
   "metadata": {},
   "outputs": [],
   "source": [
    "try:\n",
    "  subprocess.run(cmd_line, shell=True, check=True)\n",
    "except Exception as inst:\n",
    "    print(type(inst))\n",
    "    print(inst.args) \n",
    "    print(inst)     "
   ]
  }
 ],
 "metadata": {
  "kernelspec": {
   "display_name": "Python 3",
   "language": "python",
   "name": "python3"
  },
  "language_info": {
   "codemirror_mode": {
    "name": "ipython",
    "version": 3
   },
   "file_extension": ".py",
   "mimetype": "text/x-python",
   "name": "python",
   "nbconvert_exporter": "python",
   "pygments_lexer": "ipython3",
   "version": "3.11.0"
  },
  "orig_nbformat": 4
 },
 "nbformat": 4,
 "nbformat_minor": 2
}

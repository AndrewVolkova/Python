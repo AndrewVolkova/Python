{
 "cells": [
  {
   "attachments": {},
   "cell_type": "markdown",
   "metadata": {},
   "source": [
    "## Что инсталлим\n",
    "\n",
    "`pip install ocrmypdf --user` <br>\n",
    "\n",
    "[ghostscript](https://ghostscript.com/releases/gsdnld.html) <br>\n",
    "[tesseract win](https://github.com/UB-Mannheim/tesseract/wiki) <br>\n",
    "tesseract linux - `sudo apt install tesseract-ocr -y`\n"
   ]
  },
  {
   "cell_type": "code",
   "execution_count": 28,
   "metadata": {},
   "outputs": [],
   "source": [
    "import pathlib\n",
    "import subprocess"
   ]
  },
  {
   "cell_type": "code",
   "execution_count": 29,
   "metadata": {},
   "outputs": [
    {
     "data": {
      "text/plain": [
       "WindowsPath('F:/Youtube/Python/Visual')"
      ]
     },
     "execution_count": 29,
     "metadata": {},
     "output_type": "execute_result"
    }
   ],
   "source": [
    "path_curr = pathlib.Path().resolve()\n",
    "path_curr"
   ]
  },
  {
   "cell_type": "code",
   "execution_count": 42,
   "metadata": {},
   "outputs": [],
   "source": [
    "full_path = str(path_curr)\n",
    "from_file = full_path + \"\\\\data\\\\book_fragment_rast.pdf\"\n",
    "to_file = full_path + \"\\\\test.pdf\""
   ]
  },
  {
   "cell_type": "code",
   "execution_count": 43,
   "metadata": {},
   "outputs": [
    {
     "data": {
      "text/plain": [
       "'python -m ocrmypdf F:\\\\Youtube\\\\Python\\\\Visual\\\\data\\\\book_fragment_rast.pdf F:\\\\Youtube\\\\Python\\\\Visual\\\\test.pdf'"
      ]
     },
     "execution_count": 43,
     "metadata": {},
     "output_type": "execute_result"
    }
   ],
   "source": [
    "\n",
    "cmd_line = 'python -m ocrmypdf '+ from_file +' '+to_file\n",
    "cmd_line\n"
   ]
  },
  {
   "cell_type": "code",
   "execution_count": 44,
   "metadata": {},
   "outputs": [],
   "source": [
    "try:\n",
    "  subprocess.run(cmd_line, shell=True, check=True)\n",
    "except Exception as inst:\n",
    "    print(type(inst))\n",
    "    print(inst.args) \n",
    "    print(inst)     "
   ]
  }
 ],
 "metadata": {
  "kernelspec": {
   "display_name": "Python 3",
   "language": "python",
   "name": "python3"
  },
  "language_info": {
   "codemirror_mode": {
    "name": "ipython",
    "version": 3
   },
   "file_extension": ".py",
   "mimetype": "text/x-python",
   "name": "python",
   "nbconvert_exporter": "python",
   "pygments_lexer": "ipython3",
   "version": "3.11.0"
  },
  "orig_nbformat": 4
 },
 "nbformat": 4,
 "nbformat_minor": 2
}

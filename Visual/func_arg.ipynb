{
 "cells": [
  {
   "cell_type": "code",
   "execution_count": 228,
   "metadata": {},
   "outputs": [],
   "source": [
    "from colorama import Fore, Back, Style"
   ]
  },
  {
   "cell_type": "code",
   "execution_count": 359,
   "metadata": {},
   "outputs": [],
   "source": [
    "fruit_list = ['Apple','banana','Melon','grape', 'banana', 'banbana']\n",
    "digits_list = [1,2,4,3,4,5,6,7,8,9,2,6,1,1,1,1,3,3]"
   ]
  },
  {
   "cell_type": "code",
   "execution_count": null,
   "metadata": {},
   "outputs": [],
   "source": [
    "A..Za..z"
   ]
  },
  {
   "cell_type": "code",
   "execution_count": 335,
   "metadata": {},
   "outputs": [
    {
     "data": {
      "text/plain": [
       "['Apple', 'Melon', 'banana', 'banana', 'banbana', 'grape']"
      ]
     },
     "execution_count": 335,
     "metadata": {},
     "output_type": "execute_result"
    }
   ],
   "source": [
    "sorted(fruit_list)"
   ]
  },
  {
   "cell_type": "code",
   "execution_count": 350,
   "metadata": {},
   "outputs": [
    {
     "data": {
      "text/plain": [
       "'apple'"
      ]
     },
     "execution_count": 350,
     "metadata": {},
     "output_type": "execute_result"
    }
   ],
   "source": [
    "str.lower('Apple')"
   ]
  },
  {
   "cell_type": "code",
   "execution_count": 342,
   "metadata": {},
   "outputs": [
    {
     "data": {
      "text/plain": [
       "['Apple', 'banana', 'banana', 'banbana', 'grape', 'Melon']"
      ]
     },
     "execution_count": 342,
     "metadata": {},
     "output_type": "execute_result"
    }
   ],
   "source": [
    "sorted(fruit_list, key=str.lower)"
   ]
  },
  {
   "cell_type": "code",
   "execution_count": 347,
   "metadata": {},
   "outputs": [
    {
     "data": {
      "text/plain": [
       "<function __main__.<lambda>(x)>"
      ]
     },
     "execution_count": 347,
     "metadata": {},
     "output_type": "execute_result"
    }
   ],
   "source": [
    "func = lambda x: x.lower().replace('a','bb')\n",
    "func"
   ]
  },
  {
   "cell_type": "code",
   "execution_count": 337,
   "metadata": {},
   "outputs": [
    {
     "data": {
      "text/plain": [
       "['banbana', 'banana', 'banana', 'Apple', 'grape', 'Melon']"
      ]
     },
     "execution_count": 337,
     "metadata": {},
     "output_type": "execute_result"
    }
   ],
   "source": [
    "sorted(fruit_list, key=lambda x: x.lower().replace('a','bb'))"
   ]
  },
  {
   "cell_type": "code",
   "execution_count": 351,
   "metadata": {},
   "outputs": [
    {
     "data": {
      "text/plain": [
       "['Apple', 'banana', 'Melon', 'grape', 'banana', 'banbana']"
      ]
     },
     "execution_count": 351,
     "metadata": {},
     "output_type": "execute_result"
    }
   ],
   "source": [
    "fruit_list"
   ]
  },
  {
   "cell_type": "code",
   "execution_count": 352,
   "metadata": {},
   "outputs": [
    {
     "data": {
      "text/plain": [
       "{0: 'apple', 1: 'banana', 2: 'melon', 3: 'grape', 4: 'banana', 5: 'banbana'}"
      ]
     },
     "execution_count": 352,
     "metadata": {},
     "output_type": "execute_result"
    }
   ],
   "source": [
    "{idx: str.lower(el) for idx, el in enumerate(fruit_list)}"
   ]
  },
  {
   "cell_type": "code",
   "execution_count": 297,
   "metadata": {},
   "outputs": [],
   "source": [
    "def sort_our(to_sort, key):\n",
    "  tmp_sort = {idx: key(el) for idx, el in enumerate(to_sort)}\n",
    "  print(f'{Fore.LIGHTBLUE_EX}1 шаг. До сортировки: {Fore.LIGHTYELLOW_EX}{to_sort}')\n",
    "  print(f'{Fore.LIGHTBLUE_EX}2 шаг. Cловарь из списка: {Fore.LIGHTYELLOW_EX}{tmp_sort}')\n",
    "  print(f'{Fore.LIGHTBLUE_EX}3 шаг. Отсортированный словарь: {Fore.LIGHTYELLOW_EX}{(keys_sorted := sorted(tmp_sort.items(), key = lambda x : x[1]))}')\n",
    "  print(f'{Fore.LIGHTBLUE_EX}4 шаг. Ключи отсортированного словаря: {Fore.LIGHTYELLOW_EX}{(keys_ordered := dict(keys_sorted).keys())}')\n",
    "  ordered_list = [to_sort[i] for i in keys_ordered]\n",
    "  \n",
    "  return ordered_list\n",
    "  \n",
    "\n",
    "\n",
    "\n",
    "  "
   ]
  },
  {
   "attachments": {},
   "cell_type": "markdown",
   "metadata": {},
   "source": [
    "['Apple', 'banana', 'banana', 'banbana', 'grape', 'Melon']"
   ]
  },
  {
   "cell_type": "code",
   "execution_count": 349,
   "metadata": {},
   "outputs": [
    {
     "name": "stdout",
     "output_type": "stream",
     "text": [
      "\u001b[94m1 шаг. До сортировки: \u001b[93m['Apple', 'banana', 'Melon', 'grape', 'banana', 'banbana']\n",
      "\u001b[94m2 шаг. Cловарь из списка: \u001b[93m{0: 'apple', 1: 'banana', 2: 'melon', 3: 'grape', 4: 'banana', 5: 'banbana'}\n",
      "\u001b[94m3 шаг. Отсортированный словарь: \u001b[93m[(0, 'apple'), (1, 'banana'), (4, 'banana'), (5, 'banbana'), (3, 'grape'), (2, 'melon')]\n",
      "\u001b[94m4 шаг. Ключи отсортированного словаря: \u001b[93mdict_keys([0, 1, 4, 5, 3, 2])\n"
     ]
    },
    {
     "data": {
      "text/plain": [
       "['Apple', 'banana', 'banana', 'banbana', 'grape', 'Melon']"
      ]
     },
     "execution_count": 349,
     "metadata": {},
     "output_type": "execute_result"
    }
   ],
   "source": [
    "sort_our(fruit_list, key=str.lower)"
   ]
  },
  {
   "cell_type": "code",
   "execution_count": 353,
   "metadata": {},
   "outputs": [
    {
     "name": "stdout",
     "output_type": "stream",
     "text": [
      "\u001b[94m1 шаг. До сортировки: \u001b[93m['Apple', 'banana', 'Melon', 'grape', 'banana', 'banbana']\n",
      "\u001b[94m2 шаг. Cловарь из списка: \u001b[93m{0: 'bbpple', 1: 'bbbnbbnbb', 2: 'melon', 3: 'grbbpe', 4: 'bbbnbbnbb', 5: 'bbbnbbbnbb'}\n",
      "\u001b[94m3 шаг. Отсортированный словарь: \u001b[93m[(5, 'bbbnbbbnbb'), (1, 'bbbnbbnbb'), (4, 'bbbnbbnbb'), (0, 'bbpple'), (3, 'grbbpe'), (2, 'melon')]\n",
      "\u001b[94m4 шаг. Ключи отсортированного словаря: \u001b[93mdict_keys([5, 1, 4, 0, 3, 2])\n"
     ]
    },
    {
     "data": {
      "text/plain": [
       "['banbana', 'banana', 'banana', 'Apple', 'grape', 'Melon']"
      ]
     },
     "execution_count": 353,
     "metadata": {},
     "output_type": "execute_result"
    }
   ],
   "source": [
    "sort_our(fruit_list, lambda x: x.lower().replace('a','bb'))"
   ]
  },
  {
   "cell_type": "code",
   "execution_count": 362,
   "metadata": {},
   "outputs": [
    {
     "data": {
      "text/plain": [
       "3"
      ]
     },
     "execution_count": 362,
     "metadata": {},
     "output_type": "execute_result"
    }
   ],
   "source": [
    "func = lambda x: digits_list.count(x)\n",
    "func(3)"
   ]
  },
  {
   "cell_type": "code",
   "execution_count": 360,
   "metadata": {},
   "outputs": [
    {
     "name": "stdout",
     "output_type": "stream",
     "text": [
      "\u001b[94m1 шаг. До сортировки: \u001b[93m[1, 2, 4, 3, 4, 5, 6, 7, 8, 9, 2, 6, 1, 1, 1, 1, 3, 3]\n",
      "\u001b[94m2 шаг. Cловарь из списка: \u001b[93m{0: 5, 1: 2, 2: 2, 3: 3, 4: 2, 5: 1, 6: 2, 7: 1, 8: 1, 9: 1, 10: 2, 11: 2, 12: 5, 13: 5, 14: 5, 15: 5, 16: 3, 17: 3}\n",
      "\u001b[94m3 шаг. Отсортированный словарь: \u001b[93m[(5, 1), (7, 1), (8, 1), (9, 1), (1, 2), (2, 2), (4, 2), (6, 2), (10, 2), (11, 2), (3, 3), (16, 3), (17, 3), (0, 5), (12, 5), (13, 5), (14, 5), (15, 5)]\n",
      "\u001b[94m4 шаг. Ключи отсортированного словаря: \u001b[93mdict_keys([5, 7, 8, 9, 1, 2, 4, 6, 10, 11, 3, 16, 17, 0, 12, 13, 14, 15])\n"
     ]
    },
    {
     "data": {
      "text/plain": [
       "[5, 7, 8, 9, 2, 4, 4, 6, 2, 6, 3, 3, 3, 1, 1, 1, 1, 1]"
      ]
     },
     "execution_count": 360,
     "metadata": {},
     "output_type": "execute_result"
    }
   ],
   "source": [
    "sort_our(digits_list, key = lambda x: digits_list.count(x))"
   ]
  }
 ],
 "metadata": {
  "kernelspec": {
   "display_name": "Python 3",
   "language": "python",
   "name": "python3"
  },
  "language_info": {
   "codemirror_mode": {
    "name": "ipython",
    "version": 3
   },
   "file_extension": ".py",
   "mimetype": "text/x-python",
   "name": "python",
   "nbconvert_exporter": "python",
   "pygments_lexer": "ipython3",
   "version": "3.11.0"
  },
  "orig_nbformat": 4
 },
 "nbformat": 4,
 "nbformat_minor": 2
}

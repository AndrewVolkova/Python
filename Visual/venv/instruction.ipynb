{
 "cells": [
  {
   "attachments": {},
   "cell_type": "markdown",
   "metadata": {},
   "source": [
    "<span style = \"color: lightgreen\">Создаем командное окружение в командной строке</span>\n",
    "\n",
    "* python -m venv <venv_name>\n",
    "* `пример` python -m venv myenv\n"
   ]
  },
  {
   "attachments": {},
   "cell_type": "markdown",
   "metadata": {},
   "source": [
    "<span style = \"color: lightgreen\">Активируем</span>\n",
    "\n",
    "* `Windows (cmd.exe)`: <venv_name>\\Scripts\\activate\n",
    "* `Windows (PowerShell)`: .\\<venv_name>\\Scripts\\Activate.ps1\n",
    "* `Unix или macOS`: source myenv/bin/activate"
   ]
  },
  {
   "attachments": {},
   "cell_type": "markdown",
   "metadata": {},
   "source": [
    "<span style = \"color: lightgreen\">Деактивируем</span>\n",
    "\n",
    "* deactivate"
   ]
  },
  {
   "attachments": {},
   "cell_type": "markdown",
   "metadata": {},
   "source": [
    "<span style = \"color: lightgreen\">Получение списка установленных библиотек</span>\n",
    "\n",
    "* pip freeze\n",
    "* pip freeze > requirements.txt\n"
   ]
  },
  {
   "attachments": {},
   "cell_type": "markdown",
   "metadata": {},
   "source": [
    "<span style = \"color: lightgreen\">Установка виртуального окружения из файла requirements.txt</span>\n",
    "\n",
    "* pip install -r requirements.txt\n"
   ]
  },
  {
   "attachments": {},
   "cell_type": "markdown",
   "metadata": {},
   "source": [
    "<span style = \"color: lightgreen\">Бонус - работа с версиями в requirements.txt</span>\n",
    "\n",
    "Для указания диапазона версий зависимости в файле requirements.txt, вы можете использовать операторы сравнения ==, >=, <=, <, > и указать версию или диапазон версий. \n",
    "\n",
    "Например:\n",
    "\n",
    "1. Точная версия:\n",
    "`package_name==1.2.3`\n",
    "\n",
    "2. Диапазон версий с минимальной версией:\n",
    "`package_name>=1.2.3`\n",
    "(Это установит версию package_name, начиная с 1.2.3 и выше)\n",
    "\n",
    "3. Диапазон версий с максимальной версией:\n",
    "`package_name<=2.0.0`\n",
    "(Это установит версию package_name, не превышающую 2.0.0)\n",
    "\n",
    "4. Диапазон версий с обеими границами\n",
    "`package_name>=1.0.0,<=2.0.0`\n",
    "(Это установит версию package_name в диапазоне от 1.0.0 до 2.0.0 включительно)\n",
    "\n",
    "5. Использование оператора \"не равно\"\n",
    "`package_name!=3.0.0`\n",
    "(Это укажет, что версия package_name не должна быть равной 3.0.0)\n",
    "\n",
    "6. Использование верхней границы без нижней границы\n",
    "`package_name<=4.0.0`\n",
    "(Это укажет, что версия package_name должна быть не выше 4.0.0, но не ограничивает ее минимальной версией)\n",
    "\n"
   ]
  },
  {
   "attachments": {},
   "cell_type": "markdown",
   "metadata": {},
   "source": [
    "<span style = \"color: lightgreen\">Инсталляция виртуального окружения с определенной версией Python</span>\n",
    "\n",
    "необходимо пронсталировать дополнитльную библиотеку\n",
    "`pip install virtualenv`\n",
    "\n",
    "Пример команды:\n",
    "`python -m virtualenv -p \"C:\\Program Files\\Python310\\python.exe\"  my_second_env`\n",
    "\n",
    "\n",
    "\n"
   ]
  }
 ],
 "metadata": {
  "language_info": {
   "name": "python"
  },
  "orig_nbformat": 4
 },
 "nbformat": 4,
 "nbformat_minor": 2
}

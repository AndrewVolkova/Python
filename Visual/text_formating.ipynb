{
 "cells": [
  {
   "attachments": {},
   "cell_type": "markdown",
   "metadata": {},
   "source": [
    "## 1. Форматирование строк c использованием оператора %"
   ]
  },
  {
   "cell_type": "code",
   "execution_count": 111,
   "metadata": {},
   "outputs": [],
   "source": [
    "a = 11 / 9\n",
    "b = 14 # в 10 системе исчисления\n",
    "c = 'Бананов в 16-чной сиcтеме'\n",
    "d = 1223456\n",
    "e = 12/349202\n",
    "data = {'a' : a, 'b' : b, 'c' : c, 'd' : d, 'e' : e}"
   ]
  },
  {
   "cell_type": "code",
   "execution_count": 112,
   "metadata": {},
   "outputs": [
    {
     "data": {
      "text/plain": [
       "{'a': 1.2222222222222223,\n",
       " 'b': 14,\n",
       " 'c': 'Бананов в 16-чной сиcтеме',\n",
       " 'd': 1223456,\n",
       " 'e': 3.4364064352437846e-05}"
      ]
     },
     "execution_count": 112,
     "metadata": {},
     "output_type": "execute_result"
    }
   ],
   "source": [
    "data"
   ]
  },
  {
   "attachments": {},
   "cell_type": "markdown",
   "metadata": {},
   "source": [
    "<table>\n",
    "<tr>\n",
    "<td>\n",
    "%[выравнивание][флаг][ширина][.точность]тип  % переменные\n",
    "</td></tr></table>"
   ]
  },
  {
   "cell_type": "code",
   "execution_count": 113,
   "metadata": {},
   "outputs": [
    {
     "data": {
      "text/plain": [
       "1.2222222222222223"
      ]
     },
     "execution_count": 113,
     "metadata": {},
     "output_type": "execute_result"
    }
   ],
   "source": [
    "a"
   ]
  },
  {
   "cell_type": "code",
   "execution_count": 75,
   "metadata": {},
   "outputs": [
    {
     "data": {
      "text/plain": [
       "'-0.000034'"
      ]
     },
     "execution_count": 75,
     "metadata": {},
     "output_type": "execute_result"
    }
   ],
   "source": [
    "# приведение к float. параметры по умолчанию (окпугление до 6-ти знаков)\n",
    "'%f' % e"
   ]
  },
  {
   "cell_type": "code",
   "execution_count": 115,
   "metadata": {},
   "outputs": [
    {
     "data": {
      "text/plain": [
       "'            0.000034'"
      ]
     },
     "execution_count": 115,
     "metadata": {},
     "output_type": "execute_result"
    }
   ],
   "source": [
    "'%20.6f' % e"
   ]
  },
  {
   "cell_type": "code",
   "execution_count": 154,
   "metadata": {},
   "outputs": [
    {
     "data": {
      "text/plain": [
       "'+0000000000000000001'"
      ]
     },
     "execution_count": 154,
     "metadata": {},
     "output_type": "execute_result"
    }
   ],
   "source": [
    "'%+20d' % a"
   ]
  },
  {
   "cell_type": "code",
   "execution_count": null,
   "metadata": {},
   "outputs": [],
   "source": [
    "'Оля купила %d бананов, в 16-тиричной системе это %#x' % b"
   ]
  },
  {
   "cell_type": "code",
   "execution_count": 138,
   "metadata": {},
   "outputs": [
    {
     "data": {
      "text/plain": [
       "'Оля купила 14 бананов,\\n в 16-тиричной системе это 0xe'"
      ]
     },
     "execution_count": 138,
     "metadata": {},
     "output_type": "execute_result"
    }
   ],
   "source": [
    "'Оля купила %(b)d бананов,\\n в 16-тиричной системе это %(b)#x' % data"
   ]
  },
  {
   "attachments": {},
   "cell_type": "markdown",
   "metadata": {},
   "source": [
    "## 2.Форматирование строк через метод format()"
   ]
  },
  {
   "attachments": {},
   "cell_type": "markdown",
   "metadata": {},
   "source": [
    "https://docs.python.org/3/library/string.html#string.Formatter.vformat\n",
    "\n",
    "<table >\n",
    "   <tr>\n",
    "      <th>Тип</th>\n",
    "      <th>Значение</th>\n",
    "   </tr>\n",
    "   <tr>\n",
    "    <td>'b'</td>\n",
    "    <td>Двоичный формат выводы</td>\n",
    "  </tr>\n",
    "   <tr>\n",
    "    <td>'с'</td>\n",
    "    <td>Конвертирует в символ уникода согласно представленному целому числу</td>\n",
    "  </tr>\n",
    "   <tr>\n",
    "    <td>'d'</td>\n",
    "    <td>Десятичный формат вывода</td>\n",
    "  </tr>\n",
    "   <tr>\n",
    "    <td>'o'</td>\n",
    "    <td>Восьмеричный формат вывода</td>\n",
    "  </tr>\n",
    "   <tr>\n",
    "    <td>'x'</td>\n",
    "    <td>Шестнадцатиричный(Hex) формат вывода. Для цифр выше 9-ти используется приведение символов к нижнему регистру.</td>\n",
    "  </tr>\n",
    "   <tr>\n",
    "    <td>'X'</td>\n",
    "    <td>Шестнадцатиричный(Hex) формат вывода. Для цифр выше 9-ти используется приведение символов к верхнему регистру. В случае использования с '#', префикс '0x' ,будет также приведен к верхнему регистру '0X</td>\n",
    "  </tr>\n",
    "   <tr>\n",
    "    <td>'n'</td>\n",
    "    <td>Числовой формат вывода. Аналогичен 'd', за исключением, что будет использован установленные локали для указания соответстующего локали раделителя символов</td>\n",
    "  </tr>\n",
    "   <tr>\n",
    "    <td>'f'</td>\n",
    "    <td>Числовой формат вывода для чисел с плавающей точкой с указанной точностю.</td>\n",
    "  </tr>\n",
    "   <tr>\n",
    "    <td>'F'</td>\n",
    "    <td>Аналог 'f'. Отличие в том, что nan и inf укажет в верхнем регистре</td>\n",
    "  </tr>\n",
    "   <tr>\n",
    "    <td>'e'</td>\n",
    "    <td>Вывод в виде рационального числа с указанной точностью</td>\n",
    "  </tr>\n",
    "   <tr>\n",
    "    <td>'%'</td>\n",
    "    <td>Вывод в виде процентов с указанной точностью. производит умножение на 100 и приводит к формату 'f' </td>\n",
    "  </tr>\n",
    "</table>     \n"
   ]
  },
  {
   "attachments": {},
   "cell_type": "markdown",
   "metadata": {},
   "source": [
    "<table>\n",
    "<tr>\n",
    "<td>спецификация формата </td>\n",
    "<td>[[ заполнение ] выравнивание ][ знак ][\"#\"][ ширина ][ параметры группировки ][\".\" точность ][ тип ]</td>\n",
    "</tr>\n",
    "<tr>\n",
    "<td>заполнение</td>\n",
    "<td>Любой символ</td>\n",
    "</tr>\n",
    "<tr>\n",
    "<td>выравнивание</td>\n",
    "<td>\"<\" | \">\" | \"=\" | \"^\"</td>\n",
    "</tr>\n",
    "<tr>\n",
    "<td>знак</td>\n",
    "<td>\"+\" | \"-\" | \" \"</td>\n",
    "</tr>\n",
    "<tr>\n",
    "<td>ширина</td>\n",
    "<td>digit+</td>\n",
    "</tr>\n",
    "<tr>\n",
    "<td>параметры группировки</td>\n",
    "<td>\"_\" | \",\"</td>\n",
    "</tr>\n",
    "<tr>\n",
    "<td>точность</td>\n",
    "<td>digit+</td>\n",
    "</tr>\n",
    "<tr>\n",
    "<td>тип</td>\n",
    "<td>\"b\" | \"c\" | \"d\" | \"e\" | \"E\" | \"f\" | \"F\" | \"g\" | \"G\" | \"n\" | \"o\" | \"s\" | \"x\" | \"X\" | \"%\"</td>\n",
    "</tr>\n",
    "</table>\n"
   ]
  },
  {
   "cell_type": "code",
   "execution_count": 177,
   "metadata": {},
   "outputs": [
    {
     "data": {
      "text/plain": [
       "'1223456'"
      ]
     },
     "execution_count": 177,
     "metadata": {},
     "output_type": "execute_result"
    }
   ],
   "source": [
    "'{}'.format(d)"
   ]
  },
  {
   "cell_type": "code",
   "execution_count": 201,
   "metadata": {},
   "outputs": [
    {
     "data": {
      "text/plain": [
       "'1.22 14'"
      ]
     },
     "execution_count": 201,
     "metadata": {},
     "output_type": "execute_result"
    }
   ],
   "source": [
    "'{a:.2f} {b}'.format(data)"
   ]
  },
  {
   "cell_type": "code",
   "execution_count": 203,
   "metadata": {},
   "outputs": [
    {
     "data": {
      "text/plain": [
       "'1.2222222222222223 1.2222222222222223'"
      ]
     },
     "execution_count": 203,
     "metadata": {},
     "output_type": "execute_result"
    }
   ],
   "source": [
    "'{a_int} {a_int}'.format(a_int = a )"
   ]
  },
  {
   "attachments": {},
   "cell_type": "markdown",
   "metadata": {},
   "source": [
    "## 3. Форматирование строк путем f-String синтаксис"
   ]
  },
  {
   "cell_type": "code",
   "execution_count": 216,
   "metadata": {},
   "outputs": [
    {
     "data": {
      "text/plain": [
       "'1.22 БАНАНОВ В 16-ЧНОЙ СИCТЕМЕ и вот столько денег ==========+1,223,456=========='"
      ]
     },
     "execution_count": 216,
     "metadata": {},
     "output_type": "execute_result"
    }
   ],
   "source": [
    "f'{a:.2f} {c.upper()} и вот столько денег {d:=^+30,d}'"
   ]
  }
 ],
 "metadata": {
  "kernelspec": {
   "display_name": "Python 3",
   "language": "python",
   "name": "python3"
  },
  "language_info": {
   "codemirror_mode": {
    "name": "ipython",
    "version": 3
   },
   "file_extension": ".py",
   "mimetype": "text/x-python",
   "name": "python",
   "nbconvert_exporter": "python",
   "pygments_lexer": "ipython3",
   "version": "3.11.0"
  },
  "orig_nbformat": 4
 },
 "nbformat": 4,
 "nbformat_minor": 2
}

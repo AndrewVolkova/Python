{
 "cells": [
  {
   "cell_type": "code",
   "execution_count": 39,
   "metadata": {},
   "outputs": [],
   "source": [
    "fruits = ['Banana','Apple','Watermelon','Melon','Strawberry','Rasberry']"
   ]
  },
  {
   "attachments": {},
   "cell_type": "markdown",
   "metadata": {},
   "source": [
    "* for\n",
    "* list comprehension\n",
    "* map\n",
    "* list comprehension c lambda\n",
    "* map c lambda\n"
   ]
  },
  {
   "cell_type": "code",
   "execution_count": 54,
   "metadata": {},
   "outputs": [],
   "source": [
    "def func_for(fruits):\n",
    "  fruits_upper = []\n",
    "  for fruit in fruits:\n",
    "    fruits_upper.append(fruit.upper())\n",
    "  return fruits_upper  \n",
    "\n",
    "def func_comp(fruits):\n",
    "  fruits_upper = [fruit.upper() for fruit in fruits]\n",
    "  return fruits_upper  \n",
    "\n",
    "def func_map(fruits):\n",
    "  fruits_upper = [*map(str.upper, fruits)]\n",
    "  return fruits_upper  \n",
    "\n",
    "def func_comp_lambda(fruits):\n",
    "  fruits_upper = [lambda x: fruit.upper(x) for fruit in fruits]\n",
    "  return fruits_upper  \n",
    "\n",
    "def func_map_lambda(fruits):\n",
    "  fruits_upper = [*map(lambda x: str.upper(x), fruits)]\n",
    "  return fruits_upper  "
   ]
  },
  {
   "cell_type": "code",
   "execution_count": 55,
   "metadata": {},
   "outputs": [
    {
     "name": "stdout",
     "output_type": "stream",
     "text": [
      "685 ns ± 0 ns per loop (mean ± std. dev. of 1 run, 1,000,000 loops each)\n",
      "792 ns ± 0 ns per loop (mean ± std. dev. of 1 run, 1,000,000 loops each)\n",
      "573 ns ± 0 ns per loop (mean ± std. dev. of 1 run, 1,000,000 loops each)\n",
      "1.09 µs ± 0 ns per loop (mean ± std. dev. of 1 run, 1,000,000 loops each)\n",
      "1.12 µs ± 0 ns per loop (mean ± std. dev. of 1 run, 1,000,000 loops each)\n"
     ]
    }
   ],
   "source": [
    "%timeit -r 1 -n 1_000_000 func_for(fruits)\n",
    "%timeit -r 1 -n 1_000_000 func_comp(fruits)\n",
    "%timeit -r 1 -n 1_000_000 func_map(fruits)\n",
    "%timeit -r 1 -n 1_000_000 func_comp_lambda(fruits)\n",
    "%timeit -r 1 -n 1_000_000 func_map_lambda(fruits)"
   ]
  }
 ],
 "metadata": {
  "kernelspec": {
   "display_name": "Python 3",
   "language": "python",
   "name": "python3"
  },
  "language_info": {
   "codemirror_mode": {
    "name": "ipython",
    "version": 3
   },
   "file_extension": ".py",
   "mimetype": "text/x-python",
   "name": "python",
   "nbconvert_exporter": "python",
   "pygments_lexer": "ipython3",
   "version": "3.11.0"
  },
  "orig_nbformat": 4
 },
 "nbformat": 4,
 "nbformat_minor": 2
}

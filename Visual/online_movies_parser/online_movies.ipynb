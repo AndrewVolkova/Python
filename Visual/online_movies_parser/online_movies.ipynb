{
 "cells": [
  {
   "cell_type": "markdown",
   "metadata": {},
   "source": [
    "https://googlechromelabs.github.io/chrome-for-testing/\n",
    "https://github.com/BtbN/FFmpeg-Builds/releases"
   ]
  },
  {
   "cell_type": "code",
   "execution_count": 59,
   "metadata": {},
   "outputs": [],
   "source": [
    "from selenium import webdriver\n",
    "from selenium.webdriver.common.by import By\n",
    "from selenium.webdriver.chrome.service import Service\n",
    "from selenium.webdriver.chrome.options import Options\n",
    "from selenium.webdriver.support.ui import WebDriverWait\n",
    "from selenium.webdriver.support import expected_conditions as EC\n",
    "import json\n",
    "import re\n",
    "\n",
    "# Настройки Selenium\n",
    "chrome_options = Options()\n",
    "chrome_driver_path = \"f:/tools/chromedriver.exe\"  # Укажите путь к вашему chromedriver\n",
    "\n",
    "service = Service(chrome_driver_path)\n",
    "driver = webdriver.Chrome(service=service, options=chrome_options)\n",
    "\n",
    "base_url = \"https://goliak.com/season-1/episode-1\"\n",
    "driver.get(base_url)\n",
    "\n",
    "wait = WebDriverWait(driver, 10)\n",
    "wait.until(EC.presence_of_element_located((By.ID, \"content\")))  # ждем, пока загрузится контейнер\n",
    "\n",
    "# Ожидаем, пока будут загружены все div элементы внутри #content\n",
    "divs = WebDriverWait(driver, 10).until(\n",
    "    EC.presence_of_all_elements_located((By.CSS_SELECTOR, \"#content > div\"))\n",
    ")\n",
    "\n",
    "for el in divs:\n",
    "            if el.text == 'Я не робот':\n",
    "                target = el\n",
    "                break\n",
    "target.click()"
   ]
  },
  {
   "cell_type": "code",
   "execution_count": 60,
   "metadata": {},
   "outputs": [],
   "source": [
    "WebDriverWait(driver, 10).until(\n",
    "    EC.presence_of_element_located((By.TAG_NAME, \"iframe\"))\n",
    ")\n",
    "\n",
    "iframes = driver.find_elements(By.TAG_NAME, \"iframe\")\n",
    "\n",
    "for iframe in iframes:\n",
    "    driver.switch_to.frame(iframe)\n",
    "    try:\n",
    "        # Ищем элементы внутри текущего фрейма\n",
    "        element = driver.find_element(By.ID, \"inputData\")\n",
    "        all_videos = (element.get_attribute(\"textContent\"))\n",
    "    except Exception as e:\n",
    "        ...\n",
    "    driver.switch_to.default_content()"
   ]
  },
  {
   "cell_type": "code",
   "execution_count": 61,
   "metadata": {},
   "outputs": [],
   "source": [
    "series = json.loads(all_videos)"
   ]
  },
  {
   "cell_type": "code",
   "execution_count": 62,
   "metadata": {},
   "outputs": [],
   "source": [
    "base_url = \"https://goliak.com/season-\"\n",
    "episode_suf = \"/episode-\""
   ]
  },
  {
   "cell_type": "code",
   "execution_count": 63,
   "metadata": {},
   "outputs": [],
   "source": [
    "def process_episode(url):\n",
    "    print(url)\n",
    "    driver.get(url)\n",
    "    pattern_ = r\"voice=10\"\n",
    "    \n",
    "    WebDriverWait(driver, 10).until(\n",
    "        EC.presence_of_element_located((By.TAG_NAME, \"iframe\"))\n",
    "    )\n",
    "    \n",
    "    videos = driver.find_elements(By.CSS_SELECTOR, '.videos > div.tabss > ul > li')\n",
    "    \n",
    "    for video_link in videos:\n",
    "        if video_link.text == 'Кубик в Кубе':\n",
    "            video_link.click()\n",
    "    \n",
    "    iframes = driver.find_elements(By.TAG_NAME, \"iframe\")\n",
    "        \n",
    "    for iframe in iframes:\n",
    "        driver.switch_to.frame(iframe)\n",
    "        try:\n",
    "            WebDriverWait(driver, 1).until(\n",
    "                EC.presence_of_element_located((By.CLASS_NAME, \"flowplayer\"))\n",
    "            )\n",
    "            # Ищем элементы внутри текущего фрейма\n",
    "            m3u8_div = driver.find_element(By.CLASS_NAME, \"flowplayer\")\n",
    "            voice = m3u8_div.get_attribute('data-requestfull')\n",
    "            if re.search(pattern_, voice):        \n",
    "                print(m3u8 := m3u8_div.get_attribute(\"data-config\"))\n",
    "                m3u8_link = json.loads(m3u8)\n",
    "                return m3u8_link['hls']\n",
    "        except Exception as e:\n",
    "            ...\n",
    "        driver.switch_to.default_content()\n",
    "    \n"
   ]
  },
  {
   "cell_type": "code",
   "execution_count": null,
   "metadata": {},
   "outputs": [],
   "source": [
    "links = {}\n",
    "for season in series.keys():\n",
    "    links[season] = {}\n",
    "    for episode in series[season].keys():\n",
    "        if int(season) > 0 and int(episode) > 0:\n",
    "            print(f\"Processing {season}:{episode}\")\n",
    "            links[season][episode] = process_episode(f\"{base_url}{season}{episode_suf}{episode}/\")"
   ]
  },
  {
   "cell_type": "code",
   "execution_count": 65,
   "metadata": {},
   "outputs": [],
   "source": [
    "with open('golyak_series.json', \"w\", encoding = \"utf-8\") as json_file:\n",
    "    json.dump(links, json_file, ensure_ascii=False, indent = 4)"
   ]
  },
  {
   "cell_type": "code",
   "execution_count": 66,
   "metadata": {},
   "outputs": [
    {
     "data": {
      "text/plain": [
       "'https://s5.lomont.site/vod/films/brassic.s01e01.2019.5xrus.web.1080p_419091/hls/index.m3u8'"
      ]
     },
     "execution_count": 66,
     "metadata": {},
     "output_type": "execute_result"
    }
   ],
   "source": [
    "links['1']['1']"
   ]
  },
  {
   "cell_type": "code",
   "execution_count": null,
   "metadata": {},
   "outputs": [],
   "source": [
    "ffmpeg -i \"https://s5.lomont.site/vod/films/brassic.s01e01.2019.5xrus.web.1080p_419091/hls/index.m3u8\" -c copy -bsf:a aac_adtstoasc s1e1.mp4"
   ]
  }
 ],
 "metadata": {
  "kernelspec": {
   "display_name": "Python 3",
   "language": "python",
   "name": "python3"
  },
  "language_info": {
   "codemirror_mode": {
    "name": "ipython",
    "version": 3
   },
   "file_extension": ".py",
   "mimetype": "text/x-python",
   "name": "python",
   "nbconvert_exporter": "python",
   "pygments_lexer": "ipython3",
   "version": "3.12.0"
  }
 },
 "nbformat": 4,
 "nbformat_minor": 2
}

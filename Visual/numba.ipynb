{
 "cells": [
  {
   "attachments": {},
   "cell_type": "markdown",
   "metadata": {},
   "source": [
    "`pip install numba`\n",
    "<br>\n",
    "[документация numba](https://numba.readthedocs.io/en/stable/user/5minguide.html)"
   ]
  },
  {
   "cell_type": "code",
   "execution_count": 1,
   "metadata": {},
   "outputs": [],
   "source": [
    "from numba import njit, int32, float32\n",
    "import numpy as np\n",
    "import math\n",
    "import random"
   ]
  },
  {
   "cell_type": "code",
   "execution_count": 3,
   "metadata": {},
   "outputs": [],
   "source": [
    "x = 129298472\n",
    "y = 12345242342"
   ]
  },
  {
   "cell_type": "code",
   "execution_count": 17,
   "metadata": {},
   "outputs": [],
   "source": [
    "@njit(int32(int32,int32))\n",
    "def f(x,y):\n",
    "  return x + y"
   ]
  },
  {
   "cell_type": "code",
   "execution_count": 18,
   "metadata": {},
   "outputs": [
    {
     "data": {
      "text/plain": [
       "3"
      ]
     },
     "execution_count": 18,
     "metadata": {},
     "output_type": "execute_result"
    }
   ],
   "source": [
    "f(1.9, 2.9)"
   ]
  },
  {
   "attachments": {},
   "cell_type": "markdown",
   "metadata": {},
   "source": [
    "### 1. Простая арифмитическая задача"
   ]
  },
  {
   "cell_type": "code",
   "execution_count": 16,
   "metadata": {},
   "outputs": [],
   "source": [
    "def f(x, y):\n",
    "    return x + y\n",
    "\n",
    "@njit\n",
    "def f_jit(x, y):\n",
    "    return x + y\n",
    "\n",
    "@njit(fastmath = True)\n",
    "def f_math(x, y):\n",
    "    return x + y"
   ]
  },
  {
   "cell_type": "code",
   "execution_count": 5,
   "metadata": {},
   "outputs": [],
   "source": [
    "%%capture\n",
    "f_jit(x,y)\n",
    "f_math(x,y)"
   ]
  },
  {
   "cell_type": "code",
   "execution_count": 6,
   "metadata": {},
   "outputs": [
    {
     "name": "stdout",
     "output_type": "stream",
     "text": [
      "123 ns ± 7.21 ns per loop (mean ± std. dev. of 7 runs, 10,000,000 loops each)\n",
      "267 ns ± 13.4 ns per loop (mean ± std. dev. of 7 runs, 1,000,000 loops each)\n",
      "258 ns ± 24.5 ns per loop (mean ± std. dev. of 7 runs, 1,000,000 loops each)\n",
      "0.46\n",
      "0.48\n"
     ]
    }
   ],
   "source": [
    "\n",
    "f_time = %timeit -o f(x,y)\n",
    "f_time_jit = %timeit -o f_jit(x,y)\n",
    "f_time_math= %timeit -o f_math(x,y)\n",
    "\n",
    "print(f'{f_time.average / f_time_jit.average :.2f}')\n",
    "print(f'{f_time.average / f_time_math.average :.2f}')"
   ]
  },
  {
   "attachments": {},
   "cell_type": "markdown",
   "metadata": {},
   "source": [
    "### 2. Более сложная арифмитическая задача"
   ]
  },
  {
   "cell_type": "code",
   "execution_count": 7,
   "metadata": {},
   "outputs": [],
   "source": [
    "%%capture\n",
    "def f(x, y):\n",
    "    return (x * y) / y\n",
    "\n",
    "@njit\n",
    "def f_jit(x, y):\n",
    "    return (x * y) / y\n",
    "\n",
    "@njit(fastmath = True)\n",
    "def f_math(x, y):\n",
    "    return (x * y) / y\n",
    "f_jit(x,y)\n",
    "f_math(x,y)  "
   ]
  },
  {
   "cell_type": "code",
   "execution_count": 8,
   "metadata": {},
   "outputs": [
    {
     "name": "stdout",
     "output_type": "stream",
     "text": [
      "368 ns ± 12.7 ns per loop (mean ± std. dev. of 7 runs, 1,000,000 loops each)\n",
      "251 ns ± 15.4 ns per loop (mean ± std. dev. of 7 runs, 1,000,000 loops each)\n",
      "254 ns ± 15.9 ns per loop (mean ± std. dev. of 7 runs, 1,000,000 loops each)\n",
      "1.47\n",
      "1.45\n"
     ]
    }
   ],
   "source": [
    "f_time = %timeit -o f(x,y)\n",
    "f_time_jit = %timeit -o f_jit(x,y)\n",
    "f_time_math= %timeit -o f_math(x,y)\n",
    "\n",
    "print(f'{f_time.average / f_time_jit.average :.2f}')\n",
    "print(f'{f_time.average / f_time_math.average :.2f}')"
   ]
  },
  {
   "attachments": {},
   "cell_type": "markdown",
   "metadata": {},
   "source": [
    "### 3. Посложнее 2-ой арифмитической задачи"
   ]
  },
  {
   "cell_type": "code",
   "execution_count": 9,
   "metadata": {},
   "outputs": [],
   "source": [
    "%%capture\n",
    "def f(x, y):\n",
    "    return (math.cos(x) * math.tanh(y)) / y\n",
    "\n",
    "@njit\n",
    "def f_jit(x, y):\n",
    "    return (math.cos(x) * math.tanh(y)) / y\n",
    "\n",
    "@njit(fastmath = True)\n",
    "def f_math(x, y):\n",
    "    return (math.cos(x) * math.tanh(y)) / y\n",
    "\n",
    "f_jit(x,y)\n",
    "f_math(x,y)  "
   ]
  },
  {
   "cell_type": "code",
   "execution_count": 10,
   "metadata": {},
   "outputs": [
    {
     "name": "stdout",
     "output_type": "stream",
     "text": [
      "564 ns ± 38.8 ns per loop (mean ± std. dev. of 7 runs, 1,000,000 loops each)\n",
      "298 ns ± 20 ns per loop (mean ± std. dev. of 7 runs, 1,000,000 loops each)\n",
      "315 ns ± 30 ns per loop (mean ± std. dev. of 7 runs, 1,000,000 loops each)\n",
      "1.89\n",
      "1.79\n"
     ]
    }
   ],
   "source": [
    "f_time = %timeit -o f(x,y)\n",
    "f_time_jit = %timeit -o f_jit(x,y)\n",
    "f_time_math= %timeit -o f_math(x,y)\n",
    "\n",
    "print(f'{f_time.average / f_time_jit.average :.2f}')\n",
    "print(f'{f_time.average / f_time_math.average :.2f}')"
   ]
  },
  {
   "attachments": {},
   "cell_type": "markdown",
   "metadata": {},
   "source": [
    "### 4. Добавление циклов"
   ]
  },
  {
   "cell_type": "code",
   "execution_count": 12,
   "metadata": {},
   "outputs": [],
   "source": [
    "x = np.arange(10000).reshape(100, 100)"
   ]
  },
  {
   "cell_type": "code",
   "execution_count": 13,
   "metadata": {},
   "outputs": [
    {
     "data": {
      "text/plain": [
       "array([[   0,    1,    2, ...,   97,   98,   99],\n",
       "       [ 100,  101,  102, ...,  197,  198,  199],\n",
       "       [ 200,  201,  202, ...,  297,  298,  299],\n",
       "       ...,\n",
       "       [9700, 9701, 9702, ..., 9797, 9798, 9799],\n",
       "       [9800, 9801, 9802, ..., 9897, 9898, 9899],\n",
       "       [9900, 9901, 9902, ..., 9997, 9998, 9999]])"
      ]
     },
     "execution_count": 13,
     "metadata": {},
     "output_type": "execute_result"
    }
   ],
   "source": [
    "x"
   ]
  },
  {
   "cell_type": "code",
   "execution_count": 14,
   "metadata": {},
   "outputs": [],
   "source": [
    "%%capture\n",
    "def f(A):\n",
    "  acc = 0.\n",
    "  for x in A:\n",
    "    acc += math.sqrt(x)\n",
    "  return acc\n",
    "\n",
    "@njit\n",
    "def f_jit(A):\n",
    "  acc = 0.\n",
    "  for x in A:\n",
    "    acc += math.sqrt(x)\n",
    "  return acc\n",
    "\n",
    "@njit(fastmath = True)\n",
    "def f_math(A):\n",
    "  acc = 0.\n",
    "  for x in A:\n",
    "    acc += math.sqrt(x)\n",
    "  return acc\n",
    "\n",
    "f_jit(x[0])\n",
    "f_math(x[0])  "
   ]
  },
  {
   "cell_type": "code",
   "execution_count": 15,
   "metadata": {},
   "outputs": [
    {
     "name": "stdout",
     "output_type": "stream",
     "text": [
      "21 µs ± 1.58 µs per loop (mean ± std. dev. of 7 runs, 10,000 loops each)\n",
      "991 ns ± 40 ns per loop (mean ± std. dev. of 7 runs, 1,000,000 loops each)\n",
      "842 ns ± 18 ns per loop (mean ± std. dev. of 7 runs, 1,000,000 loops each)\n",
      "21.21\n",
      "24.97\n"
     ]
    }
   ],
   "source": [
    "f_time = %timeit -o f(x[0])\n",
    "f_time_jit = %timeit -o f_jit(x[0])\n",
    "f_time_math= %timeit -o f_math(x[0])\n",
    "\n",
    "print(f'{f_time.average / f_time_jit.average :.2f}')\n",
    "print(f'{f_time.average / f_time_math.average :.2f}')"
   ]
  }
 ],
 "metadata": {
  "kernelspec": {
   "display_name": "Python 3",
   "language": "python",
   "name": "python3"
  },
  "language_info": {
   "codemirror_mode": {
    "name": "ipython",
    "version": 3
   },
   "file_extension": ".py",
   "mimetype": "text/x-python",
   "name": "python",
   "nbconvert_exporter": "python",
   "pygments_lexer": "ipython3",
   "version": "3.11.0"
  },
  "orig_nbformat": 4
 },
 "nbformat": 4,
 "nbformat_minor": 2
}

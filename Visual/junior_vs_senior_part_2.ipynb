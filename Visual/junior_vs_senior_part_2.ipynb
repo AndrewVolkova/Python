{
 "cells": [
  {
   "attachments": {},
   "cell_type": "markdown",
   "metadata": {},
   "source": [
    "Задание:\n",
    "  \n",
    "Написать функцию, которая относительно типа фрукта, возвращает значение размера вознаграждения\n",
    "\n"
   ]
  },
  {
   "attachments": {},
   "cell_type": "markdown",
   "metadata": {},
   "source": [
    "### Решения, показывающие ваш уровень знания Python"
   ]
  },
  {
   "attachments": {},
   "cell_type": "markdown",
   "metadata": {},
   "source": [
    "#### 1.a Junior подход"
   ]
  },
  {
   "cell_type": "code",
   "execution_count": 94,
   "metadata": {},
   "outputs": [],
   "source": [
    "def reward_for_fruit(fruit: str) -> int:\n",
    "  if fruit == 'banana':\n",
    "    return 1\n",
    "  elif fruit == 'apple':\n",
    "    return 2\n",
    "  elif fruit == 'orange':\n",
    "    return 3\n",
    "  else:\n",
    "    raise ValueError('Несущестующий фрукт')"
   ]
  },
  {
   "attachments": {},
   "cell_type": "markdown",
   "metadata": {},
   "source": [
    "#### 1.b Senior подход Enum"
   ]
  },
  {
   "cell_type": "code",
   "execution_count": 89,
   "metadata": {},
   "outputs": [],
   "source": [
    "dictFruits = dict({\n",
    "  'banana' : 1,\n",
    "  'apple': 2,\n",
    "  'orange': 3 \n",
    "  })\n",
    "\n",
    "def reward_for_fruit_dict(fruit: str) -> int:\n",
    "  if fruit in dictFruits.keys():\n",
    "    return dictFruits[fruit]\n",
    "  else:\n",
    "    raise ValueError('Несущестующий фрукт')\n"
   ]
  },
  {
   "cell_type": "code",
   "execution_count": 53,
   "metadata": {},
   "outputs": [
    {
     "name": "stdout",
     "output_type": "stream",
     "text": [
      "841 ns ± 3.05 ns per loop (mean ± std. dev. of 2 runs, 5,000,000 loops each)\n"
     ]
    }
   ],
   "source": [
    "%%timeit -r 2 -n 5_000_000\n",
    "reward_for_fruit('banana')"
   ]
  },
  {
   "cell_type": "code",
   "execution_count": 54,
   "metadata": {},
   "outputs": [
    {
     "name": "stdout",
     "output_type": "stream",
     "text": [
      "832 ns ± 2.05 ns per loop (mean ± std. dev. of 2 runs, 5,000,000 loops each)\n"
     ]
    }
   ],
   "source": [
    "%%timeit -r 2 -n 5_000_000\n",
    "reward_for_fruit('orange')"
   ]
  },
  {
   "attachments": {},
   "cell_type": "markdown",
   "metadata": {},
   "source": [
    "#### 1.c Senior подход Enum"
   ]
  },
  {
   "cell_type": "code",
   "execution_count": 114,
   "metadata": {},
   "outputs": [],
   "source": [
    "from enum import Enum\n",
    "\n",
    "class rewardEnum(Enum):\n",
    "  banana = 1\n",
    "  apple  = 2\n",
    "  orange = 3\n",
    "\n",
    "def reward_for_fruit_enum(fruit: str) -> int:\n",
    "  if fruit in rewardEnum.__members__:\n",
    "    return rewardEnum[fruit].value\n",
    "  else:\n",
    "    raise ValueError('Несущестующий фрукт')\n"
   ]
  },
  {
   "attachments": {},
   "cell_type": "markdown",
   "metadata": {},
   "source": [
    "### 2 Мои любимые бенчмарки"
   ]
  },
  {
   "attachments": {},
   "cell_type": "markdown",
   "metadata": {},
   "source": [
    "#### 2.1 Junior способ"
   ]
  },
  {
   "cell_type": "code",
   "execution_count": 106,
   "metadata": {},
   "outputs": [
    {
     "name": "stdout",
     "output_type": "stream",
     "text": [
      "88.2 ns ± 2.81 ns per loop (mean ± std. dev. of 2 runs, 5,000,000 loops each)\n"
     ]
    }
   ],
   "source": [
    "%%timeit -r 2 -n 5_000_000\n",
    "reward_for_fruit('banana')"
   ]
  },
  {
   "cell_type": "code",
   "execution_count": 107,
   "metadata": {},
   "outputs": [
    {
     "name": "stdout",
     "output_type": "stream",
     "text": [
      "119 ns ± 1.4 ns per loop (mean ± std. dev. of 2 runs, 5,000,000 loops each)\n"
     ]
    }
   ],
   "source": [
    "%%timeit -r 2 -n 5_000_000\n",
    "reward_for_fruit('orange')"
   ]
  },
  {
   "attachments": {},
   "cell_type": "markdown",
   "metadata": {},
   "source": [
    "#### 2.2 Senior подход Dict"
   ]
  },
  {
   "cell_type": "code",
   "execution_count": 111,
   "metadata": {},
   "outputs": [
    {
     "name": "stdout",
     "output_type": "stream",
     "text": [
      "171 ns ± 6.41 ns per loop (mean ± std. dev. of 2 runs, 5,000,000 loops each)\n"
     ]
    }
   ],
   "source": [
    "%%timeit -r 2 -n 5_000_000\n",
    "reward_for_fruit_dict('banana')"
   ]
  },
  {
   "cell_type": "code",
   "execution_count": 112,
   "metadata": {},
   "outputs": [
    {
     "name": "stdout",
     "output_type": "stream",
     "text": [
      "163 ns ± 1.07 ns per loop (mean ± std. dev. of 2 runs, 5,000,000 loops each)\n"
     ]
    }
   ],
   "source": [
    "%%timeit -r 2 -n 5_000_000\n",
    "reward_for_fruit_dict('orange')"
   ]
  },
  {
   "attachments": {},
   "cell_type": "markdown",
   "metadata": {},
   "source": [
    "#### 2.3 Senior подход Enum"
   ]
  },
  {
   "cell_type": "code",
   "execution_count": 115,
   "metadata": {},
   "outputs": [
    {
     "name": "stdout",
     "output_type": "stream",
     "text": [
      "848 ns ± 20.1 ns per loop (mean ± std. dev. of 2 runs, 5,000,000 loops each)\n"
     ]
    }
   ],
   "source": [
    "%%timeit -r 2 -n 5_000_000\n",
    "reward_for_fruit_enum('banana')"
   ]
  },
  {
   "cell_type": "code",
   "execution_count": 116,
   "metadata": {},
   "outputs": [
    {
     "name": "stdout",
     "output_type": "stream",
     "text": [
      "825 ns ± 17.7 ns per loop (mean ± std. dev. of 2 runs, 5,000,000 loops each)\n"
     ]
    }
   ],
   "source": [
    "%%timeit -r 2 -n 5_000_000\n",
    "reward_for_fruit_enum('orange')"
   ]
  },
  {
   "attachments": {},
   "cell_type": "markdown",
   "metadata": {},
   "source": [
    "#### 2.4 Проверочка if else на списке поболее"
   ]
  },
  {
   "cell_type": "code",
   "execution_count": 100,
   "metadata": {},
   "outputs": [],
   "source": [
    "def reward_for_fruit_ext(fruit: str) -> int:\n",
    "  if fruit == 'banana':\n",
    "    return 1\n",
    "  elif fruit == 'apple':\n",
    "    return 2\n",
    "  elif fruit == 'apple':\n",
    "    return 3\n",
    "  elif fruit == 'apple2':\n",
    "    return 4\n",
    "  elif fruit == 'apple3':\n",
    "    return 5\n",
    "  elif fruit == 'apple4':\n",
    "    return 6\n",
    "  elif fruit == 'apple5':\n",
    "    return 7\n",
    "  elif fruit == 'apple6':\n",
    "    return 8\n",
    "  elif fruit == 'apple7':\n",
    "    return 9\n",
    "  elif fruit == 'apple8':\n",
    "    return 10\n",
    "  elif fruit == 'apple9':\n",
    "    return 11\n",
    "  elif fruit == 'apple10':\n",
    "    return 12\n",
    "  elif fruit == 'apple11':\n",
    "    return 13\n",
    "  elif fruit == 'apple12':\n",
    "    return 14\n",
    "  elif fruit == 'apple13':\n",
    "    return 15\n",
    "  elif fruit == 'apple14':\n",
    "    return 16\n",
    "  elif fruit == 'apple15':\n",
    "    return 17\n",
    "  elif fruit == 'apple16':\n",
    "    return 18\n",
    "  elif fruit == 'apple17':\n",
    "    return 19\n",
    "  elif fruit == 'orange':\n",
    "    return 20\n",
    "  else:\n",
    "    raise ValueError('Несущестующий фрукт')"
   ]
  },
  {
   "cell_type": "code",
   "execution_count": 105,
   "metadata": {},
   "outputs": [
    {
     "name": "stdout",
     "output_type": "stream",
     "text": [
      "84.2 ns ± 0.555 ns per loop (mean ± std. dev. of 2 runs, 5,000,000 loops each)\n"
     ]
    }
   ],
   "source": [
    "%%timeit -r 2 -n 5_000_000\n",
    "reward_for_fruit('banana')"
   ]
  },
  {
   "cell_type": "code",
   "execution_count": 104,
   "metadata": {},
   "outputs": [
    {
     "name": "stdout",
     "output_type": "stream",
     "text": [
      "417 ns ± 5.9 ns per loop (mean ± std. dev. of 2 runs, 5,000,000 loops each)\n"
     ]
    }
   ],
   "source": [
    "%%timeit -r 2 -n 5_000_000\n",
    "reward_for_fruit_ext('orange')"
   ]
  }
 ],
 "metadata": {
  "kernelspec": {
   "display_name": "Python 3",
   "language": "python",
   "name": "python3"
  },
  "language_info": {
   "codemirror_mode": {
    "name": "ipython",
    "version": 3
   },
   "file_extension": ".py",
   "mimetype": "text/x-python",
   "name": "python",
   "nbconvert_exporter": "python",
   "pygments_lexer": "ipython3",
   "version": "3.11.0"
  },
  "orig_nbformat": 4
 },
 "nbformat": 4,
 "nbformat_minor": 2
}

{
 "cells": [
  {
   "attachments": {},
   "cell_type": "markdown",
   "metadata": {},
   "source": [
    "pip install --upgrade translators\n",
    "\n",
    "[ссылка на библиотеку гитхаб](https://github.com/uliontse/translators) <br>\n",
    "[ссылка на pypi](https://pypi.org/project/translators/) <br>\n",
    "\n",
    "![](https://warehouse-camo.ingress.cmh1.psfhosted.org/426fd74a64fcfeadf9c6560a9a45d6da4758a3a0/68747470733a2f2f696d672e736869656c64732e696f2f707970692f707976657273696f6e732f7472616e736c61746f72732e737667)"
   ]
  },
  {
   "cell_type": "code",
   "execution_count": 12,
   "metadata": {},
   "outputs": [
    {
     "name": "stdout",
     "output_type": "stream",
     "text": [
      "Today was an extraordinary day\n"
     ]
    }
   ],
   "source": [
    "import translators as ts\n",
    "print(ts.translate_text(query_text = 'Сегодня выдался необычайный день', from_language = 'ru', to_language = 'en'))\n"
   ]
  },
  {
   "attachments": {},
   "cell_type": "markdown",
   "metadata": {},
   "source": []
  },
  {
   "attachments": {},
   "cell_type": "markdown",
   "metadata": {},
   "source": []
  },
  {
   "cell_type": "code",
   "execution_count": 14,
   "metadata": {},
   "outputs": [
    {
     "name": "stdout",
     "output_type": "stream",
     "text": [
      "35\n"
     ]
    }
   ],
   "source": [
    "print(ts.translators_pool)"
   ]
  },
  {
   "cell_type": "code",
   "execution_count": 39,
   "metadata": {},
   "outputs": [
    {
     "name": "stderr",
     "output_type": "stream",
     "text": [
      "TimeSpent(function: bing): 1.16s\n"
     ]
    },
    {
     "name": "stdout",
     "output_type": "stream",
     "text": [
      "That's the way things are\n",
      "These are the things\n"
     ]
    },
    {
     "name": "stderr",
     "output_type": "stream",
     "text": [
      "TimeSpent(function: google): 0.7s\n"
     ]
    }
   ],
   "source": [
    "params = {\n",
    "  'query_text' : 'Вот такие вот дела',\n",
    "  'from_language' : 'ru',\n",
    "  'to_language':'en',\n",
    "  'update_session_after_freq' : 1,\n",
    "  # 'if_show_time_stat' : True,\n",
    "}\n",
    "\n",
    "\n",
    "print(ts.translate_text(**params,translator = 'bing'))\n",
    "print(ts.translate_text(**params,translator = 'google'))"
   ]
  }
 ],
 "metadata": {
  "kernelspec": {
   "display_name": "Python 3",
   "language": "python",
   "name": "python3"
  },
  "language_info": {
   "codemirror_mode": {
    "name": "ipython",
    "version": 3
   },
   "file_extension": ".py",
   "mimetype": "text/x-python",
   "name": "python",
   "nbconvert_exporter": "python",
   "pygments_lexer": "ipython3",
   "version": "3.11.0"
  },
  "orig_nbformat": 4
 },
 "nbformat": 4,
 "nbformat_minor": 2
}

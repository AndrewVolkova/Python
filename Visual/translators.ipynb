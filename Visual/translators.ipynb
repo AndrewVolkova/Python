{
 "cells": [
  {
   "attachments": {},
   "cell_type": "markdown",
   "metadata": {},
   "source": [
    "pip install --upgrade translators\n",
    "\n",
    "[ссылка на библиотеку](https://github.com/uliontse/translators) <br>\n",
    "\n",
    "![](https://warehouse-camo.ingress.cmh1.psfhosted.org/426fd74a64fcfeadf9c6560a9a45d6da4758a3a0/68747470733a2f2f696d672e736869656c64732e696f2f707970692f707976657273696f6e732f7472616e736c61746f72732e737667)"
   ]
  },
  {
   "cell_type": "code",
   "execution_count": 26,
   "metadata": {},
   "outputs": [
    {
     "name": "stdout",
     "output_type": "stream",
     "text": [
      "['alibaba', 'apertium', 'argos', 'baidu', 'bing', 'caiyun', 'cloudYi', 'deepl', 'elia', 'google', 'iciba', 'iflytek', 'iflyrec', 'itranslate', 'judic', 'languageWire', 'lingvanex', 'niutrans', 'mglip', 'modernMt', 'myMemory', 'papago', 'qqFanyi', 'qqTranSmart', 'reverso', 'sogou', 'sysTran', 'tilde', 'translateCom', 'translateMe', 'utibet', 'volcEngine', 'yandex', 'yeekit', 'youdao']\n",
      "That's the way things are\n",
      "These are the things\n"
     ]
    }
   ],
   "source": [
    "import translators as ts\n",
    "\n",
    "params = {\n",
    "  'query_text' : 'Вот такие вот дела',\n",
    "  'from_language' : 'ru',\n",
    "  'to_language':'en',\n",
    "  'update_session_after_seconds' : True\n",
    "}\n",
    "\n",
    "# print(ts.translators_pool)\n",
    "print(ts.translate_text(**params,translator = 'bing'))\n",
    "print(ts.translate_text(**params,translator = 'google'))\n"
   ]
  }
 ],
 "metadata": {
  "kernelspec": {
   "display_name": "Python 3",
   "language": "python",
   "name": "python3"
  },
  "language_info": {
   "codemirror_mode": {
    "name": "ipython",
    "version": 3
   },
   "file_extension": ".py",
   "mimetype": "text/x-python",
   "name": "python",
   "nbconvert_exporter": "python",
   "pygments_lexer": "ipython3",
   "version": "3.11.0"
  },
  "orig_nbformat": 4
 },
 "nbformat": 4,
 "nbformat_minor": 2
}

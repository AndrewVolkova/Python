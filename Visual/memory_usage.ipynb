{
 "cells": [
  {
   "attachments": {},
   "cell_type": "markdown",
   "metadata": {},
   "source": [
    "### 1. Варианты импорта модулей"
   ]
  },
  {
   "cell_type": "code",
   "execution_count": 4,
   "metadata": {},
   "outputs": [],
   "source": [
    "import numpy\n",
    "# from numpy import *\n",
    "# from numpy import abs\n"
   ]
  },
  {
   "attachments": {},
   "cell_type": "markdown",
   "metadata": {},
   "source": [
    "### 2. Посмотрим, что происходит с памятью"
   ]
  },
  {
   "cell_type": "code",
   "execution_count": 5,
   "metadata": {},
   "outputs": [],
   "source": [
    "import os\n",
    "from psutil import Process\n",
    "\n",
    "def mem_used()->float:\n",
    "  proc: Process = Process(os.getpid())\n",
    "  mb : float = proc.memory_info().rss / (1024 * 1024)\n",
    "  \n",
    "  return mb"
   ]
  },
  {
   "cell_type": "code",
   "execution_count": 3,
   "metadata": {},
   "outputs": [],
   "source": [
    "# from numpy import PZERO"
   ]
  },
  {
   "cell_type": "code",
   "execution_count": null,
   "metadata": {},
   "outputs": [],
   "source": [
    "mem_before_import = mem_used()\n",
    "\n",
    "import numpy\n",
    "\n",
    "mem_after_import = mem_used()\n",
    "mem_diff = mem_after_import - mem_before_import\n",
    "\n",
    "print(f\"До импорта модуля: {mem_before_import:.2f} Mb\")\n",
    "print(f\"После импорта модуля: {mem_after_import:.2f} Mb\")\n",
    "print(f\"Разница : {mem_diff:.2f} Mb\")\n",
    "\n",
    "\n"
   ]
  }
 ],
 "metadata": {
  "kernelspec": {
   "display_name": "Python 3",
   "language": "python",
   "name": "python3"
  },
  "language_info": {
   "codemirror_mode": {
    "name": "ipython",
    "version": 3
   },
   "file_extension": ".py",
   "mimetype": "text/x-python",
   "name": "python",
   "nbconvert_exporter": "python",
   "pygments_lexer": "ipython3",
   "version": "3.11.0"
  },
  "orig_nbformat": 4
 },
 "nbformat": 4,
 "nbformat_minor": 2
}

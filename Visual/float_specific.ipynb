{
 "cells": [
  {
   "cell_type": "code",
   "execution_count": 2,
   "metadata": {},
   "outputs": [
    {
     "data": {
      "text/plain": [
       "False"
      ]
     },
     "execution_count": 2,
     "metadata": {},
     "output_type": "execute_result"
    }
   ],
   "source": [
    "def func_initial():\n",
    "  return 0.1 + 0.2 == .3\n",
    "func_initial()"
   ]
  },
  {
   "attachments": {},
   "cell_type": "markdown",
   "metadata": {},
   "source": [
    "![float](https://upload.wikimedia.org/wikipedia/commons/thumb/d/d2/Float_example.svg/885px-Float_example.svg.png)"
   ]
  },
  {
   "cell_type": "code",
   "execution_count": 3,
   "metadata": {},
   "outputs": [
    {
     "name": "stdout",
     "output_type": "stream",
     "text": [
      " 0011111110111001100110011001100110011001100110011001100110011010 \n",
      " 0011111111001001100110011001100110011001100110011001100110011010\n"
     ]
    }
   ],
   "source": [
    "import bitstring\n",
    "f1 = bitstring.BitArray(float=.1, length=64)\n",
    "f2 = bitstring.BitArray(float=.2, length=64)\n",
    "print(\"\",f1.bin,\"\\n\",f2.bin)"
   ]
  },
  {
   "cell_type": "code",
   "execution_count": 4,
   "metadata": {},
   "outputs": [],
   "source": [
    "def func_round():\n",
    "  return round((0.1 + 0.2),1) == 0.3\n",
    "\n",
    "def func_round_int():\n",
    "  return int((0.1 + 0.2)*10)/10 == 0.3\n",
    "\n",
    "import decimal\n",
    "def func_decimal():\n",
    "    D = decimal.Decimal\n",
    "    return D(str(0.1)) + D(str(0.2)) == D(str(0.3))"
   ]
  },
  {
   "cell_type": "code",
   "execution_count": 5,
   "metadata": {},
   "outputs": [
    {
     "data": {
      "text/plain": [
       "'0011111110111001100110011001100110011001100110011001100110011010'"
      ]
     },
     "execution_count": 5,
     "metadata": {},
     "output_type": "execute_result"
    }
   ],
   "source": [
    "bitstring.BitArray(float = decimal.Decimal(str(0.1)),length=64).bin"
   ]
  },
  {
   "cell_type": "code",
   "execution_count": 6,
   "metadata": {},
   "outputs": [
    {
     "name": "stdout",
     "output_type": "stream",
     "text": [
      "80.4 ns ± 4.22 ns per loop (mean ± std. dev. of 7 runs, 10,000,000 loops each)\n",
      "583 ns ± 16.4 ns per loop (mean ± std. dev. of 7 runs, 1,000,000 loops each)\n",
      "229 ns ± 11 ns per loop (mean ± std. dev. of 7 runs, 1,000,000 loops each)\n",
      "2.31 µs ± 75.6 ns per loop (mean ± std. dev. of 7 runs, 100,000 loops each)\n"
     ]
    }
   ],
   "source": [
    "a = %timeit -o func_initial()\n",
    "b = %timeit -o func_round()\n",
    "c = %timeit -o func_round_int()\n",
    "d = %timeit -o func_decimal()"
   ]
  },
  {
   "cell_type": "code",
   "execution_count": 7,
   "metadata": {},
   "outputs": [
    {
     "data": {
      "text/plain": [
       "10.083684648658378"
      ]
     },
     "execution_count": 7,
     "metadata": {},
     "output_type": "execute_result"
    }
   ],
   "source": [
    "d.average/c.average"
   ]
  }
 ],
 "metadata": {
  "kernelspec": {
   "display_name": "Python 3",
   "language": "python",
   "name": "python3"
  },
  "language_info": {
   "codemirror_mode": {
    "name": "ipython",
    "version": 3
   },
   "file_extension": ".py",
   "mimetype": "text/x-python",
   "name": "python",
   "nbconvert_exporter": "python",
   "pygments_lexer": "ipython3",
   "version": "3.11.0"
  },
  "orig_nbformat": 4
 },
 "nbformat": 4,
 "nbformat_minor": 2
}
